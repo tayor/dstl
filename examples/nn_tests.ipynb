{
 "cells": [
  {
   "cell_type": "markdown",
   "metadata": {},
   "source": [
    "Test of NN "
   ]
  },
  {
   "cell_type": "code",
   "execution_count": 1,
   "metadata": {
    "collapsed": true
   },
   "outputs": [],
   "source": [
    "# https://ipython.org/ipython-doc/3/config/extensions/autoreload.html\n",
    "%load_ext autoreload\n",
    "%autoreload 2"
   ]
  },
  {
   "cell_type": "code",
   "execution_count": 2,
   "metadata": {
    "collapsed": false
   },
   "outputs": [
    {
     "name": "stderr",
     "output_type": "stream",
     "text": [
      "/usr/local/lib/python2.7/site-packages/matplotlib/font_manager.py:273: UserWarning: Matplotlib is building the font cache using fc-list. This may take a moment.\n",
      "  warnings.warn('Matplotlib is building the font cache using fc-list. This may take a moment.')\n"
     ]
    }
   ],
   "source": [
    "import numpy as np\n",
    "import matplotlib.pylab as plt\n",
    "%matplotlib inline"
   ]
  },
  {
   "cell_type": "code",
   "execution_count": 3,
   "metadata": {
    "collapsed": false
   },
   "outputs": [
    {
     "name": "stderr",
     "output_type": "stream",
     "text": [
      "Using Theano backend.\n"
     ]
    },
    {
     "name": "stdout",
     "output_type": "stream",
     "text": [
      "Keras user configuration is setup\n"
     ]
    }
   ],
   "source": [
    "# Keras common configuration\n",
    "import os\n",
    "from keras.backend import set_image_dim_ordering\n",
    "\n",
    "os.environ['KERAS_BACKEND'] = 'theano'\n",
    "os.environ['THEANO_FLAGS'] = 'mode=FAST_RUN,device=cpu,floatX=float32,optimizer=fast_compile'\n",
    "set_image_dim_ordering('th')\n",
    "\n",
    "print(\"Keras user configuration is setup\")"
   ]
  },
  {
   "cell_type": "code",
   "execution_count": 4,
   "metadata": {
    "collapsed": false
   },
   "outputs": [
    {
     "name": "stdout",
     "output_type": "stream",
     "text": [
      "cpu\n"
     ]
    }
   ],
   "source": [
    "import theano\n",
    "print theano.config.device"
   ]
  },
  {
   "cell_type": "code",
   "execution_count": 5,
   "metadata": {
    "collapsed": false
   },
   "outputs": [],
   "source": [
    "from keras.layers import Convolution2D\n",
    "from keras.models import Sequential, Model\n",
    "from keras.optimizers import Adam"
   ]
  },
  {
   "cell_type": "markdown",
   "metadata": {},
   "source": [
    "\n",
    "What happens between image channels when convolution is computed :\n",
    "\n",
    "- convolution filter is applied on each channel -> we obtain `n_channels` of images\n",
    "- resulting image is computed as weighted sum of `n_channels` images:\n",
    "\n",
    "    `out = conv_img[0] * w[0] + conv_img[1] * w[1] + ... conv_img[n_channels] * w[n_channels]`\n"
   ]
  },
  {
   "cell_type": "code",
   "execution_count": 5,
   "metadata": {
    "collapsed": true
   },
   "outputs": [],
   "source": [
    "input_img = np.zeros((100, 100, 4), dtype=np.uint8)\n",
    "for i in range(1, input_img.shape[2]):\n",
    "    input_img[:,:,i] = i\n",
    "\n",
    "input_img[20:40,20:40,:] = 0"
   ]
  },
  {
   "cell_type": "code",
   "execution_count": 7,
   "metadata": {
    "collapsed": false
   },
   "outputs": [
    {
     "name": "stdout",
     "output_type": "stream",
     "text": [
      "0 3\n"
     ]
    },
    {
     "data": {
      "image/png": "[encoded data removed]",
      "text/plain": [
       "<matplotlib.figure.Figure at 0x2876e358>"
      ]
     },
     "metadata": {},
     "output_type": "display_data"
    }
   ],
   "source": [
    "plt.figure(figsize=(12,4))\n",
    "plt.subplot(141)\n",
    "plt.imshow(input_img[:,:,0])\n",
    "plt.colorbar()\n",
    "plt.subplot(142)\n",
    "plt.imshow(input_img[:,:,1])\n",
    "plt.colorbar()\n",
    "plt.subplot(143)\n",
    "plt.imshow(input_img[:,:,2])\n",
    "plt.colorbar()\n",
    "plt.subplot(144)\n",
    "plt.imshow(input_img[:,:,3])\n",
    "plt.colorbar()\n",
    "\n",
    "\n",
    "print input_img.min(), input_img.max()"
   ]
  },
  {
   "cell_type": "markdown",
   "metadata": {},
   "source": [
    "Number of weights in Convolution2D:\n",
    "    - n_filters * kernel_width * kernel_height * input_n_channel + n_filters"
   ]
  },
  {
   "cell_type": "code",
   "execution_count": 6,
   "metadata": {
    "collapsed": false
   },
   "outputs": [],
   "source": [
    "weights = np.ones((5,4,1,1))\n",
    "weights[:,0,:,:] = 0\n",
    "weights[:,1,:,:] = 1\n",
    "weights[:,2,:,:] = 2\n",
    "weights[:,3,:,:] = 3\n",
    "b = np.zeros((5))\n",
    "model = Sequential()\n",
    "model.add(Convolution2D(5, 1, 1, input_shape=(4,100,100), weights=[weights, b], border_mode='same', name='conv'))"
   ]
  },
  {
   "cell_type": "code",
   "execution_count": 7,
   "metadata": {
    "collapsed": false
   },
   "outputs": [],
   "source": [
    "model.compile(optimizer=Adam(lr=0.001), loss='categorical_crossentropy', metrics=['accuracy'])"
   ]
  },
  {
   "cell_type": "code",
   "execution_count": 8,
   "metadata": {
    "collapsed": false
   },
   "outputs": [],
   "source": [
    "inputs = input_img.transpose([2,0,1])\n",
    "output_img = model.predict(inputs[None,:,:,:])"
   ]
  },
  {
   "cell_type": "code",
   "execution_count": 9,
   "metadata": {
    "collapsed": false
   },
   "outputs": [
    {
     "data": {
      "text/plain": [
       "(1, 5, 100, 100)"
      ]
     },
     "execution_count": 9,
     "metadata": {},
     "output_type": "execute_result"
    }
   ],
   "source": [
    "output_img.shape"
   ]
  },
  {
   "cell_type": "code",
   "execution_count": 10,
   "metadata": {
    "collapsed": true
   },
   "outputs": [],
   "source": [
    "conv_layer = model.get_layer('conv')"
   ]
  },
  {
   "cell_type": "code",
   "execution_count": 11,
   "metadata": {
    "collapsed": false
   },
   "outputs": [
    {
     "data": {
      "text/plain": [
       "((5, 4, 1, 1), (5,))"
      ]
     },
     "execution_count": 11,
     "metadata": {},
     "output_type": "execute_result"
    }
   ],
   "source": [
    "conv_layer.W.eval().shape, conv_layer.b.eval().shape"
   ]
  },
  {
   "cell_type": "code",
   "execution_count": 12,
   "metadata": {
    "collapsed": false
   },
   "outputs": [
    {
     "name": "stdout",
     "output_type": "stream",
     "text": [
      "0.0 14.0\n"
     ]
    },
    {
     "data": {
      "image/png": "[encoded data removed]",
      "text/plain": [
       "<matplotlib.figure.Figure at 0x116996c10>"
      ]
     },
     "metadata": {},
     "output_type": "display_data"
    }
   ],
   "source": [
    "plt.figure(figsize=(12,4))\n",
    "plt.subplot(151)\n",
    "plt.imshow(output_img[0,0,:,:])\n",
    "plt.colorbar()\n",
    "plt.subplot(152)\n",
    "plt.imshow(output_img[0,1,:,:])\n",
    "plt.colorbar()\n",
    "plt.subplot(153)\n",
    "plt.imshow(output_img[0,2,:,:])\n",
    "plt.colorbar()\n",
    "plt.subplot(154)\n",
    "plt.imshow(output_img[0,3,:,:])\n",
    "plt.colorbar()\n",
    "plt.subplot(155)\n",
    "plt.imshow(output_img[0,4,:,:])\n",
    "plt.colorbar()\n",
    "\n",
    "print output_img.min(), output_img.max()"
   ]
  },
  {
   "cell_type": "code",
   "execution_count": 13,
   "metadata": {
    "collapsed": false
   },
   "outputs": [
    {
     "data": {
      "text/plain": [
       "14"
      ]
     },
     "execution_count": 13,
     "metadata": {},
     "output_type": "execute_result"
    }
   ],
   "source": [
    "a = [0, 1, 2, 3]\n",
    "b = [0, 1, 2, 3]\n",
    "np.dot(a, b)"
   ]
  },
  {
   "cell_type": "markdown",
   "metadata": {},
   "source": [
    "How to multiply channels ?\n",
    "\n",
    "$$\n",
    "O_1 = \\sum w_i c_i \\cdot \\frac{1}{\\sum w'_i c_i} + \\sum w_i c_i \\cdot \\sum w'_i c_i\n",
    "$$\n",
    "\n",
    "$$\n",
    "O_2 = \\sum w_i c_i \\cdot \\sum \\frac{w'_i}{c_i}\n",
    "$$\n",
    "\n",
    "$$\n",
    "O_3 = \\sum w_i c_i + \\sum w_i c_i \\cdot \\sum \\frac{w'_i}{c_i} + \\sum w_i c_i \\cdot \\sum w'_i c_i\n",
    "$$\n",
    "\n",
    "----\n",
    "\n",
    "$$\n",
    "I = \\left[ c_0, c_1, ..., c_n \\right], \\, \\text{where} \\, c_i \\,\\text{is a matrix }[h,w]\n",
    "$$\n",
    "\n",
    "$$\n",
    " C_1 = \\left[ C_1(0), C_1(2), ..., C_1(n^1_f) \\right], \\, \\text{where} \\, C_1(k) = \\sum_i w^k_{1,i} c_i,\n",
    "$$\n",
    "\n",
    "$$\n",
    " C_2 = \\left[ C_2(0), C_2(2), ..., C_2(n^2_f) \\right], \\, \\text{where} \\, C_2(k) = \\sum_i w^k_{2,i} C_1(i),\n",
    "$$\n",
    "$$\n",
    "C_2(k) = \\sum_i w^k_{2,i} \\sum_j w^k_{1,j} c_i,\n",
    "$$\n",
    "\n"
   ]
  },
  {
   "cell_type": "code",
   "execution_count": 1,
   "metadata": {
    "collapsed": false
   },
   "outputs": [
    {
     "name": "stderr",
     "output_type": "stream",
     "text": [
      "Using Theano backend.\n"
     ]
    }
   ],
   "source": [
    "from keras.layers import Input, MaxPooling2D, UpSampling2D, Convolution2D, merge, Reshape, Activation, BatchNormalization\n",
    "from keras import backend as K\n",
    "from keras.engine.topology import Layer\n",
    "from keras.regularizers import l2\n",
    "from keras.constraints import nonneg, unitnorm, Constraint, maxnorm"
   ]
  },
  {
   "cell_type": "code",
   "execution_count": 2,
   "metadata": {
    "collapsed": false
   },
   "outputs": [
    {
     "name": "stdout",
     "output_type": "stream",
     "text": [
      "Keras user configuration is setup\n"
     ]
    }
   ],
   "source": [
    "import sys\n",
    "sys.path.append(\"../common\")\n",
    "from unet import Inverse, ratio, conv, original_termination"
   ]
  },
  {
   "cell_type": "markdown",
   "metadata": {},
   "source": [
    "## Mix channels"
   ]
  },
  {
   "cell_type": "code",
   "execution_count": 3,
   "metadata": {
    "collapsed": false
   },
   "outputs": [
    {
     "ename": "NameError",
     "evalue": "name 'MaxNormNonNeg' is not defined",
     "output_type": "error",
     "traceback": [
      "\u001b[0;31m---------------------------------------------------------------------------\u001b[0m",
      "\u001b[0;31mNameError\u001b[0m                                 Traceback (most recent call last)",
      "\u001b[0;32m<ipython-input-3-02173cc167a6>\u001b[0m in \u001b[0;36m<module>\u001b[0;34m()\u001b[0m\n\u001b[1;32m     22\u001b[0m \u001b[0;34m\u001b[0m\u001b[0m\n\u001b[1;32m     23\u001b[0m \u001b[0;34m\u001b[0m\u001b[0m\n\u001b[0;32m---> 24\u001b[0;31m \u001b[0mmaxnorm_nonneg\u001b[0m\u001b[0;34m=\u001b[0m\u001b[0mMaxNormNonNeg\u001b[0m\u001b[0;34m\u001b[0m\u001b[0m\n\u001b[0m\u001b[1;32m     25\u001b[0m \u001b[0;34m\u001b[0m\u001b[0m\n\u001b[1;32m     26\u001b[0m \u001b[0;34m\u001b[0m\u001b[0m\n",
      "\u001b[0;31mNameError\u001b[0m: name 'MaxNormNonNeg' is not defined"
     ]
    }
   ],
   "source": [
    "def identity(input_layer, **kwargs):\n",
    "    return input_layer\n",
    "\n",
    "    \n",
    "    \"\"\"\n",
    "    \"\"\"\n",
    "    def __init__(self, m=1, axis=0):\n",
    "        self.m = m\n",
    "        self.axis = axis\n",
    "        \n",
    "    def __call__(self, p):\n",
    "        p *= K.cast(p >= 0., K.floatx())\n",
    "        norms = K.sqrt(K.sum(K.square(p), axis=self.axis, keepdims=True))\n",
    "        desired = K.clip(norms, 0, self.m)\n",
    "        p *= (desired / (K.epsilon() + norms))\n",
    "        return p\n",
    "\n",
    "    def get_config(self):\n",
    "        return {'name': self.__class__.__name__,\n",
    "                'm': self.m,\n",
    "                'axis': self.axis}\n",
    "\n",
    "\n",
    "maxnorm_nonneg=MaxNormNonNeg\n",
    "\n",
    "    \n",
    "def _conv(input_layer, n_filters_0=16, deep=False, size=3):\n",
    "    \"\"\"\n",
    "    \"\"\"\n",
    "    x = Convolution2D(n_filters_0, size, size,\n",
    "                      activation='relu',\n",
    "                      init='glorot_uniform',\n",
    "#                       W_constraint=maxnorm_nonneg(axis=0),\n",
    "                      W_constraint=maxnorm(axis=0),\n",
    "                      border_mode='same')(input_layer)\n",
    "    return x\n"
   ]
  },
  {
   "cell_type": "code",
   "execution_count": 4,
   "metadata": {
    "collapsed": false
   },
   "outputs": [
    {
     "ename": "NameError",
     "evalue": "name 'Model' is not defined",
     "output_type": "error",
     "traceback": [
      "\u001b[0;31m---------------------------------------------------------------------------\u001b[0m",
      "\u001b[0;31mNameError\u001b[0m                                 Traceback (most recent call last)",
      "\u001b[0;32m<ipython-input-4-89175b4a73cd>\u001b[0m in \u001b[0;36m<module>\u001b[0;34m()\u001b[0m\n\u001b[1;32m     13\u001b[0m \u001b[0moutputs\u001b[0m \u001b[0;34m=\u001b[0m \u001b[0moriginal_termination\u001b[0m\u001b[0;34m(\u001b[0m\u001b[0mx\u001b[0m\u001b[0;34m,\u001b[0m \u001b[0mn_classes\u001b[0m\u001b[0;34m,\u001b[0m \u001b[0minput_width\u001b[0m\u001b[0;34m,\u001b[0m \u001b[0minput_height\u001b[0m\u001b[0;34m)\u001b[0m\u001b[0;34m\u001b[0m\u001b[0m\n\u001b[1;32m     14\u001b[0m \u001b[0;34m\u001b[0m\u001b[0m\n\u001b[0;32m---> 15\u001b[0;31m \u001b[0mmodel\u001b[0m \u001b[0;34m=\u001b[0m \u001b[0mModel\u001b[0m\u001b[0;34m(\u001b[0m\u001b[0minput\u001b[0m\u001b[0;34m=\u001b[0m\u001b[0minputs\u001b[0m\u001b[0;34m,\u001b[0m \u001b[0moutput\u001b[0m\u001b[0;34m=\u001b[0m\u001b[0moutputs\u001b[0m\u001b[0;34m)\u001b[0m\u001b[0;34m\u001b[0m\u001b[0m\n\u001b[0m",
      "\u001b[0;31mNameError\u001b[0m: name 'Model' is not defined"
     ]
    }
   ],
   "source": [
    "n_filters_0 = 8\n",
    "n_classes = 2\n",
    "input_height = 15\n",
    "input_width = 15\n",
    "n_channels = 4*3\n",
    "deep=False\n",
    "\n",
    "inputs = Input((n_channels, input_height, input_width))\n",
    "x = inputs\n",
    "\n",
    "x = conv(x, n_filters_0, size=1, l=0.0)\n",
    "\n",
    "outputs = original_termination(x, n_classes, input_width, input_height)\n",
    "\n",
    "model = Model(input=inputs, output=outputs)"
   ]
  },
  {
   "cell_type": "code",
   "execution_count": 110,
   "metadata": {
    "collapsed": false
   },
   "outputs": [
    {
     "name": "stdout",
     "output_type": "stream",
     "text": [
      "____________________________________________________________________________________________________\n",
      "Layer (type)                     Output Shape          Param #     Connected to                     \n",
      "====================================================================================================\n",
      "input_5 (InputLayer)             (None, 12, 15, 15)    0                                            \n",
      "____________________________________________________________________________________________________\n",
      "convolution2d_9 (Convolution2D)  (None, 8, 15, 15)     104         input_5[0][0]                    \n",
      "____________________________________________________________________________________________________\n",
      "convolution2d_10 (Convolution2D) (None, 2, 15, 15)     18          convolution2d_9[0][0]            \n",
      "====================================================================================================\n",
      "Total params: 122\n",
      "Trainable params: 122\n",
      "Non-trainable params: 0\n",
      "____________________________________________________________________________________________________\n"
     ]
    }
   ],
   "source": [
    "model.summary()"
   ]
  },
  {
   "cell_type": "code",
   "execution_count": 111,
   "metadata": {
    "collapsed": false
   },
   "outputs": [],
   "source": [
    "model.compile(optimizer=Adam(lr=0.01), loss='binary_crossentropy', metrics=['recall', 'precision', 'accuracy'])"
   ]
  },
  {
   "cell_type": "code",
   "execution_count": null,
   "metadata": {
    "collapsed": true
   },
   "outputs": [],
   "source": []
  },
  {
   "cell_type": "code",
   "execution_count": 112,
   "metadata": {
    "collapsed": false
   },
   "outputs": [],
   "source": [
    "inputs = np.random.rand(1,4,input_height, input_width) * 0.5 + 2.0\n",
    "\n",
    "# Object detectable as ratio 1/2 \n",
    "inputs[0,0,3:5,5:7] = 3.3*np.arange(1,5).reshape((2,2))\n",
    "inputs[0,0,4:7,1:3] = 3.2*np.array([1,1.5,1,1,1.4,1.3]).reshape((3,2))\n",
    "\n",
    "inputs[0,1,3:5,5:7] = 0.1 * np.arange(1,5).reshape((2,2))\n",
    "inputs[0,1,4:7,1:3] = 0.4 * np.array([1,1.5,1,1,1.4,1.3]).reshape((3,2))\n",
    "\n",
    "\n",
    "\n",
    "# Object detectable as ratio 3/1 \n",
    "inputs[0,0,10:12,10:12] = 1.1*np.array([1,1.5,1,1]).reshape((2,2))\n",
    "inputs[0,2,10:12,10:12] = 2.7*np.array([1,1.5,1,1]).reshape((2,2))\n",
    "inputs[0,2,:,:] += 1.1\n",
    "\n",
    "#inputs[0,2,3:5,5:7] = np.random.rand(2, 2) * 0.02 + 1.98\n",
    "#inputs[0,2,4:7,1:3] = np.random.rand(3, 2) * 0.02 + 1.98"
   ]
  },
  {
   "cell_type": "code",
   "execution_count": 113,
   "metadata": {
    "collapsed": false
   },
   "outputs": [
    {
     "data": {
      "image/png": "[encoded data removed]",
      "text/plain": [
       "<matplotlib.figure.Figure at 0x47654940>"
      ]
     },
     "metadata": {},
     "output_type": "display_data"
    }
   ],
   "source": [
    "plt.figure(figsize=(12,4))\n",
    "for i in range(inputs.shape[1]):\n",
    "    plt.subplot(1,4,i+1)\n",
    "    plt.imshow(inputs[0,i,:,:], interpolation='none', clim=[-5, 5])\n",
    "    plt.colorbar()\n",
    "    plt.title(\"Channel %s\" % str(i+1))"
   ]
  },
  {
   "cell_type": "code",
   "execution_count": 114,
   "metadata": {
    "collapsed": false
   },
   "outputs": [
    {
     "data": {
      "text/plain": [
       "(1L, 12L, 15L, 15L)"
      ]
     },
     "execution_count": 114,
     "metadata": {},
     "output_type": "execute_result"
    }
   ],
   "source": [
    "# x = inputs.astype(np.float)\n",
    "# # for i in range(x.shape[1]):\n",
    "# #     mean = np.mean(x[0,i,:,:]) \n",
    "# #     std = np.std(x[0,i,:,:])\n",
    "# #     x[0,i,:,:] -= mean\n",
    "# #     x[0,i,:,:] /= std\n",
    "# print x.min(), x.mean(), x.max()\n",
    "\n",
    "def generate_ratios(inputs):\n",
    "    # Generate channels ratios:\n",
    "    in_shape = inputs.shape\n",
    "    out_shape = list(inputs.shape)\n",
    "    out_shape[1] *= (out_shape[1] - 1)\n",
    "    outputs = np.zeros(out_shape)\n",
    "    for k in range(out_shape[0]):\n",
    "        for i in range(in_shape[1]):\n",
    "            vals = range(in_shape[1])\n",
    "            vals.remove(i)\n",
    "            for j, v in enumerate(vals):\n",
    "                outputs[k,i*(in_shape[1]-1) + j,:,:] = inputs[k,i,:,:] / inputs[k,v,:,:]\n",
    "    return outputs\n",
    "\n",
    "# Generate ratios : 1/2, 1/3, 1/4, 2/1, 2/3, 2/4, 3/1, 3/2, 3/4, 4/1, 4/2, 4/3\n",
    "x = generate_ratios(inputs)\n",
    "x.shape"
   ]
  },
  {
   "cell_type": "code",
   "execution_count": 115,
   "metadata": {
    "collapsed": false
   },
   "outputs": [],
   "source": [
    "# y = np.random.rand(batch_size, n_classes, input_height, input_width)\n",
    "# print y.min(), y.max()\n",
    "\n",
    "y = np.zeros((1,2,input_height, input_width), dtype=np.uint8)\n",
    "y[0,0,3:5,5:7] = 1\n",
    "y[0,0,4:7,1:3] = 1\n",
    "y[0,1,10:12,10:12] = 1"
   ]
  },
  {
   "cell_type": "code",
   "execution_count": 117,
   "metadata": {
    "collapsed": false
   },
   "outputs": [
    {
     "data": {
      "image/png": "[encoded data removed]",
      "text/plain": [
       "<matplotlib.figure.Figure at 0x39297208>"
      ]
     },
     "metadata": {},
     "output_type": "display_data"
    },
    {
     "data": {
      "image/png": "[encoded data removed]",
      "text/plain": [
       "<matplotlib.figure.Figure at 0x3b177908>"
      ]
     },
     "metadata": {},
     "output_type": "display_data"
    }
   ],
   "source": [
    "plt.figure(figsize=(12,8))\n",
    "ratios = [\"1/2\", \"1/3\", \"1/4\", \"2/1\", \"2/3\", \"2/4\", \"3/1\", \"3/2\", \"3/4\", \"4/1\", \"4/2\", \"4/3\"]\n",
    "for i in range(x.shape[1]):\n",
    "    plt.subplot(3,4,i+1)\n",
    "    plt.imshow(x[0,i,:,:], interpolation='none', clim=[-5, 5])\n",
    "    plt.colorbar()\n",
    "    plt.title(\"Ratio : %s\" % ratios[i])\n",
    "\n",
    "plt.figure(figsize=(12,4))\n",
    "for i in range(y.shape[1]):\n",
    "    plt.subplot(1,y.shape[1],i+1)\n",
    "    plt.imshow(y[0,i,:,:], interpolation='none', clim=[0, 1])\n",
    "    plt.colorbar()\n",
    "    plt.title(\"Y channel : %s\" % ratios[i])"
   ]
  },
  {
   "cell_type": "code",
   "execution_count": 138,
   "metadata": {
    "collapsed": false
   },
   "outputs": [
    {
     "name": "stdout",
     "output_type": "stream",
     "text": [
      "Epoch 1/10\n",
      "0s - loss: 0.0050 - recall: 1.0000 - precision: 1.0000 - acc: 1.0000\n",
      "Epoch 2/10\n",
      "0s - loss: 0.0048 - recall: 1.0000 - precision: 1.0000 - acc: 1.0000\n",
      "Epoch 3/10\n",
      "0s - loss: 0.0047 - recall: 1.0000 - precision: 1.0000 - acc: 1.0000\n",
      "Epoch 4/10\n",
      "0s - loss: 0.0046 - recall: 1.0000 - precision: 1.0000 - acc: 1.0000\n",
      "Epoch 5/10\n",
      "0s - loss: 0.0045 - recall: 1.0000 - precision: 1.0000 - acc: 1.0000\n",
      "Epoch 6/10\n",
      "0s - loss: 0.0044 - recall: 1.0000 - precision: 1.0000 - acc: 1.0000\n",
      "Epoch 7/10\n",
      "0s - loss: 0.0043 - recall: 1.0000 - precision: 1.0000 - acc: 1.0000\n",
      "Epoch 8/10\n",
      "0s - loss: 0.0042 - recall: 1.0000 - precision: 1.0000 - acc: 1.0000\n",
      "Epoch 9/10\n",
      "0s - loss: 0.0041 - recall: 1.0000 - precision: 1.0000 - acc: 1.0000\n",
      "Epoch 10/10\n",
      "0s - loss: 0.0040 - recall: 1.0000 - precision: 1.0000 - acc: 1.0000\n"
     ]
    }
   ],
   "source": [
    "batch_size=1\n",
    "hist = model.fit(x, y, nb_epoch=10, batch_size=batch_size, verbose=2)"
   ]
  },
  {
   "cell_type": "code",
   "execution_count": 139,
   "metadata": {
    "collapsed": false
   },
   "outputs": [
    {
     "name": "stdout",
     "output_type": "stream",
     "text": [
      "[convolution2d_9_W, convolution2d_9_b]\n",
      "CudaNdarray([[-0.05066311  0.65894705 -0.36301449  1.14658415  0.77737588  0.57277352\n",
      "   1.03790176  0.45384523  0.1276319   0.15524678  0.58727586  0.49381015]\n",
      " [-0.72863477  0.24261604 -0.20585243 -0.0028874  -0.16272065 -0.30643761\n",
      "  -0.57769203  0.27397671 -0.36833152  0.12237346  0.39090186  0.13601476]\n",
      " [ 0.57180673  0.94765079  1.38175011 -0.18948671  1.51749849  1.23686802\n",
      "  -0.60157228  0.03564406  0.64687258  0.20831227  1.13406944  0.4657374 ]\n",
      " [-0.00329404 -0.0832574  -0.48632288  0.03666219  0.19280156  0.34597307\n",
      "   0.006129    0.09633657 -0.84785724  0.04190066 -0.05392664 -0.76370943]\n",
      " [ 1.16877949  1.09348047  1.21880269 -0.41682348  0.24712504 -0.90847021\n",
      "  -0.68091267  0.07604885  0.0346519  -0.2438046   0.4040691   1.36152411]\n",
      " [-0.56276464 -0.2462098  -0.05901194 -0.48513636 -0.74320346 -0.71090245\n",
      "  -0.428161   -0.18600361 -0.26844797 -0.09865705  0.62560838  0.24214497]\n",
      " [ 0.82589281 -0.24448669  0.73832333 -0.35731363 -0.24138577 -0.5875411\n",
      "  -0.78502613 -0.17135921  0.1861176  -0.14342625  0.64920139  0.01541954]\n",
      " [-0.52965474  0.38961807  0.07927583  0.37723815  0.92938054  0.11245131\n",
      "  -0.13814375 -0.08980533 -0.04818251 -0.22187148 -0.4389275  -1.13361156]]) CudaNdarray([ 0.48338196 -0.08871869  0.50303984  0.          0.42894259  0.\n",
      " -0.01417581  0.        ])\n",
      "[convolution2d_10_W, convolution2d_10_b]\n",
      "CudaNdarray([[-0.80025131  0.73696196 -0.26486462 -0.34390959  0.4954147  -0.50943285\n",
      "   0.93544054 -0.10787638]\n",
      " [ 0.78405714  0.50563377 -0.99243963 -0.18149665 -1.57779455 -0.62330902\n",
      "  -0.23496991  0.51190841]]) CudaNdarray([-0.39594409 -0.30918187])\n"
     ]
    }
   ],
   "source": [
    "layer = model.get_layer(index=1)\n",
    "print layer.weights\n",
    "w1 = layer.W.eval()\n",
    "b1 = layer.b.eval()\n",
    "print layer.W.eval()[:,:,0,0], layer.b.eval()\n",
    "\n",
    "layer = model.get_layer(index=2)\n",
    "print layer.weights\n",
    "w2 = layer.W.eval()\n",
    "b2 = layer.b.eval()\n",
    "print layer.W.eval()[:,:,0,0], layer.b.eval()\n",
    "\n",
    "# layer = model.get_layer(index=5)\n",
    "# print layer.weights\n",
    "# w3 = layer.W.eval()\n",
    "# b3 = layer.b.eval()\n",
    "# print layer.W.eval()[:,:,:,:], layer.b.eval()"
   ]
  },
  {
   "cell_type": "code",
   "execution_count": 1569,
   "metadata": {
    "collapsed": false
   },
   "outputs": [],
   "source": [
    "t1 = np.sum(w1 * x, axis=1) + b1\n",
    "t1[t1 < 0] = 0.0\n",
    "t2 = np.sum(w2 * 1.0/x, axis=1) + b2\n",
    "t2[t2 < 0] = 0.0"
   ]
  },
  {
   "cell_type": "code",
   "execution_count": 1043,
   "metadata": {
    "collapsed": false
   },
   "outputs": [],
   "source": [
    "t3 = (t1 * t2).reshape((1,) + t1.shape)\n",
    "t3[t3 < 0] = 0.0"
   ]
  },
  {
   "cell_type": "code",
   "execution_count": 1044,
   "metadata": {
    "collapsed": false
   },
   "outputs": [
    {
     "data": {
      "text/plain": [
       "((1, 1, 15, 15), (1, 1, 1, 1))"
      ]
     },
     "execution_count": 1044,
     "metadata": {},
     "output_type": "execute_result"
    }
   ],
   "source": [
    "t3.shape, w3.shape"
   ]
  },
  {
   "cell_type": "code",
   "execution_count": 1045,
   "metadata": {
    "collapsed": false,
    "scrolled": true
   },
   "outputs": [
    {
     "data": {
      "text/plain": [
       "((1, 1, 15, 15), 0.12985255664113604, 1.0)"
      ]
     },
     "execution_count": 1045,
     "metadata": {},
     "output_type": "execute_result"
    }
   ],
   "source": [
    "out = t3 * w3 + b3\n",
    "out = K.sigmoid(out).eval()\n",
    "out.shape, out.min(), out.max()"
   ]
  },
  {
   "cell_type": "code",
   "execution_count": 976,
   "metadata": {
    "collapsed": false
   },
   "outputs": [],
   "source": [
    "w1[:] = 0.0\n",
    "w1[0,0,:,:] = 1.0\n",
    "w2[:] = 0.0\n",
    "w2[0,1,:,:] = 1.0\n",
    "w3[:] = 1.0\n",
    "\n",
    "layer = model.get_layer(index=2)\n",
    "layer.set_weights(weights=[w1, np.array([0.0])])\n",
    "layer = model.get_layer(index=3)\n",
    "layer.set_weights(weights=[w2, np.array([0.0])])\n",
    "layer = model.get_layer(index=5)\n",
    "layer.set_weights(weights=[w3, np.array([-3.0])])"
   ]
  },
  {
   "cell_type": "code",
   "execution_count": 141,
   "metadata": {
    "collapsed": false
   },
   "outputs": [
    {
     "data": {
      "text/plain": [
       "((1L, 2L, 15L, 15L), 0.0, 1.0)"
      ]
     },
     "execution_count": 141,
     "metadata": {},
     "output_type": "execute_result"
    }
   ],
   "source": [
    "y_pred = model.predict(x)\n",
    "y_pred.shape, y_pred.min(), y_pred.max()"
   ]
  },
  {
   "cell_type": "code",
   "execution_count": 142,
   "metadata": {
    "collapsed": false
   },
   "outputs": [
    {
     "data": {
      "image/png": "[encoded data removed]",
      "text/plain": [
       "<matplotlib.figure.Figure at 0x43325a90>"
      ]
     },
     "metadata": {},
     "output_type": "display_data"
    },
    {
     "data": {
      "image/png": "[encoded data removed]",
      "text/plain": [
       "<matplotlib.figure.Figure at 0x45be04e0>"
      ]
     },
     "metadata": {},
     "output_type": "display_data"
    },
    {
     "data": {
      "image/png": "[encoded data removed]",
      "text/plain": [
       "<matplotlib.figure.Figure at 0x43682828>"
      ]
     },
     "metadata": {},
     "output_type": "display_data"
    }
   ],
   "source": [
    "plt.figure(figsize=(12,4))\n",
    "for i in range(y.shape[1]):\n",
    "    plt.subplot(1,y.shape[1],i+1)\n",
    "    plt.imshow(y[0,i,:,:], interpolation='none', clim=[0, 1])\n",
    "    plt.colorbar()\n",
    "    plt.title(\"Y channel : %s\" % ratios[i])\n",
    "\n",
    "plt.figure(figsize=(12,4))\n",
    "for i in range(y_pred.shape[1]):\n",
    "    plt.subplot(1,y_pred.shape[1],i+1)\n",
    "    plt.imshow(y_pred[0,i,:,:], interpolation='none', clim=[0, 1])\n",
    "    plt.colorbar()\n",
    "    plt.title(\"Y_pred channel : %s\" % ratios[i])\n",
    "    \n",
    "plt.figure(figsize=(12,8))\n",
    "ratios = [\"1/2\", \"1/3\", \"1/4\", \"2/1\", \"2/3\", \"2/4\", \"3/1\", \"3/2\", \"3/4\", \"4/1\", \"4/2\", \"4/3\"]\n",
    "for i in range(x.shape[1]):\n",
    "    plt.subplot(3,4,i+1)\n",
    "    plt.imshow(x[0,i,:,:], interpolation='none', clim=[-5, 5])\n",
    "    plt.colorbar()\n",
    "    plt.title(\"Ratio : %s\" % ratios[i])\n"
   ]
  },
  {
   "cell_type": "code",
   "execution_count": null,
   "metadata": {
    "collapsed": true
   },
   "outputs": [],
   "source": [
    "# inputs = "
   ]
  },
  {
   "cell_type": "code",
   "execution_count": null,
   "metadata": {
    "collapsed": true
   },
   "outputs": [],
   "source": []
  },
  {
   "cell_type": "markdown",
   "metadata": {
    "collapsed": true
   },
   "source": [
    "What is Convolution3D"
   ]
  },
  {
   "cell_type": "code",
   "execution_count": 16,
   "metadata": {
    "collapsed": false
   },
   "outputs": [],
   "source": [
    "from keras.layers import Convolution3D, Input, Reshape\n",
    "from keras.optimizers import Adam"
   ]
  },
  {
   "cell_type": "code",
   "execution_count": 7,
   "metadata": {
    "collapsed": false,
    "scrolled": true
   },
   "outputs": [
    {
     "name": "stdout",
     "output_type": "stream",
     "text": [
      "Help on class Convolution3D in module keras.layers.convolutional:\n",
      "\n",
      "class Convolution3D(keras.engine.topology.Layer)\n",
      " |  Convolution operator for filtering windows of three-dimensional inputs.\n",
      " |  \n",
      " |  When using this layer as the first layer in a model,\n",
      " |  provide the keyword argument `input_shape`\n",
      " |  (tuple of integers, does not include the sample axis),\n",
      " |  e.g. `input_shape=(3, 10, 128, 128)` for 10 frames of 128x128 RGB pictures.\n",
      " |  \n",
      " |  # Arguments\n",
      " |      nb_filter: Number of convolution filters to use.\n",
      " |      kernel_dim1: Length of the first dimension in the convolution kernel.\n",
      " |      kernel_dim2: Length of the second dimension in the convolution kernel.\n",
      " |      kernel_dim3: Length of the third dimension in the convolution kernel.\n",
      " |      init: name of initialization function for the weights of the layer\n",
      " |          (see [initializations](../initializations.md)), or alternatively,\n",
      " |          Theano function to use for weights initialization.\n",
      " |          This parameter is only relevant if you don't pass\n",
      " |          a `weights` argument.\n",
      " |      activation: name of activation function to use\n",
      " |          (see [activations](../activations.md)),\n",
      " |          or alternatively, elementwise Theano function.\n",
      " |          If you don't specify anything, no activation is applied\n",
      " |          (ie. \"linear\" activation: a(x) = x).\n",
      " |      weights: list of Numpy arrays to set as initial weights.\n",
      " |      border_mode: 'valid', 'same' or 'full'\n",
      " |          ('full' requires the Theano backend).\n",
      " |      subsample: tuple of length 3. Factor by which to subsample output.\n",
      " |          Also called strides elsewhere.\n",
      " |          Note: 'subsample' is implemented by slicing\n",
      " |          the output of conv3d with strides=(1,1,1).\n",
      " |      W_regularizer: instance of [WeightRegularizer](../regularizers.md)\n",
      " |          (eg. L1 or L2 regularization), applied to the main weights matrix.\n",
      " |      b_regularizer: instance of [WeightRegularizer](../regularizers.md),\n",
      " |          applied to the bias.\n",
      " |      activity_regularizer: instance of [ActivityRegularizer](../regularizers.md),\n",
      " |          applied to the network output.\n",
      " |      W_constraint: instance of the [constraints](../constraints.md) module\n",
      " |          (eg. maxnorm, nonneg), applied to the main weights matrix.\n",
      " |      b_constraint: instance of the [constraints](../constraints.md) module,\n",
      " |          applied to the bias.\n",
      " |      dim_ordering: 'th' or 'tf'. In 'th' mode, the channels dimension\n",
      " |          (the depth) is at index 1, in 'tf' mode is it at index 4.\n",
      " |          It defaults to the `image_dim_ordering` value found in your\n",
      " |          Keras config file at `~/.keras/keras.json`.\n",
      " |          If you never set it, then it will be \"tf\".\n",
      " |      bias: whether to include a bias\n",
      " |          (i.e. make the layer affine rather than linear).\n",
      " |  \n",
      " |  # Input shape\n",
      " |      5D tensor with shape:\n",
      " |      `(samples, channels, conv_dim1, conv_dim2, conv_dim3)` if dim_ordering='th'\n",
      " |      or 5D tensor with shape:\n",
      " |      `(samples, conv_dim1, conv_dim2, conv_dim3, channels)` if dim_ordering='tf'.\n",
      " |  \n",
      " |  # Output shape\n",
      " |      5D tensor with shape:\n",
      " |      `(samples, nb_filter, new_conv_dim1, new_conv_dim2, new_conv_dim3)` if dim_ordering='th'\n",
      " |      or 5D tensor with shape:\n",
      " |      `(samples, new_conv_dim1, new_conv_dim2, new_conv_dim3, nb_filter)` if dim_ordering='tf'.\n",
      " |      `new_conv_dim1`, `new_conv_dim2` and `new_conv_dim3` values might have changed due to padding.\n",
      " |  \n",
      " |  Method resolution order:\n",
      " |      Convolution3D\n",
      " |      keras.engine.topology.Layer\n",
      " |      __builtin__.object\n",
      " |  \n",
      " |  Methods defined here:\n",
      " |  \n",
      " |  __init__(self, nb_filter, kernel_dim1, kernel_dim2, kernel_dim3, init='glorot_uniform', activation=None, weights=None, border_mode='valid', subsample=(1, 1, 1), dim_ordering='default', W_regularizer=None, b_regularizer=None, activity_regularizer=None, W_constraint=None, b_constraint=None, bias=True, **kwargs)\n",
      " |  \n",
      " |  build(self, input_shape)\n",
      " |  \n",
      " |  call(self, x, mask=None)\n",
      " |  \n",
      " |  get_config(self)\n",
      " |  \n",
      " |  get_output_shape_for(self, input_shape)\n",
      " |  \n",
      " |  ----------------------------------------------------------------------\n",
      " |  Methods inherited from keras.engine.topology.Layer:\n",
      " |  \n",
      " |  __call__(self, x, mask=None)\n",
      " |      Wrapper around self.call(), for handling\n",
      " |      internal Keras references.\n",
      " |      \n",
      " |      If a Keras tensor is passed:\n",
      " |          - We call self.add_inbound_node().\n",
      " |          - If necessary, we `build` the layer to match\n",
      " |              the _keras_shape of the input(s).\n",
      " |          - We update the _keras_shape of every input tensor with\n",
      " |              its new shape (obtained via self.get_output_shape_for).\n",
      " |              This is done as part of add_inbound_node().\n",
      " |          - We update the _keras_history of the output tensor(s)\n",
      " |              with the current layer.\n",
      " |              This is done as part of add_inbound_node().\n",
      " |      \n",
      " |      # Arguments\n",
      " |          x: Can be a tensor or list/tuple of tensors.\n",
      " |          mask: Tensor or list/tuple of tensors.\n",
      " |  \n",
      " |  add_inbound_node(self, inbound_layers, node_indices=None, tensor_indices=None)\n",
      " |      # Arguments\n",
      " |          inbound_layers: Can be a layer instance\n",
      " |              or a list/tuple of layer instances.\n",
      " |          node_indices: Integer (or list of integers).\n",
      " |              The input layer might have a number of\n",
      " |              parallel output streams;\n",
      " |              this is the index of the stream (in the input layer)\n",
      " |              where to connect the current layer.\n",
      " |          tensor_indices: Integer or list of integers.\n",
      " |              The output of the inbound node might be a list/tuple\n",
      " |              of tensor, and we might only be interested in\n",
      " |              one specific entry.\n",
      " |              This index allows you to specify the index of\n",
      " |              the entry in the output list\n",
      " |              (if applicable). \"None\" means that we take all outputs\n",
      " |              (as a list).\n",
      " |  \n",
      " |  add_loss(self, losses, inputs=None)\n",
      " |  \n",
      " |  add_update(self, updates, inputs=None)\n",
      " |  \n",
      " |  add_weight(self, shape, initializer, name=None, trainable=True, regularizer=None, constraint=None)\n",
      " |      Adds a weight variable to the layer.\n",
      " |      \n",
      " |      # Arguments\n",
      " |          shape: The shape tuple of the weight.\n",
      " |          initializer: An Initializer instance (callable).\n",
      " |          trainable: A boolean, whether the weight should\n",
      " |              be trained via backprop or not (assuming\n",
      " |              that the layer itself is also trainable).\n",
      " |          regularizer: An optional Regularizer instance.\n",
      " |  \n",
      " |  assert_input_compatibility(self, input)\n",
      " |      This checks that the tensor(s) `input`\n",
      " |      verify the input assumptions of the layer\n",
      " |      (if any). If not, exceptions are raised.\n",
      " |  \n",
      " |  compute_mask(self, input, input_mask=None)\n",
      " |      Computes an output masking tensor, given an input tensor\n",
      " |      (or list thereof) and an input mask (or list thereof).\n",
      " |      \n",
      " |      # Arguments\n",
      " |          input: Tensor or list of tensors.\n",
      " |          input_mask: Tensor or list of tensors.\n",
      " |      \n",
      " |      # Returns\n",
      " |          None or a tensor (or list of tensors,\n",
      " |              one per output tensor of the layer).\n",
      " |  \n",
      " |  count_params(self)\n",
      " |      Returns the total number of floats (or ints)\n",
      " |      composing the weights of the layer.\n",
      " |  \n",
      " |  create_input_layer(self, batch_input_shape, input_dtype=None, name=None)\n",
      " |  \n",
      " |  get_input_at(self, node_index)\n",
      " |      Retrieves the input tensor(s) of a layer at a given node.\n",
      " |  \n",
      " |  get_input_mask_at(self, node_index)\n",
      " |      Retrieves the input mask tensor(s) of a layer at a given node.\n",
      " |  \n",
      " |  get_input_shape_at(self, node_index)\n",
      " |      Retrieves the input shape(s) of a layer at a given node.\n",
      " |  \n",
      " |  get_losses_for(self, inputs)\n",
      " |  \n",
      " |  get_output_at(self, node_index)\n",
      " |      Retrieves the output tensor(s) of a layer at a given node.\n",
      " |  \n",
      " |  get_output_mask_at(self, node_index)\n",
      " |      Retrieves the output mask tensor(s) of a layer at a given node.\n",
      " |  \n",
      " |  get_output_shape_at(self, node_index)\n",
      " |      Retrieves the output shape(s) of a layer at a given node.\n",
      " |  \n",
      " |  get_updates_for(self, inputs)\n",
      " |  \n",
      " |  get_weights(self)\n",
      " |      Returns the current weights of the layer,\n",
      " |      as a list of numpy arrays.\n",
      " |  \n",
      " |  set_weights(self, weights)\n",
      " |      Sets the weights of the layer, from Numpy arrays.\n",
      " |      \n",
      " |      # Arguments\n",
      " |          weights: a list of Numpy arrays. The number\n",
      " |              of arrays and their shape must match\n",
      " |              number of the dimensions of the weights\n",
      " |              of the layer (i.e. it should match the\n",
      " |              output of `get_weights`).\n",
      " |  \n",
      " |  ----------------------------------------------------------------------\n",
      " |  Class methods inherited from keras.engine.topology.Layer:\n",
      " |  \n",
      " |  from_config(cls, config) from __builtin__.type\n",
      " |      This method is the reverse of get_config,\n",
      " |      capable of instantiating the same layer from the config\n",
      " |      dictionary. It does not handle layer connectivity\n",
      " |      (handled by Container), nor weights (handled by `set_weights`).\n",
      " |      \n",
      " |      # Arguments\n",
      " |          config: A Python dictionary, typically the\n",
      " |              output of get_config.\n",
      " |  \n",
      " |  ----------------------------------------------------------------------\n",
      " |  Data descriptors inherited from keras.engine.topology.Layer:\n",
      " |  \n",
      " |  __dict__\n",
      " |      dictionary for instance variables (if defined)\n",
      " |  \n",
      " |  __weakref__\n",
      " |      list of weak references to the object (if defined)\n",
      " |  \n",
      " |  input\n",
      " |      Retrieves the input tensor(s) of a layer (only applicable if\n",
      " |      the layer has exactly one inbound node, i.e. if it is connected\n",
      " |      to one incoming layer).\n",
      " |  \n",
      " |  input_mask\n",
      " |      Retrieves the input mask tensor(s) of a layer (only applicable if\n",
      " |      the layer has exactly one inbound node, i.e. if it is connected\n",
      " |      to one incoming layer).\n",
      " |  \n",
      " |  input_shape\n",
      " |      Retrieves the input shape tuple(s) of a layer. Only applicable\n",
      " |      if the layer has one inbound node,\n",
      " |      or if all inbound nodes have the same input shape.\n",
      " |  \n",
      " |  non_trainable_weights\n",
      " |  \n",
      " |  output\n",
      " |      Retrieves the output tensor(s) of a layer (only applicable if\n",
      " |      the layer has exactly one inbound node, i.e. if it is connected\n",
      " |      to one incoming layer).\n",
      " |  \n",
      " |  output_mask\n",
      " |      Retrieves the output mask tensor(s) of a layer (only applicable if\n",
      " |      the layer has exactly one inbound node, i.e. if it is connected\n",
      " |      to one incoming layer).\n",
      " |  \n",
      " |  output_shape\n",
      " |      Retrieves the output shape tuple(s) of a layer. Only applicable\n",
      " |      if the layer has one inbound node,\n",
      " |      or if all inbound nodes have the same output shape.\n",
      " |  \n",
      " |  regularizers\n",
      " |  \n",
      " |  trainable_weights\n",
      " |  \n",
      " |  weights\n",
      "\n"
     ]
    }
   ],
   "source": [
    "help(Convolution3D)"
   ]
  },
  {
   "cell_type": "code",
   "execution_count": 48,
   "metadata": {
    "collapsed": false
   },
   "outputs": [],
   "source": [
    "n_filters_0 = 1\n",
    "n_classes = 2\n",
    "input_height = 10\n",
    "input_width = 10\n",
    "n_channels = 3\n",
    "size=3\n",
    "\n",
    "inputs = Input((1, n_channels, input_height, input_width))\n",
    "x = inputs\n",
    "x = Convolution3D(n_filters_0, size, size, size, init='one', activation='relu')(x)\n",
    "outputs = x\n",
    "\n",
    "model = Model(input=inputs, output=outputs)"
   ]
  },
  {
   "cell_type": "code",
   "execution_count": 49,
   "metadata": {
    "collapsed": true
   },
   "outputs": [],
   "source": [
    "X = np.ones((1, 1, n_channels, input_height, input_width))\n",
    "for i in range(1,n_channels):\n",
    "    X[0, 0, i, :, :] = i+1"
   ]
  },
  {
   "cell_type": "code",
   "execution_count": 50,
   "metadata": {
    "collapsed": false
   },
   "outputs": [
    {
     "name": "stdout",
     "output_type": "stream",
     "text": [
      "____________________________________________________________________________________________________\n",
      "Layer (type)                     Output Shape          Param #     Connected to                     \n",
      "====================================================================================================\n",
      "input_8 (InputLayer)             (None, 1, 3, 10, 10)  0                                            \n",
      "____________________________________________________________________________________________________\n",
      "convolution3d_8 (Convolution3D)  (None, 1, 1, 8, 8)    28          input_8[0][0]                    \n",
      "====================================================================================================\n",
      "Total params: 28\n",
      "Trainable params: 28\n",
      "Non-trainable params: 0\n",
      "____________________________________________________________________________________________________\n"
     ]
    }
   ],
   "source": [
    "model.compile(optimizer=Adam(lr=0.01), loss='binary_crossentropy', metrics=['recall', 'precision', 'accuracy'])\n",
    "model.summary()"
   ]
  },
  {
   "cell_type": "code",
   "execution_count": 51,
   "metadata": {
    "collapsed": false
   },
   "outputs": [
    {
     "name": "stdout",
     "output_type": "stream",
     "text": [
      "[[[[[ 1.  1.  1.]\n",
      "    [ 1.  1.  1.]\n",
      "    [ 1.  1.  1.]]\n",
      "\n",
      "   [[ 1.  1.  1.]\n",
      "    [ 1.  1.  1.]\n",
      "    [ 1.  1.  1.]]\n",
      "\n",
      "   [[ 1.  1.  1.]\n",
      "    [ 1.  1.  1.]\n",
      "    [ 1.  1.  1.]]]]] [ 0.]\n"
     ]
    }
   ],
   "source": [
    "layer = model.get_layer(index=1)\n",
    "print layer.W.eval(), layer.b.eval()"
   ]
  },
  {
   "cell_type": "code",
   "execution_count": 52,
   "metadata": {
    "collapsed": false
   },
   "outputs": [],
   "source": [
    "Y_pred = model.predict(X)"
   ]
  },
  {
   "cell_type": "code",
   "execution_count": 53,
   "metadata": {
    "collapsed": false
   },
   "outputs": [
    {
     "data": {
      "text/plain": [
       "((1, 1, 3, 10, 10), (1, 1, 1, 8, 8))"
      ]
     },
     "execution_count": 53,
     "metadata": {},
     "output_type": "execute_result"
    }
   ],
   "source": [
    "X.shape, Y_pred.shape"
   ]
  },
  {
   "cell_type": "code",
   "execution_count": 54,
   "metadata": {
    "collapsed": false
   },
   "outputs": [
    {
     "name": "stdout",
     "output_type": "stream",
     "text": [
      "[ 1.  2.  3.]\n",
      "[[ 54.  54.  54.  54.  54.  54.  54.  54.]\n",
      " [ 54.  54.  54.  54.  54.  54.  54.  54.]\n",
      " [ 54.  54.  54.  54.  54.  54.  54.  54.]\n",
      " [ 54.  54.  54.  54.  54.  54.  54.  54.]\n",
      " [ 54.  54.  54.  54.  54.  54.  54.  54.]\n",
      " [ 54.  54.  54.  54.  54.  54.  54.  54.]\n",
      " [ 54.  54.  54.  54.  54.  54.  54.  54.]\n",
      " [ 54.  54.  54.  54.  54.  54.  54.  54.]]\n"
     ]
    }
   ],
   "source": [
    "print X[0,0,:,0,0]\n",
    "print Y_pred[0,0,0,:,:]"
   ]
  },
  {
   "cell_type": "code",
   "execution_count": 57,
   "metadata": {
    "collapsed": false
   },
   "outputs": [
    {
     "data": {
      "text/plain": [
       "54.0"
      ]
     },
     "execution_count": 57,
     "metadata": {},
     "output_type": "execute_result"
    }
   ],
   "source": [
    "size**2 * (np.sum(X[0,0,:,0,0]))"
   ]
  },
  {
   "cell_type": "code",
   "execution_count": null,
   "metadata": {
    "collapsed": true
   },
   "outputs": [],
   "source": []
  },
  {
   "cell_type": "code",
   "execution_count": null,
   "metadata": {
    "collapsed": true
   },
   "outputs": [],
   "source": []
  },
  {
   "cell_type": "code",
   "execution_count": null,
   "metadata": {
    "collapsed": true
   },
   "outputs": [],
   "source": []
  },
  {
   "cell_type": "code",
   "execution_count": null,
   "metadata": {
    "collapsed": true
   },
   "outputs": [],
   "source": []
  },
  {
   "cell_type": "code",
   "execution_count": null,
   "metadata": {
    "collapsed": true
   },
   "outputs": [],
   "source": []
  },
  {
   "cell_type": "code",
   "execution_count": null,
   "metadata": {
    "collapsed": true
   },
   "outputs": [],
   "source": []
  },
  {
   "cell_type": "code",
   "execution_count": 1471,
   "metadata": {
    "collapsed": true
   },
   "outputs": [],
   "source": [
    "def generate_ratios(inputs):\n",
    "    # Generate channels ratios:\n",
    "    in_shape = inputs.shape\n",
    "    out_shape = list(inputs.shape)\n",
    "    out_shape[1] *= (out_shape[1] - 1)\n",
    "    outputs = np.zeros(out_shape)\n",
    "    for k in range(out_shape[0]):\n",
    "        for i in range(in_shape[1]):\n",
    "            vals = range(in_shape[1])\n",
    "            vals.remove(i)\n",
    "            for j, v in enumerate(vals):\n",
    "                outputs[k,i*(in_shape[1]-1) + j,:,:] = inputs[k,i,:,:] / inputs[k,v,:,:]\n",
    "    return outputs"
   ]
  },
  {
   "cell_type": "code",
   "execution_count": 1472,
   "metadata": {
    "collapsed": true
   },
   "outputs": [],
   "source": [
    "x=np.zeros((1,4,5,5))\n",
    "x[0,0,:,:] = 1.0\n",
    "x[0,1,:,:] = 2.0\n",
    "x[0,2,:,:] = 3.0\n",
    "x[0,3,:,:] = 4.0"
   ]
  },
  {
   "cell_type": "code",
   "execution_count": 1473,
   "metadata": {
    "collapsed": false
   },
   "outputs": [
    {
     "data": {
      "text/plain": [
       "(1, 12, 5, 5)"
      ]
     },
     "execution_count": 1473,
     "metadata": {},
     "output_type": "execute_result"
    }
   ],
   "source": [
    "xx = generate_ratios(x)\n",
    "xx.shape"
   ]
  },
  {
   "cell_type": "code",
   "execution_count": 1480,
   "metadata": {
    "collapsed": false
   },
   "outputs": [
    {
     "data": {
      "text/plain": [
       "array([[ 3.,  3.,  3.,  3.,  3.],\n",
       "       [ 3.,  3.,  3.,  3.,  3.],\n",
       "       [ 3.,  3.,  3.,  3.,  3.],\n",
       "       [ 3.,  3.,  3.,  3.,  3.],\n",
       "       [ 3.,  3.,  3.,  3.,  3.]])"
      ]
     },
     "execution_count": 1480,
     "metadata": {},
     "output_type": "execute_result"
    }
   ],
   "source": [
    "xx[0,6,:,:]"
   ]
  },
  {
   "cell_type": "code",
   "execution_count": 1415,
   "metadata": {
    "collapsed": false
   },
   "outputs": [
    {
     "data": {
      "text/plain": [
       "(array([1, 4, 5, 5]),\n",
       " theano.tensor.sharedvar.TensorSharedVariable,\n",
       " theano.tensor.var.TensorVariable)"
      ]
     },
     "execution_count": 1415,
     "metadata": {},
     "output_type": "execute_result"
    }
   ],
   "source": [
    "import theano\n",
    "from theano import tensor as T\n",
    "from theano.\n",
    "\n",
    "X = K.variable(x)\n",
    "in_shape = K.shape(X)\n",
    "in_shape.eval(), type(X), type(in_shape)"
   ]
  },
  {
   "cell_type": "code",
   "execution_count": 1421,
   "metadata": {
    "collapsed": true
   },
   "outputs": [],
   "source": [
    "out_shape = T.set_subtensor(in_shape[1], in_shape[1]*(in_shape[1]-1))"
   ]
  },
  {
   "cell_type": "code",
   "execution_count": 1424,
   "metadata": {
    "collapsed": false
   },
   "outputs": [],
   "source": [
    "results,updates = theano.scan(\n",
    "    lambda i,j : X[:,i,:,:] / X[:,j,:,:],\n",
    "    sequences=[T.arange(X.shape[1]), T.arange(X.shape[1])+1],\n",
    "    outputs_info=None\n",
    ")"
   ]
  },
  {
   "cell_type": "code",
   "execution_count": 1425,
   "metadata": {
    "collapsed": false
   },
   "outputs": [
    {
     "ename": "TypeError",
     "evalue": "Cannot use a shared variable (<TensorType(float32, 4D)>) as explicit input. Consider substituting a non-shared variable via the `givens` parameter",
     "output_type": "error",
     "traceback": [
      "\u001b[0;31m---------------------------------------------------------------------------\u001b[0m",
      "\u001b[0;31mTypeError\u001b[0m                                 Traceback (most recent call last)",
      "\u001b[0;32m<ipython-input-1425-8e18ab02077c>\u001b[0m in \u001b[0;36m<module>\u001b[0;34m()\u001b[0m\n\u001b[0;32m----> 1\u001b[0;31m \u001b[0mmix_channels\u001b[0m \u001b[0;34m=\u001b[0m \u001b[0mtheano\u001b[0m\u001b[0;34m.\u001b[0m\u001b[0mfunction\u001b[0m\u001b[0;34m(\u001b[0m\u001b[0minputs\u001b[0m\u001b[0;34m=\u001b[0m\u001b[0;34m[\u001b[0m\u001b[0mX\u001b[0m\u001b[0;34m]\u001b[0m\u001b[0;34m,\u001b[0m \u001b[0moutputs\u001b[0m\u001b[0;34m=\u001b[0m\u001b[0mresults\u001b[0m\u001b[0;34m)\u001b[0m\u001b[0;34m\u001b[0m\u001b[0m\n\u001b[0m",
      "\u001b[0;32m/usr/local/lib/python2.7/site-packages/theano/compile/function.pyc\u001b[0m in \u001b[0;36mfunction\u001b[0;34m(inputs, outputs, mode, updates, givens, no_default_updates, accept_inplace, name, rebuild_strict, allow_input_downcast, profile, on_unused_input)\u001b[0m\n\u001b[1;32m    318\u001b[0m                    \u001b[0mon_unused_input\u001b[0m\u001b[0;34m=\u001b[0m\u001b[0mon_unused_input\u001b[0m\u001b[0;34m,\u001b[0m\u001b[0;34m\u001b[0m\u001b[0m\n\u001b[1;32m    319\u001b[0m                    \u001b[0mprofile\u001b[0m\u001b[0;34m=\u001b[0m\u001b[0mprofile\u001b[0m\u001b[0;34m,\u001b[0m\u001b[0;34m\u001b[0m\u001b[0m\n\u001b[0;32m--> 320\u001b[0;31m                    output_keys=output_keys)\n\u001b[0m\u001b[1;32m    321\u001b[0m     \u001b[0;31m# We need to add the flag check_aliased inputs if we have any mutable or\u001b[0m\u001b[0;34m\u001b[0m\u001b[0;34m\u001b[0m\u001b[0m\n\u001b[1;32m    322\u001b[0m     \u001b[0;31m# borrowed used defined inputs\u001b[0m\u001b[0;34m\u001b[0m\u001b[0;34m\u001b[0m\u001b[0m\n",
      "\u001b[0;32m/usr/local/lib/python2.7/site-packages/theano/compile/pfunc.pyc\u001b[0m in \u001b[0;36mpfunc\u001b[0;34m(params, outputs, mode, updates, givens, no_default_updates, accept_inplace, name, rebuild_strict, allow_input_downcast, profile, on_unused_input, output_keys)\u001b[0m\n\u001b[1;32m    440\u001b[0m                                          \u001b[0mrebuild_strict\u001b[0m\u001b[0;34m=\u001b[0m\u001b[0mrebuild_strict\u001b[0m\u001b[0;34m,\u001b[0m\u001b[0;34m\u001b[0m\u001b[0m\n\u001b[1;32m    441\u001b[0m                                          \u001b[0mcopy_inputs_over\u001b[0m\u001b[0;34m=\u001b[0m\u001b[0mTrue\u001b[0m\u001b[0;34m,\u001b[0m\u001b[0;34m\u001b[0m\u001b[0m\n\u001b[0;32m--> 442\u001b[0;31m                                          no_default_updates=no_default_updates)\n\u001b[0m\u001b[1;32m    443\u001b[0m     \u001b[0;31m# extracting the arguments\u001b[0m\u001b[0;34m\u001b[0m\u001b[0;34m\u001b[0m\u001b[0m\n\u001b[1;32m    444\u001b[0m     \u001b[0minput_variables\u001b[0m\u001b[0;34m,\u001b[0m \u001b[0mcloned_extended_outputs\u001b[0m\u001b[0;34m,\u001b[0m \u001b[0mother_stuff\u001b[0m \u001b[0;34m=\u001b[0m \u001b[0moutput_vars\u001b[0m\u001b[0;34m\u001b[0m\u001b[0m\n",
      "\u001b[0;32m/usr/local/lib/python2.7/site-packages/theano/compile/pfunc.pyc\u001b[0m in \u001b[0;36mrebuild_collect_shared\u001b[0;34m(outputs, inputs, replace, updates, rebuild_strict, copy_inputs_over, no_default_updates)\u001b[0m\n\u001b[1;32m    173\u001b[0m             raise TypeError(('Cannot use a shared variable (%s) as explicit '\n\u001b[1;32m    174\u001b[0m                              \u001b[0;34m'input. Consider substituting a non-shared'\u001b[0m\u001b[0;34m\u001b[0m\u001b[0m\n\u001b[0;32m--> 175\u001b[0;31m                              ' variable via the `givens` parameter') % v)\n\u001b[0m\u001b[1;32m    176\u001b[0m \u001b[0;34m\u001b[0m\u001b[0m\n\u001b[1;32m    177\u001b[0m     \u001b[0;31m# Fill update_d and update_expr with provided updates\u001b[0m\u001b[0;34m\u001b[0m\u001b[0;34m\u001b[0m\u001b[0m\n",
      "\u001b[0;31mTypeError\u001b[0m: Cannot use a shared variable (<TensorType(float32, 4D)>) as explicit input. Consider substituting a non-shared variable via the `givens` parameter"
     ]
    }
   ],
   "source": [
    "mix_channels = theano.function(inputs=[X], outputs=results)"
   ]
  },
  {
   "cell_type": "code",
   "execution_count": 1420,
   "metadata": {
    "collapsed": false
   },
   "outputs": [
    {
     "data": {
      "text/plain": [
       "array(0.0, dtype=float32)"
      ]
     },
     "execution_count": 1420,
     "metadata": {},
     "output_type": "execute_result"
    }
   ],
   "source": [
    "np.asarray(0., dtype=theano.config.floatX)"
   ]
  },
  {
   "cell_type": "code",
   "execution_count": 1406,
   "metadata": {
    "collapsed": false
   },
   "outputs": [
    {
     "ename": "TypeError",
     "evalue": "TensorType does not support iteration. Maybe you are using builtin.sum instead of theano.tensor.sum? (Maybe .max?)",
     "output_type": "error",
     "traceback": [
      "\u001b[0;31m---------------------------------------------------------------------------\u001b[0m",
      "\u001b[0;31mTypeError\u001b[0m                                 Traceback (most recent call last)",
      "\u001b[0;32m<ipython-input-1406-648d5ecbfc5f>\u001b[0m in \u001b[0;36m<module>\u001b[0;34m()\u001b[0m\n\u001b[1;32m      3\u001b[0m \u001b[0;31m# XX = T.zeros(out_shape)\u001b[0m\u001b[0;34m\u001b[0m\u001b[0;34m\u001b[0m\u001b[0m\n\u001b[1;32m      4\u001b[0m \u001b[0;34m\u001b[0m\u001b[0m\n\u001b[0;32m----> 5\u001b[0;31m \u001b[0;32mfor\u001b[0m \u001b[0mc\u001b[0m \u001b[0;32min\u001b[0m \u001b[0mX\u001b[0m\u001b[0;34m:\u001b[0m\u001b[0;34m\u001b[0m\u001b[0m\n\u001b[0m\u001b[1;32m      6\u001b[0m     \u001b[0;32mprint\u001b[0m \u001b[0mc\u001b[0m\u001b[0;34m.\u001b[0m\u001b[0meval\u001b[0m\u001b[0;34m(\u001b[0m\u001b[0;34m)\u001b[0m\u001b[0;34m\u001b[0m\u001b[0m\n",
      "\u001b[0;32m/usr/local/lib/python2.7/site-packages/theano/tensor/var.pyc\u001b[0m in \u001b[0;36m__iter__\u001b[0;34m(self)\u001b[0m\n\u001b[1;32m    551\u001b[0m         \u001b[0;32mexcept\u001b[0m \u001b[0mTypeError\u001b[0m\u001b[0;34m:\u001b[0m\u001b[0;34m\u001b[0m\u001b[0m\n\u001b[1;32m    552\u001b[0m             \u001b[0;31m# This prevents accidental iteration via builtin.sum(self)\u001b[0m\u001b[0;34m\u001b[0m\u001b[0;34m\u001b[0m\u001b[0m\n\u001b[0;32m--> 553\u001b[0;31m             raise TypeError(('TensorType does not support iteration. '\n\u001b[0m\u001b[1;32m    554\u001b[0m                              \u001b[0;34m'Maybe you are using builtin.sum instead of '\u001b[0m\u001b[0;34m\u001b[0m\u001b[0m\n\u001b[1;32m    555\u001b[0m                              'theano.tensor.sum? (Maybe .max?)'))\n",
      "\u001b[0;31mTypeError\u001b[0m: TensorType does not support iteration. Maybe you are using builtin.sum instead of theano.tensor.sum? (Maybe .max?)"
     ]
    }
   ],
   "source": [
    "# out_shape = T.set_subtensor(in_shape[1], in_shape[1]*(in_shape[1]-1))\n",
    "# out_shape.eval()\n",
    "# XX = T.zeros(out_shape)\n",
    "\n",
    "# X = T.matrix(\"X\")\n",
    "# results, updates = theano.scan(lambda i, j, t_f: T.cast(X[i, j] + t_f, floatX),\n",
    "#                   sequences=[T.arange(X.shape[0]), T.arange(X.shape[1])],\n",
    "#                   outputs_info=np.asarray(0., dtype=floatX))\n",
    "# result = results[-1]\n",
    "# compute_trace = theano.function(inputs=[X], outputs=result)\n",
    "\n",
    "# # test value\n",
    "# x = np.eye(5, dtype=theano.config.floatX)\n",
    "# x[0] = np.arange(5, dtype=theano.config.floatX)\n",
    "# print(compute_trace(x))\n"
   ]
  },
  {
   "cell_type": "code",
   "execution_count": null,
   "metadata": {
    "collapsed": true
   },
   "outputs": [],
   "source": []
  },
  {
   "cell_type": "code",
   "execution_count": 20,
   "metadata": {
    "collapsed": false
   },
   "outputs": [],
   "source": [
    "a = 2*K.ones((3, 5, 10,10))\n",
    "b = 3*K.ones((3, 5, 10,10))"
   ]
  },
  {
   "cell_type": "code",
   "execution_count": 21,
   "metadata": {
    "collapsed": false
   },
   "outputs": [],
   "source": [
    "c = K.concatenate([a, b], axis=1)"
   ]
  },
  {
   "cell_type": "code",
   "execution_count": 22,
   "metadata": {
    "collapsed": false
   },
   "outputs": [
    {
     "data": {
      "text/plain": [
       "array([ 3, 10, 10, 10])"
      ]
     },
     "execution_count": 22,
     "metadata": {},
     "output_type": "execute_result"
    }
   ],
   "source": [
    "K.shape(c).eval()"
   ]
  },
  {
   "cell_type": "code",
   "execution_count": null,
   "metadata": {
    "collapsed": true
   },
   "outputs": [],
   "source": []
  },
  {
   "cell_type": "code",
   "execution_count": null,
   "metadata": {
    "collapsed": true
   },
   "outputs": [],
   "source": []
  },
  {
   "cell_type": "code",
   "execution_count": null,
   "metadata": {
    "collapsed": true
   },
   "outputs": [],
   "source": []
  },
  {
   "cell_type": "code",
   "execution_count": 231,
   "metadata": {
    "collapsed": false
   },
   "outputs": [],
   "source": [
    "b = K.cast(K.greater(a, 0.5),'float32')"
   ]
  },
  {
   "cell_type": "code",
   "execution_count": 232,
   "metadata": {
    "collapsed": false
   },
   "outputs": [
    {
     "data": {
      "text/plain": [
       "array([ 0.,  0.,  0.,  0.,  0.,  0.,  0.,  0.,  0.,  0.,  0.,  1.,  1.,\n",
       "        1.,  1.,  1.,  1.,  1.,  1.,  1.], dtype=float32)"
      ]
     },
     "execution_count": 232,
     "metadata": {},
     "output_type": "execute_result"
    }
   ],
   "source": [
    "b.eval()"
   ]
  },
  {
   "cell_type": "code",
   "execution_count": 233,
   "metadata": {
    "collapsed": false
   },
   "outputs": [],
   "source": [
    "c = a * b"
   ]
  },
  {
   "cell_type": "code",
   "execution_count": 234,
   "metadata": {
    "collapsed": false
   },
   "outputs": [
    {
     "data": {
      "text/plain": [
       "array([ 0.        ,  0.        ,  0.        ,  0.        ,  0.        ,\n",
       "        0.        ,  0.        ,  0.        ,  0.        ,  0.        ,\n",
       "        0.        ,  0.55000001,  0.60000002,  0.64999998,  0.69999999,\n",
       "        0.75      ,  0.80000001,  0.85000002,  0.89999998,  0.94999999], dtype=float32)"
      ]
     },
     "execution_count": 234,
     "metadata": {},
     "output_type": "execute_result"
    }
   ],
   "source": [
    "c.eval()"
   ]
  },
  {
   "cell_type": "code",
   "execution_count": null,
   "metadata": {
    "collapsed": true
   },
   "outputs": [],
   "source": []
  }
 ],
 "metadata": {
  "kernelspec": {
   "display_name": "Python 2",
   "language": "python",
   "name": "python2"
  },
  "language_info": {
   "codemirror_mode": {
    "name": "ipython",
    "version": 2
   },
   "file_extension": ".py",
   "mimetype": "text/x-python",
   "name": "python",
   "nbconvert_exporter": "python",
   "pygments_lexer": "ipython2",
   "version": "2.7.13"
  }
 },
 "nbformat": 4,
 "nbformat_minor": 0
}
