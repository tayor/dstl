{
 "cells": [
  {
   "cell_type": "markdown",
   "metadata": {},
   "source": [
    "# Mix channels\n",
    "\n",
    "\n",
    "## Results: \n",
    "    \n",
    "Channels: panchro [0], 8 MS [1:9], 8 SWIR [9:17]\n",
    "    \n",
    "###   Vegetations\n",
    "\n",
    "    - panchromatic[0] / MS[5] = Trees, Crops, Misc manmade structures (of trees) \n",
    "    - panchromatic[0] / MS[4] = Trees, Crops, Misc manmade structures (of trees) \n",
    "    - MS[1] / MS[5] = Trees, Crops, Misc manmade structures (of trees) \n",
    "    - MS[2] / MS[5] = Trees, Crops, Misc manmade structures (of trees) \n",
    "    - MS[6] / MS[4] = Trees, Crops, Misc manmade structures (of trees) \n",
    "    - MS[6] / MS[5] = Trees, Crops, Misc manmade structures (of trees) \n",
    "    - MS[7] / MS[4] = Trees, Crops, Misc manmade structures (of trees) \n",
    "    - MS[7] / MS[5] = Trees, Crops, Misc manmade structures (of trees) \n",
    "    - MS[7] / MS[10:17] = Trees, Crops, Misc manmade structures (of trees) \n",
    "    - MS[8] / MS[4] = Trees, Crops, Misc manmade structures (of trees) \n",
    "    - MS[8:17] / MS[5] = Trees, Crops, Misc manmade structures (of trees) \n",
    "        \n",
    "\n",
    "### Buildings \n",
    "\n",
    "    - MS[2] / MS[9] = Less-vegetation, More buildings, structures etc\n",
    "    - MS[4] / MS[9] = Less-vegetation, More buildings, structures etc\n",
    "\n",
    "    - panchromatic[0] / MS[8] = Buildings, Manmade structures\n",
    "    - panchromatic[0] / MS[7] = Buildings, Manmade structures\n",
    "    \n",
    "    - panchromatic[0] / MS[6] = Certain buildings, Manmade structures\n",
    "    - MS[1] / MS[6:9] = Certain buildings, Manmade structures\n",
    "    - MS[1] / MS[6:9] = Certain buildings, Manmade structures\n",
    "    - MS[2] / MS[0] = Certain buildings, Manmade structures\n",
    "    \n",
    "    - MS[1] / MS[8] = Buildings, Manmade structures \n",
    "    - MS[1] / MS[7] = Buildings, Manmade structures \n",
    "    - MS[3] / MS[8] = Buildings, Manmade structures \n",
    "    - MS[3] / MS[7] = Buildings, Manmade structures \n",
    "    - MS[4] / MS[8] = Buildings, Manmade structures \n",
    "    - MS[4] / MS[7] = Buildings, Manmade structures \n",
    "\n",
    "\n",
    "\n",
    "\n"
   ]
  },
  {
   "cell_type": "code",
   "execution_count": null,
   "metadata": {
    "collapsed": false
   },
   "outputs": [],
   "source": [
    "# https://ipython.org/ipython-doc/3/config/extensions/autoreload.html\n",
    "%load_ext autoreload\n",
    "%autoreload 2"
   ]
  },
  {
   "cell_type": "code",
   "execution_count": null,
   "metadata": {
    "collapsed": false
   },
   "outputs": [],
   "source": [
    "import numpy as np\n",
    "import matplotlib.pylab as plt\n",
    "from matplotlib.patches import Rectangle, Polygon, Patch\n",
    "%matplotlib inline"
   ]
  },
  {
   "cell_type": "code",
   "execution_count": null,
   "metadata": {
    "collapsed": true
   },
   "outputs": [],
   "source": [
    "import os \n",
    "import sys\n",
    "sys.path.append(\"../common/\")"
   ]
  },
  {
   "cell_type": "code",
   "execution_count": null,
   "metadata": {
    "collapsed": false
   },
   "outputs": [],
   "source": [
    "from data_utils import GRID_SIZE, TRAIN_WKT, LABELS, get_resized_polygons, TRAIN_IMAGE_IDS, ALL_IMAGE_IDS\n",
    "from image_utils import get_image_data, generate_pansharpened, generate_label_image, make_ratios_vegetation\n",
    "from visu_utils import display_img_1b, display_img_3b, display_img_8b, display_labels"
   ]
  },
  {
   "cell_type": "code",
   "execution_count": null,
   "metadata": {
    "collapsed": false
   },
   "outputs": [],
   "source": [
    "LABELS"
   ]
  },
  {
   "cell_type": "markdown",
   "metadata": {},
   "source": [
    "### Analyse channel ratios"
   ]
  },
  {
   "cell_type": "code",
   "execution_count": null,
   "metadata": {
    "collapsed": false
   },
   "outputs": [],
   "source": [
    "# TRAIN_IMAGE_IDS"
   ]
  },
  {
   "cell_type": "code",
   "execution_count": null,
   "metadata": {
    "collapsed": false
   },
   "outputs": [],
   "source": [
    "# image_id = \"6140_3_1\"\n",
    "# x = get_image_data(image_id, '17b')\n",
    "# l = get_image_data(image_id, 'label')\n",
    "# print x.shape, l.shape"
   ]
  },
  {
   "cell_type": "code",
   "execution_count": null,
   "metadata": {
    "collapsed": false
   },
   "outputs": [],
   "source": [
    "# ratios = make_ratios_vegetation(x)"
   ]
  },
  {
   "cell_type": "code",
   "execution_count": null,
   "metadata": {
    "collapsed": false
   },
   "outputs": [],
   "source": [
    "# n_channels = x.shape[2]\n",
    "# n_labels = l.shape[2]\n",
    "# n, m = 3, int(n_channels * 1.0 / 3.0 + 0.5), \n",
    "# plt.figure(figsize=(14,8))\n",
    "# for i in range(n_channels):\n",
    "#     plt.subplot(n, m, i+1)\n",
    "#     display_img_1b(x[:,:,i])    \n",
    "#     plt.title(\"Channel %i\" % i)\n",
    "\n",
    "# n, m = 3, int(n_labels * 1.0 / 3.0 + 0.5), \n",
    "# plt.figure(figsize=(14,8))\n",
    "# for i in range(n_labels):\n",
    "#     plt.subplot(n, m, i+1)\n",
    "#     display_img_1b(l[:,:,i])    \n",
    "#     plt.title(\"%s\" % LABELS[i])\n",
    "\n",
    "# n_channels = ratios.shape[2]    \n",
    "# n, m = 3, int(n_channels * 1.0 / 3.0 + 0.5), \n",
    "# plt.figure(figsize=(14,8))\n",
    "# for i in range(n_channels):\n",
    "#     plt.subplot(n, m, i+1)\n",
    "#     display_img_1b(ratios[:,:,i])    \n",
    "#     plt.title(\"ratio %i\" % i)"
   ]
  },
  {
   "cell_type": "code",
   "execution_count": null,
   "metadata": {
    "collapsed": true
   },
   "outputs": [],
   "source": []
  },
  {
   "cell_type": "markdown",
   "metadata": {
    "collapsed": true
   },
   "source": [
    "### Analyse whole non-tiled images"
   ]
  },
  {
   "cell_type": "code",
   "execution_count": null,
   "metadata": {
    "collapsed": false
   },
   "outputs": [],
   "source": [
    "TRAIN_IMAGE_IDS"
   ]
  },
  {
   "cell_type": "code",
   "execution_count": null,
   "metadata": {
    "collapsed": true
   },
   "outputs": [],
   "source": [
    "def display_ratio(num_index, denom_index, more_plots=False):\n",
    "    num = x[:,:,num_index].astype(np.float)\n",
    "    denom = x[:,:,denom_index].astype(np.float)\n",
    "    ratio = num/(denom + 0.0001)\n",
    "\n",
    "    roi = [1445, 1437, 1445+500, 1437+500]\n",
    "    print ratio.shape, ratio.min(), ratio.max()\n",
    "\n",
    "    fig_size = (14, 12)\n",
    "    plt.figure(figsize=fig_size)\n",
    "    plt.subplot(121)\n",
    "    display_img_1b(ratio, roi)\n",
    "    plt.title(\"Ratio : %i / %i\" % (i,j))\n",
    "    plt.subplot(122)\n",
    "    display_img_1b(ratio, roi)\n",
    "    plt.title(\"ratio + labels\")\n",
    "#     display_labels(label_img, roi, alpha=0.35, show_legend=False)\n",
    "    \n",
    "    if more_plots:\n",
    "        plt.figure(figsize=fig_size)\n",
    "        plt.subplot(131)\n",
    "        display_img_1b(num, roi)\n",
    "        plt.title(\"num\")\n",
    "        plt.subplot(132)\n",
    "        display_img_1b(denom, roi)\n",
    "        plt.title(\"denom\")\n",
    "        plt.subplot(133)\n",
    "#         display_labels(label_img, roi)\n",
    "        plt.title(\"labels\")"
   ]
  },
  {
   "cell_type": "markdown",
   "metadata": {},
   "source": [
    "### [NDVI](http://earthobservatory.nasa.gov/Features/MeasuringVegetation/measuring_vegetation_2.php) \n",
    "\n",
    "Nearly all satellite Vegetation Indices employ this difference formula to quantify the density of plant growth on the Earth — near-infrared radiation minus visible radiation divided by near-infrared radiation plus visible radiation. The result of this formula is called the Normalized Difference Vegetation Index (NDVI). Written mathematically, the formula is:\n",
    "$$NDVI = (NIR — VIS)/(NIR + VIS)$$\n",
    "Calculations of NDVI for a given pixel always result in a number that ranges from minus one (-1) to plus one (+1); however, no green leaves gives a value close to zero. A zero means no vegetation and close to +1 (0.8 - 0.9) indicates the highest possible density of green leaves.\n"
   ]
  },
  {
   "cell_type": "markdown",
   "metadata": {},
   "source": [
    "Imagery details\n",
    "\n",
    "Sensor : WorldView 3\n",
    "\n",
    "Wavebands :\n",
    "\n",
    "    - Panchromatic: 450-800 nm\n",
    "    - 8 Multispectral: (red, red edge, coastal, blue, green, yellow, near-IR1 and near-IR2) 400 nm - 1040 nm\n",
    "    - 8 SWIR: 1195 nm - 2365 nm\n",
    "\n",
    "\n",
    "Sensor Resolution (GSD) at Nadir :\n",
    "\n",
    "    Panchromatic: 0.31m \n",
    "    Multispectral: 1.24 m\n",
    "    SWIR: Delivered at 7.5m\n",
    "\n",
    "Dynamic Range\n",
    "    \n",
    "    - Panchromatic and multispectral : 11-bits per pixel\n",
    "    - SWIR : 14-bits per pixel\n",
    "    \n",
    "```    \n",
    "8 MS :   Coastal, Blue, Green, Yellow, Red, Red Edge, Near-IR1, Near-IR2\n",
    "            1       2     3      4      5      6          7         8\n",
    "```"
   ]
  },
  {
   "cell_type": "code",
   "execution_count": null,
   "metadata": {
    "collapsed": false
   },
   "outputs": [],
   "source": [
    "image_id = \"6040_2_2\"\n",
    "x = get_image_data(image_id, '17b')\n",
    "label_img = generate_label_image(image_id)"
   ]
  },
  {
   "cell_type": "code",
   "execution_count": null,
   "metadata": {
    "collapsed": false
   },
   "outputs": [],
   "source": [
    "def compute_ndvi_like(x, vis_index, nir_index):\n",
    "    vis = x[:,:,vis_index].astype(np.float32)\n",
    "    nir = x[:,:,nir_index].astype(np.float32())\n",
    "    ndvi = (nir - vis) / (nir + vis + 0.00001)\n",
    "    return ndvi"
   ]
  },
  {
   "cell_type": "code",
   "execution_count": null,
   "metadata": {
    "collapsed": true
   },
   "outputs": [],
   "source": [
    "def display_ndvi_like(ndvi_like, label_img, roi, alpha, nir_ch, vis_ch):\n",
    "    fig_size = (12, 12)\n",
    "    plt.figure(figsize=fig_size)\n",
    "    plt.subplot(121)\n",
    "    display_img_1b(ndvi_like, roi)\n",
    "    plt.title(\"ndvi-like: nir=%i, vis=%i\" % (nir_ch, vis_ch))\n",
    "    plt.subplot(122)\n",
    "    display_img_1b(ndvi_like, roi)\n",
    "    plt.title(\"ndvi-like + labels\")\n",
    "    display_labels(label_img, roi, alpha=alpha, show_legend=True)"
   ]
  },
  {
   "cell_type": "code",
   "execution_count": null,
   "metadata": {
    "collapsed": false
   },
   "outputs": [],
   "source": [
    "from ipywidgets import interact, IntSlider, FloatSlider\n",
    "\n",
    "def interactive_ndvi_like(nir_ch, vis_ch, roi_x, roi_y, alpha):\n",
    "    \n",
    "    ndvi_like = compute_ndvi_like(x, vis_ch, nir_ch)\n",
    "    roi = [roi_x, roi_y, roi_x+500, roi_y+500]\n",
    "    display_ndvi_like(ndvi_like, label_img, roi, alpha, nir_ch, vis_ch)\n",
    "    \n",
    "_ = interact(interactive_ndvi_like,           \n",
    "     nir_ch=IntSlider(value=8, min=1, max=16, continuous_update=False), \n",
    "     vis_ch=IntSlider(value=5, min=1, max=16, continuous_update=False), \n",
    "     roi_x=IntSlider(value=500, min=0, max=3500, continuous_update=False), \n",
    "     roi_y=IntSlider(value=1, min=0, max=3500, continuous_update=False), \n",
    "     alpha=FloatSlider(value=0.35, min=0, max=1.0, step=0.1, continuous_update=False))"
   ]
  },
  {
   "cell_type": "markdown",
   "metadata": {},
   "source": [
    "Visualize ndvi-like channel ratios"
   ]
  },
  {
   "cell_type": "code",
   "execution_count": null,
   "metadata": {
    "collapsed": true
   },
   "outputs": [],
   "source": [
    "# def display_ratio(num_index, denom_index, more_plots=False):\n",
    "#     num = x[:,:,num_index].astype(np.float)\n",
    "#     denom = x[:,:,denom_index].astype(np.float)\n",
    "#     ratio = num/(denom + 0.0001)\n",
    "\n",
    "    \n",
    "#     print ratio.shape, ratio.min(), ratio.max()\n",
    "\n",
    "#     fig_size = (14, 12)\n",
    "#     plt.figure(figsize=fig_size)\n",
    "#     plt.subplot(121)\n",
    "#     display_img_1b(ratio, roi)\n",
    "#     plt.title(\"Ratio : %i / %i\" % (i,j))\n",
    "#     plt.subplot(122)\n",
    "#     display_img_1b(ratio, roi)\n",
    "#     plt.title(\"ratio + labels\")"
   ]
  },
  {
   "cell_type": "code",
   "execution_count": null,
   "metadata": {
    "collapsed": true
   },
   "outputs": [],
   "source": [
    "roi = [1445, 1437, 1445+500, 1437+500]"
   ]
  },
  {
   "cell_type": "code",
   "execution_count": null,
   "metadata": {
    "collapsed": false,
    "scrolled": true
   },
   "outputs": [],
   "source": [
    "i = 1\n",
    "for j in range(1,9):\n",
    "    if i == j:\n",
    "        continue\n",
    "    ndvi_like = compute_ndvi_like(x, i, j)\n",
    "    display_ndvi_like(ndvi_like, label_img, roi, 0.35, i, j)    "
   ]
  },
  {
   "cell_type": "code",
   "execution_count": null,
   "metadata": {
    "collapsed": false,
    "scrolled": true
   },
   "outputs": [],
   "source": [
    "i = 2\n",
    "for j in range(1,9):\n",
    "    if i == j:\n",
    "        continue\n",
    "    ndvi_like = compute_ndvi_like(x, i, j)\n",
    "    display_ndvi_like(ndvi_like, label_img, roi, 0.35, i, j)    "
   ]
  },
  {
   "cell_type": "code",
   "execution_count": null,
   "metadata": {
    "collapsed": false,
    "scrolled": true
   },
   "outputs": [],
   "source": [
    "i = 3\n",
    "for j in range(1,9):\n",
    "    if i == j:\n",
    "        continue\n",
    "    ndvi_like = compute_ndvi_like(x, i, j)\n",
    "    display_ndvi_like(ndvi_like, label_img, roi, 0.35, i, j)    "
   ]
  },
  {
   "cell_type": "code",
   "execution_count": null,
   "metadata": {
    "collapsed": false,
    "scrolled": true
   },
   "outputs": [],
   "source": [
    "i = 4\n",
    "for j in range(1,9):\n",
    "    if i == j:\n",
    "        continue\n",
    "    ndvi_like = compute_ndvi_like(x, i, j)\n",
    "    display_ndvi_like(ndvi_like, label_img, roi, 0.35, i, j)    "
   ]
  },
  {
   "cell_type": "code",
   "execution_count": null,
   "metadata": {
    "collapsed": false,
    "scrolled": true
   },
   "outputs": [],
   "source": [
    "i = 5\n",
    "for j in range(1,9):\n",
    "    if i == j:\n",
    "        continue\n",
    "    ndvi_like = compute_ndvi_like(x, i, j)\n",
    "    display_ndvi_like(ndvi_like, label_img, roi, 0.35, i, j)    "
   ]
  },
  {
   "cell_type": "code",
   "execution_count": null,
   "metadata": {
    "collapsed": false,
    "scrolled": true
   },
   "outputs": [],
   "source": [
    "i = 6\n",
    "for j in range(1,9):\n",
    "    if i == j:\n",
    "        continue\n",
    "    ndvi_like = compute_ndvi_like(x, i, j)\n",
    "    display_ndvi_like(ndvi_like, label_img, roi, 0.35, i, j)    "
   ]
  },
  {
   "cell_type": "code",
   "execution_count": null,
   "metadata": {
    "collapsed": false,
    "scrolled": true
   },
   "outputs": [],
   "source": [
    "i = 7\n",
    "for j in range(1,9):\n",
    "    if i == j:\n",
    "        continue\n",
    "    ndvi_like = compute_ndvi_like(x, i, j)\n",
    "    display_ndvi_like(ndvi_like, label_img, roi, 0.35, i, j)    "
   ]
  },
  {
   "cell_type": "code",
   "execution_count": null,
   "metadata": {
    "collapsed": false,
    "scrolled": true
   },
   "outputs": [],
   "source": [
    "i = 8\n",
    "for j in range(1,9):\n",
    "    if i == j:\n",
    "        continue\n",
    "    ndvi_like = compute_ndvi_like(x, i, j)\n",
    "    display_ndvi_like(ndvi_like, label_img, roi, 0.35, i, j)    "
   ]
  },
  {
   "cell_type": "code",
   "execution_count": null,
   "metadata": {
    "collapsed": true
   },
   "outputs": [],
   "source": []
  },
  {
   "cell_type": "code",
   "execution_count": null,
   "metadata": {
    "collapsed": true
   },
   "outputs": [],
   "source": []
  },
  {
   "cell_type": "code",
   "execution_count": null,
   "metadata": {
    "collapsed": true
   },
   "outputs": [],
   "source": []
  },
  {
   "cell_type": "code",
   "execution_count": null,
   "metadata": {
    "collapsed": true
   },
   "outputs": [],
   "source": []
  },
  {
   "cell_type": "markdown",
   "metadata": {
    "collapsed": true
   },
   "source": [
    "NDVI-like ratios between SWIR channels on original size images"
   ]
  },
  {
   "cell_type": "code",
   "execution_count": null,
   "metadata": {
    "collapsed": false
   },
   "outputs": [],
   "source": [
    "import cv2"
   ]
  },
  {
   "cell_type": "code",
   "execution_count": null,
   "metadata": {
    "collapsed": false
   },
   "outputs": [],
   "source": [
    "img_swir = get_image_data(image_id, 'swir_aligned')\n",
    "label_img_swir = generate_label_image(image_id, 'swir_aligned')\n",
    "img_swir.shape, label_img_swir.shape"
   ]
  },
  {
   "cell_type": "code",
   "execution_count": null,
   "metadata": {
    "collapsed": true
   },
   "outputs": [],
   "source": [
    "i = 0\n",
    "for j in range(8):\n",
    "    if i == j:\n",
    "        continue\n",
    "    ndvi_like = compute_ndvi_like(img_swir, i, j)\n",
    "    display_ndvi_like(ndvi_like, label_img_swir, None, 0.35, i, j)    "
   ]
  },
  {
   "cell_type": "code",
   "execution_count": null,
   "metadata": {
    "collapsed": true
   },
   "outputs": [],
   "source": [
    "i = 1\n",
    "for j in range(8):\n",
    "    if i == j:\n",
    "        continue\n",
    "    ndvi_like = compute_ndvi_like(img_swir, i, j)\n",
    "    display_ndvi_like(ndvi_like, label_img_swir, None, 0.35, i, j)    "
   ]
  },
  {
   "cell_type": "code",
   "execution_count": null,
   "metadata": {
    "collapsed": true
   },
   "outputs": [],
   "source": [
    "i = 2\n",
    "for j in range(8):\n",
    "    if i == j:\n",
    "        continue\n",
    "    ndvi_like = compute_ndvi_like(img_swir, i, j)\n",
    "    display_ndvi_like(ndvi_like, label_img_swir, None, 0.35, i, j)    "
   ]
  },
  {
   "cell_type": "code",
   "execution_count": null,
   "metadata": {
    "collapsed": true
   },
   "outputs": [],
   "source": [
    "i = 3\n",
    "for j in range(8):\n",
    "    if i == j:\n",
    "        continue\n",
    "    ndvi_like = compute_ndvi_like(img_swir, i, j)\n",
    "    display_ndvi_like(ndvi_like, label_img_swir, None, 0.35, i, j)    "
   ]
  },
  {
   "cell_type": "code",
   "execution_count": null,
   "metadata": {
    "collapsed": true
   },
   "outputs": [],
   "source": [
    "i = 4\n",
    "for j in range(8):\n",
    "    if i == j:\n",
    "        continue\n",
    "    ndvi_like = compute_ndvi_like(img_swir, i, j)\n",
    "    display_ndvi_like(ndvi_like, label_img_swir, None, 0.35, i, j)    "
   ]
  },
  {
   "cell_type": "code",
   "execution_count": null,
   "metadata": {
    "collapsed": true
   },
   "outputs": [],
   "source": [
    "i = 5\n",
    "for j in range(8):\n",
    "    if i == j:\n",
    "        continue\n",
    "    ndvi_like = compute_ndvi_like(img_swir, i, j)\n",
    "    display_ndvi_like(ndvi_like, label_img_swir, None, 0.35, i, j)    "
   ]
  },
  {
   "cell_type": "code",
   "execution_count": null,
   "metadata": {
    "collapsed": true
   },
   "outputs": [],
   "source": [
    "i = 6\n",
    "for j in range(8):\n",
    "    if i == j:\n",
    "        continue\n",
    "    ndvi_like = compute_ndvi_like(img_swir, i, j)\n",
    "    display_ndvi_like(ndvi_like, label_img_swir, None, 0.35, i, j)  "
   ]
  },
  {
   "cell_type": "code",
   "execution_count": null,
   "metadata": {
    "collapsed": true
   },
   "outputs": [],
   "source": [
    "i = 7\n",
    "for j in range(8):\n",
    "    if i == j:\n",
    "        continue\n",
    "    ndvi_like = compute_ndvi_like(img_swir, i, j)\n",
    "    display_ndvi_like(ndvi_like, label_img_swir, None, 0.35, i, j)    "
   ]
  },
  {
   "cell_type": "code",
   "execution_count": null,
   "metadata": {
    "collapsed": true
   },
   "outputs": [],
   "source": []
  },
  {
   "cell_type": "code",
   "execution_count": null,
   "metadata": {
    "collapsed": true
   },
   "outputs": [],
   "source": []
  },
  {
   "cell_type": "markdown",
   "metadata": {},
   "source": [
    "NDVI-like ratios between SWIR channels"
   ]
  },
  {
   "cell_type": "code",
   "execution_count": null,
   "metadata": {
    "collapsed": true
   },
   "outputs": [],
   "source": [
    "i = 9\n",
    "for j in range(9,17):\n",
    "    if i == j:\n",
    "        continue\n",
    "    ndvi_like = compute_ndvi_like(x, i, j)\n",
    "    display_ndvi_like(ndvi_like, label_img, roi, 0.35, i, j)    "
   ]
  },
  {
   "cell_type": "code",
   "execution_count": null,
   "metadata": {
    "collapsed": true
   },
   "outputs": [],
   "source": [
    "i = 10\n",
    "for j in range(9,17):\n",
    "    if i == j:\n",
    "        continue\n",
    "    ndvi_like = compute_ndvi_like(x, i, j)\n",
    "    display_ndvi_like(ndvi_like, label_img, roi, 0.35, i, j)    "
   ]
  },
  {
   "cell_type": "code",
   "execution_count": null,
   "metadata": {
    "collapsed": true
   },
   "outputs": [],
   "source": [
    "i = 11\n",
    "for j in range(9,17):\n",
    "    if i == j:\n",
    "        continue\n",
    "    ndvi_like = compute_ndvi_like(x, i, j)\n",
    "    display_ndvi_like(ndvi_like, label_img, roi, 0.35, i, j)    "
   ]
  },
  {
   "cell_type": "code",
   "execution_count": null,
   "metadata": {
    "collapsed": true
   },
   "outputs": [],
   "source": [
    "i = 12\n",
    "for j in range(9,17):\n",
    "    if i == j:\n",
    "        continue\n",
    "    ndvi_like = compute_ndvi_like(x, i, j)\n",
    "    display_ndvi_like(ndvi_like, label_img, roi, 0.35, i, j)    "
   ]
  },
  {
   "cell_type": "code",
   "execution_count": null,
   "metadata": {
    "collapsed": true
   },
   "outputs": [],
   "source": [
    "i = 13\n",
    "for j in range(9,17):\n",
    "    if i == j:\n",
    "        continue\n",
    "    ndvi_like = compute_ndvi_like(x, i, j)\n",
    "    display_ndvi_like(ndvi_like, label_img, roi, 0.35, i, j)    "
   ]
  },
  {
   "cell_type": "code",
   "execution_count": null,
   "metadata": {
    "collapsed": true
   },
   "outputs": [],
   "source": [
    "i = 14\n",
    "for j in range(9,17):\n",
    "    if i == j:\n",
    "        continue\n",
    "    ndvi_like = compute_ndvi_like(x, i, j)\n",
    "    display_ndvi_like(ndvi_like, label_img, roi, 0.35, i, j)    "
   ]
  },
  {
   "cell_type": "code",
   "execution_count": null,
   "metadata": {
    "collapsed": true
   },
   "outputs": [],
   "source": [
    "i = 15\n",
    "for j in range(9,17):\n",
    "    if i == j:\n",
    "        continue\n",
    "    ndvi_like = compute_ndvi_like(x, i, j)\n",
    "    display_ndvi_like(ndvi_like, label_img, roi, 0.35, i, j)    "
   ]
  },
  {
   "cell_type": "code",
   "execution_count": null,
   "metadata": {
    "collapsed": true
   },
   "outputs": [],
   "source": [
    "i = 16\n",
    "for j in range(9,17):\n",
    "    if i == j:\n",
    "        continue\n",
    "    ndvi_like = compute_ndvi_like(x, i, j)\n",
    "    display_ndvi_like(ndvi_like, label_img, roi, 0.35, i, j)    "
   ]
  },
  {
   "cell_type": "code",
   "execution_count": null,
   "metadata": {
    "collapsed": true
   },
   "outputs": [],
   "source": []
  },
  {
   "cell_type": "code",
   "execution_count": null,
   "metadata": {
    "collapsed": true
   },
   "outputs": [],
   "source": []
  },
  {
   "cell_type": "code",
   "execution_count": null,
   "metadata": {
    "collapsed": true
   },
   "outputs": [],
   "source": []
  },
  {
   "cell_type": "code",
   "execution_count": null,
   "metadata": {
    "collapsed": true
   },
   "outputs": [],
   "source": []
  },
  {
   "cell_type": "markdown",
   "metadata": {},
   "source": [
    "Visualize channels ratio"
   ]
  },
  {
   "cell_type": "code",
   "execution_count": null,
   "metadata": {
    "collapsed": false
   },
   "outputs": [],
   "source": [
    "i = 0\n",
    "for j in range(17):\n",
    "    if i >= j:\n",
    "        continue\n",
    "    display_ratio(x, i, j)    "
   ]
  },
  {
   "cell_type": "code",
   "execution_count": null,
   "metadata": {
    "collapsed": false
   },
   "outputs": [],
   "source": [
    "i = 1\n",
    "for j in range(17):\n",
    "    if i == j:\n",
    "        continue\n",
    "    display_ratio(x, i, j)"
   ]
  },
  {
   "cell_type": "code",
   "execution_count": null,
   "metadata": {
    "collapsed": false
   },
   "outputs": [],
   "source": [
    "i = 2\n",
    "for j in range(17):\n",
    "    if i == j:\n",
    "        continue\n",
    "    display_ratio(x, i, j)"
   ]
  },
  {
   "cell_type": "code",
   "execution_count": null,
   "metadata": {
    "collapsed": false,
    "scrolled": true
   },
   "outputs": [],
   "source": [
    "i = 3\n",
    "for j in range(17):\n",
    "    if i == j:\n",
    "        continue\n",
    "    display_ratio(x, i, j)"
   ]
  },
  {
   "cell_type": "code",
   "execution_count": null,
   "metadata": {
    "collapsed": false,
    "scrolled": true
   },
   "outputs": [],
   "source": [
    "i = 4\n",
    "for j in range(17):\n",
    "    if i == j:\n",
    "        continue\n",
    "    display_ratio(x, i, j)"
   ]
  },
  {
   "cell_type": "code",
   "execution_count": null,
   "metadata": {
    "collapsed": false
   },
   "outputs": [],
   "source": [
    "i = 5\n",
    "for j in range(17):\n",
    "    if i == j:\n",
    "        continue\n",
    "    display_ratio(x, i, j)"
   ]
  },
  {
   "cell_type": "code",
   "execution_count": null,
   "metadata": {
    "collapsed": false,
    "scrolled": true
   },
   "outputs": [],
   "source": [
    "i = 6\n",
    "for j in range(17):\n",
    "    if i == j:\n",
    "        continue\n",
    "    display_ratio(x, i, j)"
   ]
  },
  {
   "cell_type": "code",
   "execution_count": null,
   "metadata": {
    "collapsed": false,
    "scrolled": true
   },
   "outputs": [],
   "source": [
    "i = 7\n",
    "for j in range(17):\n",
    "    if i == j:\n",
    "        continue\n",
    "    display_ratio(x, i, j)"
   ]
  },
  {
   "cell_type": "code",
   "execution_count": null,
   "metadata": {
    "collapsed": false,
    "scrolled": true
   },
   "outputs": [],
   "source": [
    "i = 8\n",
    "for j in range(17):\n",
    "    if i == j:\n",
    "        continue\n",
    "    display_ratio(x, i, j)"
   ]
  },
  {
   "cell_type": "code",
   "execution_count": null,
   "metadata": {
    "collapsed": false,
    "scrolled": true
   },
   "outputs": [],
   "source": [
    "i = 9\n",
    "for j in range(17):\n",
    "    if i == j:\n",
    "        continue\n",
    "    display_ratio(x, i, j)"
   ]
  },
  {
   "cell_type": "code",
   "execution_count": null,
   "metadata": {
    "collapsed": false,
    "scrolled": true
   },
   "outputs": [],
   "source": [
    "i = 10\n",
    "for j in range(17):\n",
    "    if i == j:\n",
    "        continue\n",
    "    display_ratio(x, i, j)"
   ]
  },
  {
   "cell_type": "code",
   "execution_count": null,
   "metadata": {
    "collapsed": false,
    "scrolled": true
   },
   "outputs": [],
   "source": [
    "i = 11\n",
    "for j in range(17):\n",
    "    if i == j:\n",
    "        continue\n",
    "    display_ratio(x, i, j)"
   ]
  },
  {
   "cell_type": "code",
   "execution_count": null,
   "metadata": {
    "collapsed": false,
    "scrolled": true
   },
   "outputs": [],
   "source": [
    "i = 12\n",
    "for j in range(17):\n",
    "    if i == j:\n",
    "        continue\n",
    "    display_ratio(x, i, j)"
   ]
  },
  {
   "cell_type": "code",
   "execution_count": null,
   "metadata": {
    "collapsed": false,
    "scrolled": true
   },
   "outputs": [],
   "source": [
    "i = 13\n",
    "for j in range(17):\n",
    "    if i == j:\n",
    "        continue\n",
    "    display_ratio(x, i, j)"
   ]
  },
  {
   "cell_type": "code",
   "execution_count": null,
   "metadata": {
    "collapsed": false,
    "scrolled": true
   },
   "outputs": [],
   "source": [
    "i = 14\n",
    "for j in range(17):\n",
    "    if i == j:\n",
    "        continue\n",
    "    display_ratio(x, i, j)"
   ]
  },
  {
   "cell_type": "code",
   "execution_count": null,
   "metadata": {
    "collapsed": false,
    "scrolled": true
   },
   "outputs": [],
   "source": [
    "i = 15\n",
    "for j in range(17):\n",
    "    if i == j:\n",
    "        continue\n",
    "    display_ratio(x, i, j)"
   ]
  },
  {
   "cell_type": "code",
   "execution_count": null,
   "metadata": {
    "collapsed": false,
    "scrolled": true
   },
   "outputs": [],
   "source": [
    "i = 16\n",
    "for j in range(17):\n",
    "    if i == j:\n",
    "        continue\n",
    "    display_ratio(x, i, j)"
   ]
  },
  {
   "cell_type": "code",
   "execution_count": null,
   "metadata": {
    "collapsed": true
   },
   "outputs": [],
   "source": []
  },
  {
   "cell_type": "code",
   "execution_count": null,
   "metadata": {
    "collapsed": true
   },
   "outputs": [],
   "source": []
  },
  {
   "cell_type": "markdown",
   "metadata": {
    "collapsed": true
   },
   "source": [
    "Some functions on channels"
   ]
  },
  {
   "cell_type": "code",
   "execution_count": null,
   "metadata": {
    "collapsed": false
   },
   "outputs": [],
   "source": [
    "def compute_log(x, index):\n",
    "    ch = x[:,:,index].astype(np.float32)\n",
    "    ch = np.log(1 + ch)\n",
    "    return ch\n",
    "\n",
    "def compute_power(x, index, p):\n",
    "    ch = x[:,:,index].astype(np.float32)\n",
    "    ch = np.power(ch, p)\n",
    "    return ch"
   ]
  },
  {
   "cell_type": "code",
   "execution_count": null,
   "metadata": {
    "collapsed": true
   },
   "outputs": [],
   "source": [
    "def display_func(img, label_img, roi, alpha, title):\n",
    "    fig_size = (12, 12)\n",
    "    plt.figure(figsize=fig_size)\n",
    "    plt.subplot(121)\n",
    "    display_img_1b(img, roi)\n",
    "    plt.title(title)\n",
    "    plt.subplot(122)\n",
    "    display_img_1b(img, roi)\n",
    "    plt.title(title + \" + labels\")\n",
    "    display_labels(label_img, roi, alpha=alpha, show_legend=True)"
   ]
  },
  {
   "cell_type": "code",
   "execution_count": null,
   "metadata": {
    "collapsed": false
   },
   "outputs": [],
   "source": [
    "from ipywidgets import interact, IntSlider, FloatSlider\n",
    "\n",
    "def interactive_func(i, roi_x, roi_y, alpha):\n",
    "    \n",
    "    img = compute_log(x, i)\n",
    "    roi = [roi_x, roi_y, roi_x+500, roi_y+500]\n",
    "    display_func(img, label_img, roi, alpha, \"Log on channel: %i\" % i)\n",
    "\n",
    "    img = compute_power(x, i, 2.0)\n",
    "    roi = [roi_x, roi_y, roi_x+500, roi_y+500]\n",
    "    display_func(img, label_img, roi, alpha, \"Square on channel: %i\" % i)\n",
    "\n",
    "    img = compute_power(x, i, 0.5)\n",
    "    roi = [roi_x, roi_y, roi_x+500, roi_y+500]\n",
    "    display_func(img, label_img, roi, alpha, \"Root on channel: %i\" % i)\n",
    "\n",
    "    \n",
    "_ = interact(interactive_func,           \n",
    "     i=IntSlider(value=1, min=1, max=16, continuous_update=False), \n",
    "     roi_x=IntSlider(value=500, min=0, max=3500, continuous_update=False), \n",
    "     roi_y=IntSlider(value=1, min=0, max=3500, continuous_update=False), \n",
    "     alpha=FloatSlider(value=0.35, min=0, max=1.0, step=0.1, continuous_update=False))"
   ]
  },
  {
   "cell_type": "code",
   "execution_count": null,
   "metadata": {
    "collapsed": true
   },
   "outputs": [],
   "source": []
  },
  {
   "cell_type": "code",
   "execution_count": null,
   "metadata": {
    "collapsed": true
   },
   "outputs": [],
   "source": []
  }
 ],
 "metadata": {
  "kernelspec": {
   "display_name": "Python 2",
   "language": "python",
   "name": "python2"
  },
  "language_info": {
   "codemirror_mode": {
    "name": "ipython",
    "version": 2
   },
   "file_extension": ".py",
   "mimetype": "text/x-python",
   "name": "python",
   "nbconvert_exporter": "python",
   "pygments_lexer": "ipython2",
   "version": "2.7.13"
  }
 },
 "nbformat": 4,
 "nbformat_minor": 0
}
