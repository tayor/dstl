{
 "cells": [
  {
   "cell_type": "markdown",
   "metadata": {},
   "source": [
    "# Post-processing CSV"
   ]
  },
  {
   "cell_type": "code",
   "execution_count": 1,
   "metadata": {
    "collapsed": true
   },
   "outputs": [],
   "source": [
    "# https://ipython.org/ipython-doc/3/config/extensions/autoreload.html\n",
    "%load_ext autoreload\n",
    "%autoreload 2"
   ]
  },
  {
   "cell_type": "code",
   "execution_count": 2,
   "metadata": {
    "collapsed": false
   },
   "outputs": [
    {
     "name": "stderr",
     "output_type": "stream",
     "text": [
      "/usr/local/lib/python2.7/site-packages/matplotlib/font_manager.py:273: UserWarning: Matplotlib is building the font cache using fc-list. This may take a moment.\n",
      "  warnings.warn('Matplotlib is building the font cache using fc-list. This may take a moment.')\n"
     ]
    }
   ],
   "source": [
    "from datetime import datetime\n",
    "\n",
    "\n",
    "import cv2\n",
    "import numpy as np\n",
    "import matplotlib.pylab as plt\n",
    "\n",
    "%matplotlib inline"
   ]
  },
  {
   "cell_type": "code",
   "execution_count": 3,
   "metadata": {
    "collapsed": true
   },
   "outputs": [],
   "source": [
    "import sys\n",
    "sys.path.append(\"../common/\")"
   ]
  },
  {
   "cell_type": "code",
   "execution_count": 4,
   "metadata": {
    "collapsed": true
   },
   "outputs": [],
   "source": [
    "from data_utils import get_scalers, LABELS, TRAIN_IMAGE_IDS\n",
    "from image_utils import get_image_data\n",
    "from submission_utils import submission_iterator, write_shp_from_polygons, write_shp_from_csv, write_shp_from_mask\n",
    "from submission_utils import get_scaled_polygons, get_polygons, compute_label_image, get_data_csv\n",
    "from submission_utils import rewrite_submission"
   ]
  },
  {
   "cell_type": "code",
   "execution_count": 5,
   "metadata": {
    "collapsed": false
   },
   "outputs": [
    {
     "name": "stdout",
     "output_type": "stream",
     "text": [
      "0 None\n",
      "1 Buildings\n",
      "2 Misc. Manmade structures\n",
      "3 Road\n",
      "4 Track\n",
      "5 Trees\n",
      "6 Crops\n",
      "7 Waterway\n",
      "8 Standing water\n",
      "9 Vehicle Large\n",
      "10 Vehicle Small\n"
     ]
    }
   ],
   "source": [
    "for i, l in enumerate(LABELS):\n",
    "    print i, l"
   ]
  },
  {
   "cell_type": "code",
   "execution_count": 6,
   "metadata": {
    "collapsed": true
   },
   "outputs": [],
   "source": [
    "CSV_FILE_NEW = \"../results/sub_mix_20170304_2329.csv\"\n",
    "CSV_FILE_TRAIN = \"../results/sub_model_1_20170304_1826_nan.csv\"\n",
    "CSV_FILE_OLD = \"../results/sub_unet_3D_mix_th_80_3_P_M_A_20170218_2057_0.8906966279736366_reduced.csv\"\n"
   ]
  },
  {
   "cell_type": "markdown",
   "metadata": {},
   "source": [
    "Compare submission's predictions raw and post-processed on trained data with ground truth"
   ]
  },
  {
   "cell_type": "code",
   "execution_count": 7,
   "metadata": {
    "collapsed": false
   },
   "outputs": [],
   "source": [
    "from np_metrics import score"
   ]
  },
  {
   "cell_type": "markdown",
   "metadata": {},
   "source": [
    "Get common image ids from submission file and training image ids"
   ]
  },
  {
   "cell_type": "code",
   "execution_count": 8,
   "metadata": {
    "collapsed": true
   },
   "outputs": [],
   "source": [
    "import pandas as pd\n",
    "import os"
   ]
  },
  {
   "cell_type": "code",
   "execution_count": 9,
   "metadata": {
    "collapsed": false
   },
   "outputs": [],
   "source": [
    "df = pd.read_csv(os.path.join('..', 'input', 'sample_submission.csv'))\n",
    "submission_image_ids = df['ImageId'].unique()"
   ]
  },
  {
   "cell_type": "code",
   "execution_count": 18,
   "metadata": {
    "collapsed": false
   },
   "outputs": [
    {
     "name": "stdout",
     "output_type": "stream",
     "text": [
      "['6040_2_2' '6120_2_2' '6120_2_0' '6090_2_0' '6040_1_3' '6040_1_0'\n",
      " '6100_1_3' '6010_4_2' '6110_4_0' '6140_3_1' '6110_1_2' '6100_2_3'\n",
      " '6150_2_3' '6160_2_1' '6140_1_2' '6110_3_1' '6010_4_4' '6170_2_4'\n",
      " '6170_4_1' '6170_0_4' '6060_2_3' '6070_2_3' '6010_1_2' '6040_4_4'\n",
      " '6100_2_2']\n"
     ]
    }
   ],
   "source": [
    "print TRAIN_IMAGE_IDS"
   ]
  },
  {
   "cell_type": "code",
   "execution_count": 10,
   "metadata": {
    "collapsed": false
   },
   "outputs": [
    {
     "data": {
      "text/plain": [
       "{'6010_1_2', '6040_4_4', '6070_2_3', '6100_2_2'}"
      ]
     },
     "execution_count": 10,
     "metadata": {},
     "output_type": "execute_result"
    }
   ],
   "source": [
    "set(TRAIN_IMAGE_IDS) & set(submission_image_ids)"
   ]
  },
  {
   "cell_type": "code",
   "execution_count": null,
   "metadata": {
    "collapsed": true
   },
   "outputs": [],
   "source": []
  },
  {
   "cell_type": "code",
   "execution_count": 22,
   "metadata": {
    "collapsed": true
   },
   "outputs": [],
   "source": [
    "def write_shp_pred_pp(image_id, csv_file):\n",
    "    data_csv = get_data_csv(image_id, csv_file)\n",
    "    assert data_csv is not None, \"No data_csv\"\n",
    "    write_shp_from_csv(\"../results/shp/%s_new.shp\" % image_id, data_csv)\n",
    "    polygons = get_scaled_polygons(data_csv)\n",
    "    y_pred_raw = compute_label_image(image_id, polygons)\n",
    "    y_pred_pp = mask_postprocessing(y_pred_raw, class_pp_func_list)\n",
    "    write_shp_from_mask(\"../results/shp/%s_pp.shp\" % image_id, image_id, y_pred_pp)"
   ]
  },
  {
   "cell_type": "code",
   "execution_count": 11,
   "metadata": {
    "collapsed": false
   },
   "outputs": [],
   "source": [
    "def compare_true_pred_pp(image_id, csv_file, write_shp=True):\n",
    "    y_true = get_image_data(image_id, 'label')\n",
    "    data_csv = get_data_csv(image_id, csv_file)\n",
    "    assert data_csv is not None, \"No data_csv\"\n",
    "    if write_shp:\n",
    "        write_shp_from_csv(\"../results/shp/%s_new.shp\" % image_id, data_csv)\n",
    "    polygons = get_scaled_polygons(data_csv)\n",
    "    y_pred_raw = compute_label_image(image_id, polygons)\n",
    "#     y_pred_raw[:,:,2] = 0 \n",
    "#     y_pred_raw[:,:,4] = 0 \n",
    "#     y_pred_raw[:,:,5] = 0 \n",
    "#     y_pred_raw[:,:,6] = 0 \n",
    "    \n",
    "    h = min(y_true.shape[0], y_pred_raw.shape[0])\n",
    "    w = min(y_true.shape[1], y_pred_raw.shape[1])\n",
    "    s1 = score(y_true[:h,:w,:], y_pred_raw[:h,:w,:])    \n",
    "    print \"True vs Pred Raw: \", s1\n",
    "    \n",
    "    y_pred_pp = mask_postprocessing(y_pred_raw, class_pp_func_list)\n",
    "#     y_pred_pp[:,:,2] = 0    \n",
    "#     y_pred_pp[:,:,4] = 0 \n",
    "#     y_pred_pp[:,:,5] = 0 \n",
    "#     y_pred_pp[:,:,6] = 0 \n",
    "    \n",
    "    h = min(y_true.shape[0], y_pred_pp.shape[0])\n",
    "    w = min(y_true.shape[1], y_pred_pp.shape[1])\n",
    "    s2 = score(y_true[:h,:w,:], y_pred_pp[:h,:w,:])\n",
    "    print \"True vs Pred PP: \", s2\n",
    "    if write_shp:\n",
    "        write_shp_from_mask(\"../results/shp/%s_pp.shp\" % image_id, image_id, y_pred_pp)\n",
    "        \n",
    "    return s1, s2"
   ]
  },
  {
   "cell_type": "code",
   "execution_count": 13,
   "metadata": {
    "collapsed": false
   },
   "outputs": [],
   "source": [
    "from postprocessing_utils import path_postprocessing, crop_postprocessing, mask_postprocessing\n",
    "from postprocessing_utils import trees_postprocessing, buildings_postprocessing\n",
    "\n",
    "class_pp_func_list = {\n",
    "#     1: buildings_postprocessing,\n",
    "#     4: path_postprocessing, # Enhancement of :  0.508556447029 -> 0.509641740322 from Training Dataset\n",
    "#     5: trees_postprocessing, # Enhancement of : 0.508556447029 -> 0.508932631016 from Training Dataset  \n",
    "    6: crop_postprocessing # Enhancement of : 0.508556447029 -> 0.530760986805 from Training Dataset\n",
    "}"
   ]
  },
  {
   "cell_type": "code",
   "execution_count": null,
   "metadata": {
    "collapsed": true
   },
   "outputs": [],
   "source": []
  },
  {
   "cell_type": "code",
   "execution_count": 21,
   "metadata": {
    "collapsed": true
   },
   "outputs": [
    {
     "ename": "AssertionError",
     "evalue": "Image is not found: id=6120_2_4, type=label",
     "output_type": "error",
     "traceback": [
      "\u001b[0;31m---------------------------------------------------------------------------\u001b[0m",
      "\u001b[0;31mAssertionError\u001b[0m                            Traceback (most recent call last)",
      "\u001b[0;32m<ipython-input-21-dbbe88deaf1d>\u001b[0m in \u001b[0;36m<module>\u001b[0;34m()\u001b[0m\n\u001b[1;32m      5\u001b[0m \u001b[0mimage_id\u001b[0m \u001b[0;34m=\u001b[0m \u001b[0;34m\"6120_2_4\"\u001b[0m\u001b[0;34m\u001b[0m\u001b[0m\n\u001b[1;32m      6\u001b[0m \u001b[0;34m\u001b[0m\u001b[0m\n\u001b[0;32m----> 7\u001b[0;31m \u001b[0m_\u001b[0m \u001b[0;34m=\u001b[0m \u001b[0mcompare_true_pred_pp\u001b[0m\u001b[0;34m(\u001b[0m\u001b[0mimage_id\u001b[0m\u001b[0;34m,\u001b[0m \u001b[0mCSV_FILE_NEW\u001b[0m\u001b[0;34m,\u001b[0m \u001b[0mwrite_shp\u001b[0m\u001b[0;34m=\u001b[0m\u001b[0mTrue\u001b[0m\u001b[0;34m)\u001b[0m\u001b[0;34m\u001b[0m\u001b[0m\n\u001b[0m",
      "\u001b[0;32m<ipython-input-11-cdad8eee2b56>\u001b[0m in \u001b[0;36mcompare_true_pred_pp\u001b[0;34m(image_id, csv_file, write_shp)\u001b[0m\n\u001b[1;32m      1\u001b[0m \u001b[0;32mdef\u001b[0m \u001b[0mcompare_true_pred_pp\u001b[0m\u001b[0;34m(\u001b[0m\u001b[0mimage_id\u001b[0m\u001b[0;34m,\u001b[0m \u001b[0mcsv_file\u001b[0m\u001b[0;34m,\u001b[0m \u001b[0mwrite_shp\u001b[0m\u001b[0;34m=\u001b[0m\u001b[0mTrue\u001b[0m\u001b[0;34m)\u001b[0m\u001b[0;34m:\u001b[0m\u001b[0;34m\u001b[0m\u001b[0m\n\u001b[0;32m----> 2\u001b[0;31m     \u001b[0my_true\u001b[0m \u001b[0;34m=\u001b[0m \u001b[0mget_image_data\u001b[0m\u001b[0;34m(\u001b[0m\u001b[0mimage_id\u001b[0m\u001b[0;34m,\u001b[0m \u001b[0;34m'label'\u001b[0m\u001b[0;34m)\u001b[0m\u001b[0;34m\u001b[0m\u001b[0m\n\u001b[0m\u001b[1;32m      3\u001b[0m     \u001b[0mdata_csv\u001b[0m \u001b[0;34m=\u001b[0m \u001b[0mget_data_csv\u001b[0m\u001b[0;34m(\u001b[0m\u001b[0mimage_id\u001b[0m\u001b[0;34m,\u001b[0m \u001b[0mcsv_file\u001b[0m\u001b[0;34m)\u001b[0m\u001b[0;34m\u001b[0m\u001b[0m\n\u001b[1;32m      4\u001b[0m     \u001b[0;32massert\u001b[0m \u001b[0mdata_csv\u001b[0m \u001b[0;32mis\u001b[0m \u001b[0;32mnot\u001b[0m \u001b[0mNone\u001b[0m\u001b[0;34m,\u001b[0m \u001b[0;34m\"No data_csv\"\u001b[0m\u001b[0;34m\u001b[0m\u001b[0m\n\u001b[1;32m      5\u001b[0m     \u001b[0;32mif\u001b[0m \u001b[0mwrite_shp\u001b[0m\u001b[0;34m:\u001b[0m\u001b[0;34m\u001b[0m\u001b[0m\n",
      "\u001b[0;32m/Users/vfomin/Documents/ML/Kaggle/DSTL_FD/common/image_utils.pyc\u001b[0m in \u001b[0;36mget_image_data\u001b[0;34m(image_id, image_type, return_shape_only)\u001b[0m\n\u001b[1;32m    103\u001b[0m     \u001b[0mfname\u001b[0m \u001b[0;34m=\u001b[0m \u001b[0mget_filename\u001b[0m\u001b[0;34m(\u001b[0m\u001b[0mimage_id\u001b[0m\u001b[0;34m,\u001b[0m \u001b[0mimage_type\u001b[0m\u001b[0;34m)\u001b[0m\u001b[0;34m\u001b[0m\u001b[0m\n\u001b[1;32m    104\u001b[0m     \u001b[0mimg\u001b[0m \u001b[0;34m=\u001b[0m \u001b[0mgdal\u001b[0m\u001b[0;34m.\u001b[0m\u001b[0mOpen\u001b[0m\u001b[0;34m(\u001b[0m\u001b[0mfname\u001b[0m\u001b[0;34m,\u001b[0m \u001b[0mgdalconst\u001b[0m\u001b[0;34m.\u001b[0m\u001b[0mGA_ReadOnly\u001b[0m\u001b[0;34m)\u001b[0m\u001b[0;34m\u001b[0m\u001b[0m\n\u001b[0;32m--> 105\u001b[0;31m     \u001b[0;32massert\u001b[0m \u001b[0mimg\u001b[0m\u001b[0;34m,\u001b[0m \u001b[0;34m\"Image is not found: id={}, type={}\"\u001b[0m\u001b[0;34m.\u001b[0m\u001b[0mformat\u001b[0m\u001b[0;34m(\u001b[0m\u001b[0mimage_id\u001b[0m\u001b[0;34m,\u001b[0m \u001b[0mimage_type\u001b[0m\u001b[0;34m)\u001b[0m\u001b[0;34m\u001b[0m\u001b[0m\n\u001b[0m\u001b[1;32m    106\u001b[0m     \u001b[0;32mif\u001b[0m \u001b[0mreturn_shape_only\u001b[0m\u001b[0;34m:\u001b[0m\u001b[0;34m\u001b[0m\u001b[0m\n\u001b[1;32m    107\u001b[0m         \u001b[0;32mreturn\u001b[0m \u001b[0;34m(\u001b[0m\u001b[0mimg\u001b[0m\u001b[0;34m.\u001b[0m\u001b[0mRasterYSize\u001b[0m\u001b[0;34m,\u001b[0m \u001b[0mimg\u001b[0m\u001b[0;34m.\u001b[0m\u001b[0mRasterXSize\u001b[0m\u001b[0;34m,\u001b[0m \u001b[0mimg\u001b[0m\u001b[0;34m.\u001b[0m\u001b[0mRasterCount\u001b[0m\u001b[0;34m)\u001b[0m\u001b[0;34m\u001b[0m\u001b[0m\n",
      "\u001b[0;31mAssertionError\u001b[0m: Image is not found: id=6120_2_4, type=label"
     ]
    }
   ],
   "source": [
    "# image_id = \"6010_1_2\"\n",
    "# image_id = \"6040_4_4\"\n",
    "# image_id = \"6100_2_2\"\n",
    "image_id = \"6120_2_0\"\n",
    "\n",
    "\n",
    "_ = compare_true_pred_pp(image_id, CSV_FILE_NEW, write_shp=True)"
   ]
  },
  {
   "cell_type": "code",
   "execution_count": 32,
   "metadata": {
    "collapsed": true
   },
   "outputs": [],
   "source": []
  },
  {
   "cell_type": "code",
   "execution_count": 23,
   "metadata": {
    "collapsed": false
   },
   "outputs": [
    {
     "name": "stdout",
     "output_type": "stream",
     "text": [
      "Written succesfully file :  ../results/shp/6120_2_4_new.shp\n"
     ]
    },
    {
     "name": "stderr",
     "output_type": "stream",
     "text": [
      "Self-intersection at or near point 2970.818181818182 3341.7272727272725\n",
      "Self-intersection at or near point 1533 1036\n",
      "Self-intersection at or near point 3162.294117647059 2623.9411764705883\n",
      "Self-intersection at or near point 2055.625 962.625\n"
     ]
    },
    {
     "name": "stdout",
     "output_type": "stream",
     "text": [
      "Written succesfully file :  ../results/shp/6120_2_4_pp.shp\n"
     ]
    }
   ],
   "source": [
    "image_id = \"6120_2_4\"\n",
    "write_shp_pred_pp(image_id, CSV_FILE_NEW)"
   ]
  },
  {
   "cell_type": "code",
   "execution_count": 87,
   "metadata": {
    "collapsed": false
   },
   "outputs": [],
   "source": [
    "# a = np.zeros((10, 10, 3), dtype=np.uint8)\n",
    "# a[2:5,2:5, 0] = 1\n",
    "# a[5:7,5:7, 1] = 1\n",
    "# b = np.zeros_like(a)\n",
    "# score(b, a)"
   ]
  },
  {
   "cell_type": "code",
   "execution_count": null,
   "metadata": {
    "collapsed": true
   },
   "outputs": [],
   "source": []
  },
  {
   "cell_type": "markdown",
   "metadata": {
    "collapsed": true
   },
   "source": [
    "Check on all training data:"
   ]
  },
  {
   "cell_type": "code",
   "execution_count": 29,
   "metadata": {
    "collapsed": true
   },
   "outputs": [],
   "source": [
    "train_ids = TRAIN_IMAGE_IDS\n",
    "# train_ids = list(set(TRAIN_IMAGE_IDS) & set(submission_image_ids))"
   ]
  },
  {
   "cell_type": "code",
   "execution_count": 43,
   "metadata": {
    "collapsed": false,
    "scrolled": true
   },
   "outputs": [
    {
     "name": "stdout",
     "output_type": "stream",
     "text": [
      "-- 6040_2_2\n",
      "True vs Pred Raw:  0.760823\n",
      "True vs Pred PP:  0.852596\n",
      "-- 6120_2_2\n",
      "True vs Pred Raw:  0.301466\n",
      "True vs Pred PP:  0.306014\n",
      "-- 6120_2_0\n",
      "True vs Pred Raw:  0.422918\n",
      "True vs Pred PP:  0.423093\n",
      "-- 6090_2_0\n",
      "True vs Pred Raw:  0.51103\n",
      "True vs Pred PP:  0.512783\n",
      "-- 6040_1_3\n",
      "True vs Pred Raw:  0.773645\n",
      "True vs Pred PP:  0.772858\n",
      "-- 6040_1_0\n",
      "True vs Pred Raw:  0.691344\n",
      "True vs Pred PP:  0.782077\n",
      "-- 6100_1_3\n",
      "True vs Pred Raw:  0.349125\n",
      "True vs Pred PP:  0.354677\n",
      "-- 6010_4_2\n",
      "True vs Pred Raw:  0.677029\n",
      "True vs Pred PP:  0.677597\n",
      "-- 6110_4_0\n",
      "True vs Pred Raw:  0.398946\n",
      "True vs Pred PP:  0.402467\n",
      "-- 6140_3_1\n",
      "True vs Pred Raw:  0.335387\n",
      "True vs Pred PP:  0.339154\n",
      "-- 6110_1_2\n",
      "True vs Pred Raw:  0.323997\n",
      "True vs Pred PP:  0.328477\n",
      "-- 6100_2_3\n",
      "True vs Pred Raw:  0.293448\n",
      "True vs Pred PP:  0.292511\n",
      "-- 6150_2_3\n",
      "True vs Pred Raw:  0.7468\n",
      "True vs Pred PP:  0.750573\n",
      "-- 6160_2_1\n",
      "True vs Pred Raw:  0.502619\n",
      "True vs Pred PP:  0.596526\n",
      "-- 6140_1_2\n",
      "True vs Pred Raw:  0.425552\n",
      "True vs Pred PP:  0.43038\n",
      "-- 6110_3_1\n",
      "True vs Pred Raw:  0.355562\n",
      "True vs Pred PP:  0.359393\n",
      "-- 6010_4_4\n",
      "True vs Pred Raw:  0.665605\n",
      "True vs Pred PP:  0.756664\n",
      "-- 6170_2_4\n",
      "True vs Pred Raw:  0.583704\n",
      "True vs Pred PP:  0.59001\n",
      "-- 6170_4_1\n",
      "True vs Pred Raw:  0.753473\n",
      "True vs Pred PP:  0.754762\n",
      "-- 6170_0_4\n",
      "True vs Pred Raw:  0.5827\n",
      "True vs Pred PP:  0.583208\n",
      "-- 6060_2_3\n",
      "True vs Pred Raw:  0.456037\n",
      "True vs Pred PP:  0.459514\n",
      "-- 6070_2_3\n",
      "True vs Pred Raw:  0.304483\n",
      "True vs Pred PP:  0.395107\n",
      "-- 6010_1_2\n",
      "True vs Pred Raw:  0.574222\n",
      "True vs Pred PP:  0.665673\n",
      "-- 6040_4_4\n",
      "True vs Pred Raw:  0.667234\n",
      "True vs Pred PP:  0.664807\n",
      "-- 6100_2_2\n",
      "True vs Pred Raw:  0.256762\n",
      "True vs Pred PP:  0.254641\n",
      "Final score:  0.508556447029 0.532222468853\n"
     ]
    }
   ],
   "source": [
    "total_s1 = 0\n",
    "total_s2 = 0\n",
    "for image_id in train_ids:\n",
    "    print \"--\", image_id\n",
    "    s1, s2 = compare_true_pred_pp(image_id, CSV_FILE_TRAIN, write_shp=False)\n",
    "    total_s1 += s1\n",
    "    total_s2 += s2\n",
    "\n",
    "total_s1 *= 1.0 / len(train_ids)\n",
    "total_s2 *= 1.0 / len(train_ids)\n",
    "print \"Final score: \", total_s1, total_s2"
   ]
  },
  {
   "cell_type": "markdown",
   "metadata": {},
   "source": [
    "Crops only\n",
    "\n",
    "-- 6040_2_2\n",
    "True vs Pred Raw:  0.760823\n",
    "True vs Pred PP:  0.851732\n",
    "-- 6120_2_2\n",
    "True vs Pred Raw:  0.301466\n",
    "True vs Pred PP:  0.303953\n",
    "-- 6120_2_0\n",
    "True vs Pred Raw:  0.422918\n",
    "True vs Pred PP:  0.422366\n",
    "-- 6090_2_0\n",
    "True vs Pred Raw:  0.51103\n",
    "True vs Pred PP:  0.511785\n",
    "-- 6040_1_3\n",
    "True vs Pred Raw:  0.773645\n",
    "True vs Pred PP:  0.773188\n",
    "-- 6040_1_0\n",
    "True vs Pred Raw:  0.691344\n",
    "True vs Pred PP:  0.782253\n",
    "-- 6100_1_3\n",
    "True vs Pred Raw:  0.349125\n",
    "True vs Pred PP:  0.354572\n",
    "-- 6010_4_2\n",
    "True vs Pred Raw:  0.677029\n",
    "True vs Pred PP:  0.677029\n",
    "-- 6110_4_0\n",
    "True vs Pred Raw:  0.398946\n",
    "True vs Pred PP:  0.398847\n",
    "-- 6140_3_1\n",
    "True vs Pred Raw:  0.335387\n",
    "True vs Pred PP:  0.335808\n",
    "-- 6110_1_2\n",
    "True vs Pred Raw:  0.323997\n",
    "True vs Pred PP:  0.324353\n",
    "-- 6100_2_3\n",
    "True vs Pred Raw:  0.293448\n",
    "True vs Pred PP:  0.293448\n",
    "-- 6150_2_3\n",
    "True vs Pred Raw:  0.7468\n",
    "True vs Pred PP:  0.746512\n",
    "-- 6160_2_1\n",
    "True vs Pred Raw:  0.502619\n",
    "True vs Pred PP:  0.593528\n",
    "-- 6140_1_2\n",
    "True vs Pred Raw:  0.425552\n",
    "True vs Pred PP:  0.425638\n",
    "-- 6110_3_1\n",
    "True vs Pred Raw:  0.355562\n",
    "True vs Pred PP:  0.35621\n",
    "-- 6010_4_4\n",
    "True vs Pred Raw:  0.665605\n",
    "True vs Pred PP:  0.756514\n",
    "-- 6170_2_4\n",
    "True vs Pred Raw:  0.583704\n",
    "True vs Pred PP:  0.587184\n",
    "-- 6170_4_1\n",
    "True vs Pred Raw:  0.753473\n",
    "True vs Pred PP:  0.753473\n",
    "-- 6170_0_4\n",
    "True vs Pred Raw:  0.5827\n",
    "True vs Pred PP:  0.5827\n",
    "-- 6060_2_3\n",
    "True vs Pred Raw:  0.456037\n",
    "True vs Pred PP:  0.455761\n",
    "-- 6070_2_3\n",
    "True vs Pred Raw:  0.304483\n",
    "True vs Pred PP:  0.395392\n",
    "-- 6010_1_2\n",
    "True vs Pred Raw:  0.574222\n",
    "True vs Pred PP:  0.665132\n",
    "-- 6040_4_4\n",
    "True vs Pred Raw:  0.667234\n",
    "True vs Pred PP:  0.667234\n",
    "-- 6100_2_2\n",
    "True vs Pred Raw:  0.256762\n",
    "True vs Pred PP:  0.254412\n",
    "\n",
    "\n",
    "Crops + Trees + Path\n",
    "\n",
    "-- 6040_2_2\n",
    "True vs Pred Raw:  0.760823\n",
    "True vs Pred PP:  0.852596\n",
    "-- 6120_2_2\n",
    "True vs Pred Raw:  0.301466\n",
    "True vs Pred PP:  0.306014\n",
    "-- 6120_2_0\n",
    "True vs Pred Raw:  0.422918\n",
    "True vs Pred PP:  0.423093\n",
    "-- 6090_2_0\n",
    "True vs Pred Raw:  0.51103\n",
    "True vs Pred PP:  0.512783\n",
    "-- 6040_1_3\n",
    "True vs Pred Raw:  0.773645\n",
    "True vs Pred PP:  0.772858\n",
    "-- 6040_1_0\n",
    "True vs Pred Raw:  0.691344\n",
    "True vs Pred PP:  0.782077\n",
    "-- 6100_1_3\n",
    "True vs Pred Raw:  0.349125\n",
    "True vs Pred PP:  0.354677\n",
    "-- 6010_4_2\n",
    "True vs Pred Raw:  0.677029\n",
    "True vs Pred PP:  0.677597\n",
    "-- 6110_4_0\n",
    "True vs Pred Raw:  0.398946\n",
    "True vs Pred PP:  0.402467\n",
    "-- 6140_3_1\n",
    "True vs Pred Raw:  0.335387\n",
    "True vs Pred PP:  0.339154\n",
    "-- 6110_1_2\n",
    "True vs Pred Raw:  0.323997\n",
    "True vs Pred PP:  0.328477\n",
    "-- 6100_2_3\n",
    "True vs Pred Raw:  0.293448\n",
    "True vs Pred PP:  0.292511\n",
    "-- 6150_2_3\n",
    "True vs Pred Raw:  0.7468\n",
    "True vs Pred PP:  0.750573\n",
    "-- 6160_2_1\n",
    "True vs Pred Raw:  0.502619\n",
    "True vs Pred PP:  0.596526\n",
    "-- 6140_1_2\n",
    "True vs Pred Raw:  0.425552\n",
    "True vs Pred PP:  0.43038\n",
    "-- 6110_3_1\n",
    "True vs Pred Raw:  0.355562\n",
    "True vs Pred PP:  0.359393\n",
    "-- 6010_4_4\n",
    "True vs Pred Raw:  0.665605\n",
    "True vs Pred PP:  0.756664\n",
    "-- 6170_2_4\n",
    "True vs Pred Raw:  0.583704\n",
    "True vs Pred PP:  0.59001\n",
    "-- 6170_4_1\n",
    "True vs Pred Raw:  0.753473\n",
    "True vs Pred PP:  0.754762\n",
    "-- 6170_0_4\n",
    "True vs Pred Raw:  0.5827\n",
    "True vs Pred PP:  0.583208\n",
    "-- 6060_2_3\n",
    "True vs Pred Raw:  0.456037\n",
    "True vs Pred PP:  0.459514\n",
    "-- 6070_2_3\n",
    "True vs Pred Raw:  0.304483\n",
    "True vs Pred PP:  0.395107\n",
    "-- 6010_1_2\n",
    "True vs Pred Raw:  0.574222\n",
    "True vs Pred PP:  0.665673\n",
    "-- 6040_4_4\n",
    "True vs Pred Raw:  0.667234\n",
    "True vs Pred PP:  0.664807\n",
    "-- 6100_2_2\n",
    "True vs Pred Raw:  0.256762\n",
    "True vs Pred PP:  0.254641\n",
    "Final score:  0.508556447029 0.532222468853"
   ]
  },
  {
   "cell_type": "markdown",
   "metadata": {},
   "source": [
    "Save new submission"
   ]
  },
  {
   "cell_type": "code",
   "execution_count": 14,
   "metadata": {
    "collapsed": false,
    "scrolled": true
   },
   "outputs": [
    {
     "name": "stdout",
     "output_type": "stream",
     "text": [
      "-- 6120_2_4 10 0\n",
      "-- 6120_2_3 10 1\n"
     ]
    },
    {
     "name": "stderr",
     "output_type": "stream",
     "text": [
      "Self-intersection at or near point 2 168\n"
     ]
    },
    {
     "name": "stdout",
     "output_type": "stream",
     "text": [
      "-- 6120_2_1 10 2\n"
     ]
    },
    {
     "name": "stderr",
     "output_type": "stream",
     "text": [
      "Self-intersection at or near point 3 1734\n"
     ]
    },
    {
     "name": "stdout",
     "output_type": "stream",
     "text": [
      "-- 6180_2_4 10 3\n",
      "-- 6180_2_1 10 4\n"
     ]
    },
    {
     "name": "stderr",
     "output_type": "stream",
     "text": [
      "Self-intersection at or near point 1150.2857142857142 13.357142857142858\n"
     ]
    },
    {
     "name": "stdout",
     "output_type": "stream",
     "text": [
      "-- 6180_2_0 10 5\n",
      "-- 6180_2_3 10 6\n",
      "-- 6180_2_2 10 7\n",
      "-- 6180_0_3 10 8\n"
     ]
    },
    {
     "name": "stderr",
     "output_type": "stream",
     "text": [
      "Self-intersection at or near point 2 2997\n"
     ]
    },
    {
     "name": "stdout",
     "output_type": "stream",
     "text": [
      "-- 6180_0_2 10 9\n"
     ]
    },
    {
     "name": "stderr",
     "output_type": "stream",
     "text": [
      "Self-intersection at or near point 3391.5714285714284 1503.4285714285713\n"
     ]
    },
    {
     "name": "stdout",
     "output_type": "stream",
     "text": [
      "-- 6180_0_1 10 10\n"
     ]
    },
    {
     "name": "stderr",
     "output_type": "stream",
     "text": [
      "Self-intersection at or near point 10 4\n"
     ]
    },
    {
     "name": "stdout",
     "output_type": "stream",
     "text": [
      "-- 6180_0_0 10 11\n"
     ]
    },
    {
     "name": "stderr",
     "output_type": "stream",
     "text": [
      "Self-intersection at or near point 2001 4\n"
     ]
    },
    {
     "name": "stdout",
     "output_type": "stream",
     "text": [
      "-- 6180_0_4 10 12\n",
      "-- 6080_4_4 10 13\n",
      "-- 6080_4_2 10 14\n",
      "-- 6080_4_3 10 15\n",
      "-- 6080_4_0 10 16\n",
      "-- 6080_4_1 10 17\n",
      "-- 6090_4_1 10 18\n"
     ]
    },
    {
     "name": "stderr",
     "output_type": "stream",
     "text": [
      "Self-intersection at or near point 2503 3339\n"
     ]
    },
    {
     "name": "stdout",
     "output_type": "stream",
     "text": [
      "-- 6090_4_0 10 19\n"
     ]
    },
    {
     "name": "stderr",
     "output_type": "stream",
     "text": [
      "Self-intersection at or near point 3037 3339\n"
     ]
    },
    {
     "name": "stdout",
     "output_type": "stream",
     "text": [
      "-- 6090_4_3 10 20\n"
     ]
    },
    {
     "name": "stderr",
     "output_type": "stream",
     "text": [
      "Self-intersection at or near point 2820 3339\n"
     ]
    },
    {
     "name": "stdout",
     "output_type": "stream",
     "text": [
      "-- 6090_4_2 10 21\n"
     ]
    },
    {
     "name": "stderr",
     "output_type": "stream",
     "text": [
      "Self-intersection at or near point 1 1317\n"
     ]
    },
    {
     "name": "stdout",
     "output_type": "stream",
     "text": [
      "-- 6090_4_4 10 22\n"
     ]
    },
    {
     "name": "stderr",
     "output_type": "stream",
     "text": [
      "Self-intersection at or near point 3384.1999999999998 2601.1999999999998\n"
     ]
    },
    {
     "name": "stdout",
     "output_type": "stream",
     "text": [
      "-- 6180_4_4 10 23\n",
      "-- 6180_4_3 10 24\n",
      "-- 6180_4_2 10 25\n"
     ]
    },
    {
     "name": "stderr",
     "output_type": "stream",
     "text": [
      "Self-intersection at or near point 4 2926\n"
     ]
    },
    {
     "name": "stdout",
     "output_type": "stream",
     "text": [
      "-- 6180_4_1 10 26\n"
     ]
    },
    {
     "name": "stderr",
     "output_type": "stream",
     "text": [
      "Self-intersection at or near point 3389.6799999999998 3163.3200000000002\n"
     ]
    },
    {
     "name": "stdout",
     "output_type": "stream",
     "text": [
      "-- 6180_4_0 10 27\n"
     ]
    },
    {
     "name": "stderr",
     "output_type": "stream",
     "text": [
      "Self-intersection at or near point 3389 1983\n"
     ]
    },
    {
     "name": "stdout",
     "output_type": "stream",
     "text": [
      "-- 6160_3_2 10 28\n",
      "-- 6160_3_3 10 29\n"
     ]
    },
    {
     "name": "stderr",
     "output_type": "stream",
     "text": [
      "Self-intersection at or near point 3387 2285\n"
     ]
    },
    {
     "name": "stdout",
     "output_type": "stream",
     "text": [
      "-- 6160_3_0 10 30\n",
      "-- 6160_3_1 10 31\n",
      "-- 6160_3_4 10 32\n"
     ]
    },
    {
     "name": "stderr",
     "output_type": "stream",
     "text": [
      "Self-intersection at or near point 3383 263\n"
     ]
    },
    {
     "name": "stdout",
     "output_type": "stream",
     "text": [
      "-- 6080_2_4 10 33\n",
      "-- 6080_2_0 10 34\n",
      "-- 6080_2_1 10 35\n",
      "-- 6080_2_2 10 36\n",
      "-- 6080_2_3 10 37\n",
      "-- 6080_0_2 10 38\n",
      "-- 6080_0_3 10 39\n",
      "-- 6080_0_0 10 40\n",
      "-- 6080_0_1 10 41\n",
      "-- 6080_0_4 10 42\n",
      "-- 6010_0_4 10 43\n"
     ]
    },
    {
     "name": "stderr",
     "output_type": "stream",
     "text": [
      "Self-intersection at or near point 980 3\n"
     ]
    },
    {
     "name": "stdout",
     "output_type": "stream",
     "text": [
      "-- 6010_0_1 10 44\n"
     ]
    },
    {
     "name": "stderr",
     "output_type": "stream",
     "text": [
      "Self-intersection at or near point 3393.2222222222222 266.66666666666669\n"
     ]
    },
    {
     "name": "stdout",
     "output_type": "stream",
     "text": [
      "-- 6010_0_0 10 45\n"
     ]
    },
    {
     "name": "stderr",
     "output_type": "stream",
     "text": [
      "Self-intersection at or near point 3393.8625000000002 2203.1750000000002\n"
     ]
    },
    {
     "name": "stdout",
     "output_type": "stream",
     "text": [
      "-- 6010_0_3 10 46\n"
     ]
    },
    {
     "name": "stderr",
     "output_type": "stream",
     "text": [
      "Self-intersection at or near point 2 337\n"
     ]
    },
    {
     "name": "stdout",
     "output_type": "stream",
     "text": [
      "-- 6010_0_2 10 47\n"
     ]
    },
    {
     "name": "stderr",
     "output_type": "stream",
     "text": [
      "Self-intersection at or near point 2 709\n"
     ]
    },
    {
     "name": "stdout",
     "output_type": "stream",
     "text": [
      "-- 6010_2_3 10 48\n"
     ]
    },
    {
     "name": "stderr",
     "output_type": "stream",
     "text": [
      "Self-intersection at or near point 3390.1875 83.1875\n"
     ]
    },
    {
     "name": "stdout",
     "output_type": "stream",
     "text": [
      "-- 6010_2_2 10 49\n"
     ]
    },
    {
     "name": "stderr",
     "output_type": "stream",
     "text": [
      "Self-intersection at or near point 3390 8\n"
     ]
    },
    {
     "name": "stdout",
     "output_type": "stream",
     "text": [
      "-- 6010_2_1 10 50\n"
     ]
    },
    {
     "name": "stderr",
     "output_type": "stream",
     "text": [
      "Self-intersection at or near point 379 4\n"
     ]
    },
    {
     "name": "stdout",
     "output_type": "stream",
     "text": [
      "-- 6010_2_0 10 51\n"
     ]
    },
    {
     "name": "stderr",
     "output_type": "stream",
     "text": [
      "Self-intersection at or near point 3 553\n"
     ]
    },
    {
     "name": "stdout",
     "output_type": "stream",
     "text": [
      "-- 6010_2_4 10 52\n"
     ]
    },
    {
     "name": "stderr",
     "output_type": "stream",
     "text": [
      "Self-intersection at or near point 4 1622\n"
     ]
    },
    {
     "name": "stdout",
     "output_type": "stream",
     "text": [
      "-- 6010_4_1 10 53\n"
     ]
    },
    {
     "name": "stderr",
     "output_type": "stream",
     "text": [
      "Self-intersection at or near point 218.77777777777777 3.2222222222222223\n"
     ]
    },
    {
     "name": "stdout",
     "output_type": "stream",
     "text": [
      "-- 6170_3_4 10 54\n"
     ]
    },
    {
     "name": "stderr",
     "output_type": "stream",
     "text": [
      "Self-intersection at or near point 3383 2847\n"
     ]
    },
    {
     "name": "stdout",
     "output_type": "stream",
     "text": [
      "-- 6010_4_3 10 55\n"
     ]
    },
    {
     "name": "stderr",
     "output_type": "stream",
     "text": [
      "Self-intersection at or near point 4 1822\n"
     ]
    },
    {
     "name": "stdout",
     "output_type": "stream",
     "text": [
      "-- 6170_3_1 10 56\n"
     ]
    },
    {
     "name": "stderr",
     "output_type": "stream",
     "text": [
      "Self-intersection at or near point 3387 111\n"
     ]
    },
    {
     "name": "stdout",
     "output_type": "stream",
     "text": [
      "-- 6170_3_0 10 57\n"
     ]
    },
    {
     "name": "stderr",
     "output_type": "stream",
     "text": [
      "Self-intersection at or near point 3387.1999999999998 2561.8000000000002\n"
     ]
    },
    {
     "name": "stdout",
     "output_type": "stream",
     "text": [
      "-- 6170_3_3 10 58\n"
     ]
    },
    {
     "name": "stderr",
     "output_type": "stream",
     "text": [
      "Self-intersection at or near point 3387.5454545454545 925.5454545454545\n"
     ]
    },
    {
     "name": "stdout",
     "output_type": "stream",
     "text": [
      "-- 6170_3_2 10 59\n"
     ]
    },
    {
     "name": "stderr",
     "output_type": "stream",
     "text": [
      "Self-intersection at or near point 1159 1\n"
     ]
    },
    {
     "name": "stdout",
     "output_type": "stream",
     "text": [
      "-- 6170_1_3 10 60\n"
     ]
    },
    {
     "name": "stderr",
     "output_type": "stream",
     "text": [
      "Self-intersection at or near point 3387 408\n"
     ]
    },
    {
     "name": "stdout",
     "output_type": "stream",
     "text": [
      "-- 6170_1_2 10 61\n"
     ]
    },
    {
     "name": "stderr",
     "output_type": "stream",
     "text": [
      "Self-intersection at or near point 3387 37\n"
     ]
    },
    {
     "name": "stdout",
     "output_type": "stream",
     "text": [
      "-- 6170_1_1 10 62\n"
     ]
    },
    {
     "name": "stderr",
     "output_type": "stream",
     "text": [
      "Self-intersection at or near point 3387 120\n"
     ]
    },
    {
     "name": "stdout",
     "output_type": "stream",
     "text": [
      "-- 6170_1_0 10 63\n",
      "-- 6170_1_4 10 64\n"
     ]
    },
    {
     "name": "stderr",
     "output_type": "stream",
     "text": [
      "Self-intersection at or near point 1 3206\n"
     ]
    },
    {
     "name": "stdout",
     "output_type": "stream",
     "text": [
      "-- 6130_4_2 10 65\n",
      "-- 6130_4_3 10 66\n"
     ]
    },
    {
     "name": "stderr",
     "output_type": "stream",
     "text": [
      "Self-intersection at or near point 399 4\n"
     ]
    },
    {
     "name": "stdout",
     "output_type": "stream",
     "text": [
      "-- 6130_4_0 10 67\n",
      "-- 6130_4_1 10 68\n",
      "-- 6130_4_4 10 69\n"
     ]
    },
    {
     "name": "stderr",
     "output_type": "stream",
     "text": [
      "Self-intersection at or near point 3390 1538\n"
     ]
    },
    {
     "name": "stdout",
     "output_type": "stream",
     "text": [
      "-- 6150_3_3 10 70\n",
      "-- 6150_3_2 10 71\n"
     ]
    },
    {
     "name": "stderr",
     "output_type": "stream",
     "text": [
      "Self-intersection at or near point 4 728\n"
     ]
    },
    {
     "name": "stdout",
     "output_type": "stream",
     "text": [
      "-- 6150_3_1 10 72\n",
      "-- 6150_3_0 10 73\n"
     ]
    },
    {
     "name": "stderr",
     "output_type": "stream",
     "text": [
      "Self-intersection at or near point 2 2265\n"
     ]
    },
    {
     "name": "stdout",
     "output_type": "stream",
     "text": [
      "-- 6150_3_4 10 74\n",
      "-- 6130_2_0 10 75\n",
      "-- 6130_2_1 10 76\n",
      "-- 6130_2_2 10 77\n"
     ]
    },
    {
     "name": "stderr",
     "output_type": "stream",
     "text": [
      "Self-intersection at or near point 4 79\n"
     ]
    },
    {
     "name": "stdout",
     "output_type": "stream",
     "text": [
      "-- 6130_2_3 10 78\n",
      "-- 6130_2_4 10 79\n",
      "-- 6130_0_4 10 80\n"
     ]
    },
    {
     "name": "stderr",
     "output_type": "stream",
     "text": [
      "Self-intersection at or near point 4 2920\n"
     ]
    },
    {
     "name": "stdout",
     "output_type": "stream",
     "text": [
      "-- 6130_0_2 10 81\n"
     ]
    },
    {
     "name": "stderr",
     "output_type": "stream",
     "text": [
      "Self-intersection at or near point 1 2405\n"
     ]
    },
    {
     "name": "stdout",
     "output_type": "stream",
     "text": [
      "-- 6130_0_3 10 82\n"
     ]
    },
    {
     "name": "stderr",
     "output_type": "stream",
     "text": [
      "Self-intersection at or near point 693 1288\n"
     ]
    },
    {
     "name": "stdout",
     "output_type": "stream",
     "text": [
      "-- 6130_0_0 10 83\n"
     ]
    },
    {
     "name": "stderr",
     "output_type": "stream",
     "text": [
      "Self-intersection at or near point 3394 2580\n"
     ]
    },
    {
     "name": "stdout",
     "output_type": "stream",
     "text": [
      "-- 6130_0_1 10 84\n"
     ]
    },
    {
     "name": "stderr",
     "output_type": "stream",
     "text": [
      "Self-intersection at or near point 3394 2426\n"
     ]
    },
    {
     "name": "stdout",
     "output_type": "stream",
     "text": [
      "-- 6150_1_4 10 85\n"
     ]
    },
    {
     "name": "stderr",
     "output_type": "stream",
     "text": [
      "Ring Self-intersection at or near point 3301 613\n"
     ]
    },
    {
     "name": "stdout",
     "output_type": "stream",
     "text": [
      "-- 6150_1_1 10 86\n"
     ]
    },
    {
     "name": "stderr",
     "output_type": "stream",
     "text": [
      "Self-intersection at or near point 853 4\n"
     ]
    },
    {
     "name": "stdout",
     "output_type": "stream",
     "text": [
      "-- 6150_1_0 10 87\n"
     ]
    },
    {
     "name": "stderr",
     "output_type": "stream",
     "text": [
      "Self-intersection at or near point 3401 141\n"
     ]
    },
    {
     "name": "stdout",
     "output_type": "stream",
     "text": [
      "-- 6150_1_3 10 88\n",
      "-- 6150_1_2 10 89\n"
     ]
    },
    {
     "name": "stderr",
     "output_type": "stream",
     "text": [
      "Self-intersection at or near point 4 468\n"
     ]
    },
    {
     "name": "stdout",
     "output_type": "stream",
     "text": [
      "-- 6180_3_4 10 90\n",
      "-- 6180_3_0 10 91\n",
      "-- 6180_3_1 10 92\n"
     ]
    },
    {
     "name": "stderr",
     "output_type": "stream",
     "text": [
      "Self-intersection at or near point 2523 2\n"
     ]
    },
    {
     "name": "stdout",
     "output_type": "stream",
     "text": [
      "-- 6180_3_2 10 93\n",
      "-- 6180_3_3 10 94\n"
     ]
    },
    {
     "name": "stderr",
     "output_type": "stream",
     "text": [
      "Self-intersection at or near point 787 4\n"
     ]
    },
    {
     "name": "stdout",
     "output_type": "stream",
     "text": [
      "-- 6180_1_2 10 95\n"
     ]
    },
    {
     "name": "stderr",
     "output_type": "stream",
     "text": [
      "Self-intersection at or near point 3.2051282051282053 2863.2051282051284\n"
     ]
    },
    {
     "name": "stdout",
     "output_type": "stream",
     "text": [
      "-- 6180_1_3 10 96\n",
      "-- 6180_1_0 10 97\n"
     ]
    },
    {
     "name": "stderr",
     "output_type": "stream",
     "text": [
      "Self-intersection at or near point 178.375 3.375\n"
     ]
    },
    {
     "name": "stdout",
     "output_type": "stream",
     "text": [
      "-- 6180_1_1 10 98\n"
     ]
    },
    {
     "name": "stderr",
     "output_type": "stream",
     "text": [
      "Self-intersection at or near point 2 2948\n"
     ]
    },
    {
     "name": "stdout",
     "output_type": "stream",
     "text": [
      "-- 6180_1_4 10 99\n",
      "-- 6010_1_4 10 100\n"
     ]
    },
    {
     "name": "stderr",
     "output_type": "stream",
     "text": [
      "Self-intersection at or near point 3205.6666666666665 3.3333333333333335\n"
     ]
    },
    {
     "name": "stdout",
     "output_type": "stream",
     "text": [
      "-- 6010_1_0 10 101\n"
     ]
    },
    {
     "name": "stderr",
     "output_type": "stream",
     "text": [
      "Self-intersection at or near point 3393.3103448275861 1667.2068965517242\n"
     ]
    },
    {
     "name": "stdout",
     "output_type": "stream",
     "text": [
      "-- 6010_1_1 10 102\n"
     ]
    },
    {
     "name": "stderr",
     "output_type": "stream",
     "text": [
      "Self-intersection at or near point 1 416\n"
     ]
    },
    {
     "name": "stdout",
     "output_type": "stream",
     "text": [
      "-- 6010_1_2 10 103\n"
     ]
    },
    {
     "name": "stderr",
     "output_type": "stream",
     "text": [
      "Self-intersection at or near point 1624 4\n"
     ]
    },
    {
     "name": "stdout",
     "output_type": "stream",
     "text": [
      "-- 6010_1_3 10 104\n"
     ]
    },
    {
     "name": "stderr",
     "output_type": "stream",
     "text": [
      "Self-intersection at or near point 3393.2307692307691 1355.2307692307693\n"
     ]
    },
    {
     "name": "stdout",
     "output_type": "stream",
     "text": [
      "-- 6010_3_2 10 105\n"
     ]
    },
    {
     "name": "stderr",
     "output_type": "stream",
     "text": [
      "Self-intersection at or near point 3393.8918918918921 2172.6216216216217\n"
     ]
    },
    {
     "name": "stdout",
     "output_type": "stream",
     "text": [
      "-- 6010_3_3 10 106\n"
     ]
    },
    {
     "name": "stderr",
     "output_type": "stream",
     "text": [
      "Self-intersection at or near point 3.2727272727272729 2095.2727272727275\n"
     ]
    },
    {
     "name": "stdout",
     "output_type": "stream",
     "text": [
      "-- 6010_3_0 10 107\n"
     ]
    },
    {
     "name": "stderr",
     "output_type": "stream",
     "text": [
      "Self-intersection at or near point 2811 2\n"
     ]
    },
    {
     "name": "stdout",
     "output_type": "stream",
     "text": [
      "-- 6010_3_1 10 108\n",
      "-- 6010_3_4 10 109\n"
     ]
    },
    {
     "name": "stderr",
     "output_type": "stream",
     "text": [
      "Self-intersection at or near point 3387.3809523809523 2240.6190476190477\n"
     ]
    },
    {
     "name": "stdout",
     "output_type": "stream",
     "text": [
      "-- 6020_0_4 10 110\n"
     ]
    },
    {
     "name": "stderr",
     "output_type": "stream",
     "text": [
      "Self-intersection at or near point 2 1863\n"
     ]
    },
    {
     "name": "stdout",
     "output_type": "stream",
     "text": [
      "-- 6020_0_0 10 111\n"
     ]
    },
    {
     "name": "stderr",
     "output_type": "stream",
     "text": [
      "Self-intersection at or near point 452 2\n"
     ]
    },
    {
     "name": "stdout",
     "output_type": "stream",
     "text": [
      "-- 6020_0_1 10 112\n",
      "-- 6020_0_2 10 113\n",
      "-- 6020_0_3 10 114\n"
     ]
    },
    {
     "name": "stderr",
     "output_type": "stream",
     "text": [
      "Self-intersection at or near point 3392.1666666666665 1727.8333333333333\n"
     ]
    },
    {
     "name": "stdout",
     "output_type": "stream",
     "text": [
      "-- 6020_2_2 10 115\n"
     ]
    },
    {
     "name": "stderr",
     "output_type": "stream",
     "text": [
      "Ring Self-intersection at or near point 5 4\n"
     ]
    },
    {
     "name": "stdout",
     "output_type": "stream",
     "text": [
      "-- 6020_2_3 10 116\n",
      "-- 6020_2_0 10 117\n"
     ]
    },
    {
     "name": "stderr",
     "output_type": "stream",
     "text": [
      "Self-intersection at or near point 4 1332\n"
     ]
    },
    {
     "name": "stdout",
     "output_type": "stream",
     "text": [
      "-- 6020_2_1 10 118\n",
      "-- 6020_2_4 10 119\n",
      "-- 6020_4_0 10 120\n",
      "-- 6020_4_1 10 121\n",
      "-- 6020_4_2 10 122\n",
      "-- 6020_4_3 10 123\n"
     ]
    },
    {
     "name": "stderr",
     "output_type": "stream",
     "text": [
      "Self-intersection at or near point 374 1\n"
     ]
    },
    {
     "name": "stdout",
     "output_type": "stream",
     "text": [
      "-- 6020_4_4 10 124\n"
     ]
    },
    {
     "name": "stderr",
     "output_type": "stream",
     "text": [
      "Self-intersection at or near point 1 719\n"
     ]
    },
    {
     "name": "stdout",
     "output_type": "stream",
     "text": [
      "-- 6110_0_1 10 125\n"
     ]
    },
    {
     "name": "stderr",
     "output_type": "stream",
     "text": [
      "Self-intersection at or near point 3390 3269\n"
     ]
    },
    {
     "name": "stdout",
     "output_type": "stream",
     "text": [
      "-- 6150_0_4 10 126\n"
     ]
    },
    {
     "name": "stderr",
     "output_type": "stream",
     "text": [
      "Self-intersection at or near point 3068.1666666666665 3.8333333333333335\n"
     ]
    },
    {
     "name": "stdout",
     "output_type": "stream",
     "text": [
      "-- 6150_0_0 10 127\n"
     ]
    },
    {
     "name": "stderr",
     "output_type": "stream",
     "text": [
      "Self-intersection at or near point 865 1\n"
     ]
    },
    {
     "name": "stdout",
     "output_type": "stream",
     "text": [
      "-- 6150_0_1 10 128\n"
     ]
    },
    {
     "name": "stderr",
     "output_type": "stream",
     "text": [
      "Self-intersection at or near point 175 4\n"
     ]
    },
    {
     "name": "stdout",
     "output_type": "stream",
     "text": [
      "-- 6150_0_2 10 129\n",
      "-- 6150_0_3 10 130\n"
     ]
    },
    {
     "name": "stderr",
     "output_type": "stream",
     "text": [
      "Self-intersection at or near point 2149 4\n"
     ]
    },
    {
     "name": "stdout",
     "output_type": "stream",
     "text": [
      "-- 6100_2_1 10 131\n"
     ]
    },
    {
     "name": "stderr",
     "output_type": "stream",
     "text": [
      "Self-intersection at or near point 2 3159\n"
     ]
    },
    {
     "name": "stdout",
     "output_type": "stream",
     "text": [
      "-- 6100_2_0 10 132\n"
     ]
    },
    {
     "name": "stderr",
     "output_type": "stream",
     "text": [
      "Self-intersection at or near point 3389 3175\n"
     ]
    },
    {
     "name": "stdout",
     "output_type": "stream",
     "text": [
      "-- 6150_2_2 10 133\n"
     ]
    },
    {
     "name": "stderr",
     "output_type": "stream",
     "text": [
      "Self-intersection at or near point 2368 1\n"
     ]
    },
    {
     "name": "stdout",
     "output_type": "stream",
     "text": [
      "-- 6150_2_0 10 134\n",
      "-- 6150_2_1 10 135\n",
      "-- 6150_2_4 10 136\n"
     ]
    },
    {
     "name": "stderr",
     "output_type": "stream",
     "text": [
      "Self-intersection at or near point 2 418\n"
     ]
    },
    {
     "name": "stdout",
     "output_type": "stream",
     "text": [
      "-- 6170_4_2 10 137\n"
     ]
    },
    {
     "name": "stderr",
     "output_type": "stream",
     "text": [
      "Self-intersection at or near point 1 3335\n"
     ]
    },
    {
     "name": "stdout",
     "output_type": "stream",
     "text": [
      "-- 6050_3_1 10 138\n",
      "-- 6170_4_3 10 139\n"
     ]
    },
    {
     "name": "stderr",
     "output_type": "stream",
     "text": [
      "Self-intersection at or near point 1 717\n"
     ]
    },
    {
     "name": "stdout",
     "output_type": "stream",
     "text": [
      "-- 6150_4_0 10 140\n"
     ]
    },
    {
     "name": "stderr",
     "output_type": "stream",
     "text": [
      "Self-intersection at or near point 2 1797\n"
     ]
    },
    {
     "name": "stdout",
     "output_type": "stream",
     "text": [
      "-- 6150_4_1 10 141\n",
      "-- 6150_4_2 10 142\n"
     ]
    },
    {
     "name": "stderr",
     "output_type": "stream",
     "text": [
      "Self-intersection at or near point 2 1269\n"
     ]
    },
    {
     "name": "stdout",
     "output_type": "stream",
     "text": [
      "-- 6150_4_3 10 143\n"
     ]
    },
    {
     "name": "stderr",
     "output_type": "stream",
     "text": [
      "Self-intersection at or near point 4 1961\n"
     ]
    },
    {
     "name": "stdout",
     "output_type": "stream",
     "text": [
      "-- 6150_4_4 10 144\n",
      "-- 6170_4_0 10 145\n"
     ]
    },
    {
     "name": "stderr",
     "output_type": "stream",
     "text": [
      "Self-intersection at or near point 3300 3339\n"
     ]
    },
    {
     "name": "stdout",
     "output_type": "stream",
     "text": [
      "-- 6070_3_4 10 146\n",
      "-- 6070_3_0 10 147\n",
      "-- 6070_3_1 10 148\n",
      "-- 6070_3_2 10 149\n",
      "-- 6070_3_3 10 150\n",
      "-- 6070_1_2 10 151\n",
      "-- 6070_1_3 10 152\n",
      "-- 6070_1_0 10 153\n",
      "-- 6070_1_1 10 154\n",
      "-- 6070_1_4 10 155\n",
      "-- 6120_0_3 10 156\n",
      "-- 6110_1_1 10 157\n"
     ]
    },
    {
     "name": "stderr",
     "output_type": "stream",
     "text": [
      "Self-intersection at or near point 2462 4\n"
     ]
    },
    {
     "name": "stdout",
     "output_type": "stream",
     "text": [
      "-- 6110_1_0 10 158\n",
      "-- 6110_1_3 10 159\n",
      "-- 6110_1_4 10 160\n",
      "-- 6110_3_4 10 161\n",
      "-- 6110_3_3 10 162\n"
     ]
    },
    {
     "name": "stderr",
     "output_type": "stream",
     "text": [
      "Self-intersection at or near point 1465 1\n"
     ]
    },
    {
     "name": "stdout",
     "output_type": "stream",
     "text": [
      "-- 6110_3_2 10 163\n",
      "-- 6110_3_0 10 164\n"
     ]
    },
    {
     "name": "stderr",
     "output_type": "stream",
     "text": [
      "Self-intersection at or near point 3 226\n"
     ]
    },
    {
     "name": "stdout",
     "output_type": "stream",
     "text": [
      "-- 6060_2_1 10 165\n"
     ]
    },
    {
     "name": "stderr",
     "output_type": "stream",
     "text": [
      "Self-intersection at or near point 2626 1\n"
     ]
    },
    {
     "name": "stdout",
     "output_type": "stream",
     "text": [
      "-- 6140_3_3 10 166\n",
      "-- 6020_1_4 10 167\n"
     ]
    },
    {
     "name": "stderr",
     "output_type": "stream",
     "text": [
      "Self-intersection at or near point 2 616\n"
     ]
    },
    {
     "name": "stdout",
     "output_type": "stream",
     "text": [
      "-- 6020_1_1 10 168\n"
     ]
    },
    {
     "name": "stderr",
     "output_type": "stream",
     "text": [
      "Self-intersection at or near point 1034 1\n"
     ]
    },
    {
     "name": "stdout",
     "output_type": "stream",
     "text": [
      "-- 6020_1_0 10 169\n",
      "-- 6020_1_3 10 170\n"
     ]
    },
    {
     "name": "stderr",
     "output_type": "stream",
     "text": [
      "Self-intersection at or near point 2561.6875 3.6875\n"
     ]
    },
    {
     "name": "stdout",
     "output_type": "stream",
     "text": [
      "-- 6020_1_2 10 171\n"
     ]
    },
    {
     "name": "stderr",
     "output_type": "stream",
     "text": [
      "Self-intersection at or near point 2197 4\n"
     ]
    },
    {
     "name": "stdout",
     "output_type": "stream",
     "text": [
      "-- 6020_3_3 10 172\n"
     ]
    },
    {
     "name": "stderr",
     "output_type": "stream",
     "text": [
      "Self-intersection at or near point 3394 2749\n"
     ]
    },
    {
     "name": "stdout",
     "output_type": "stream",
     "text": [
      "-- 6020_3_2 10 173\n",
      "-- 6020_3_1 10 174\n",
      "-- 6020_3_0 10 175\n",
      "-- 6020_3_4 10 176\n",
      "-- 6050_2_4 10 177\n",
      "-- 6050_2_3 10 178\n",
      "-- 6050_2_2 10 179\n",
      "-- 6050_2_1 10 180\n",
      "-- 6050_2_0 10 181\n",
      "-- 6100_3_4 10 182\n"
     ]
    },
    {
     "name": "stderr",
     "output_type": "stream",
     "text": [
      "Self-intersection at or near point 3383.2105263157896 1543.3157894736842\n"
     ]
    },
    {
     "name": "stdout",
     "output_type": "stream",
     "text": [
      "-- 6100_3_0 10 183\n"
     ]
    },
    {
     "name": "stderr",
     "output_type": "stream",
     "text": [
      "Self-intersection at or near point 282.66666666666669 3.3333333333333335\n"
     ]
    },
    {
     "name": "stdout",
     "output_type": "stream",
     "text": [
      "-- 6100_3_1 10 184\n"
     ]
    },
    {
     "name": "stderr",
     "output_type": "stream",
     "text": [
      "Self-intersection at or near point 2 1413\n"
     ]
    },
    {
     "name": "stdout",
     "output_type": "stream",
     "text": [
      "-- 6100_3_2 10 185\n"
     ]
    },
    {
     "name": "stderr",
     "output_type": "stream",
     "text": [
      "Self-intersection at or near point 3 2244\n"
     ]
    },
    {
     "name": "stdout",
     "output_type": "stream",
     "text": [
      "-- 6100_3_3 10 186\n"
     ]
    },
    {
     "name": "stderr",
     "output_type": "stream",
     "text": [
      "Self-intersection at or near point 2712.5333333333333 3.4666666666666668\n"
     ]
    },
    {
     "name": "stdout",
     "output_type": "stream",
     "text": [
      "-- 6060_1_1 10 187\n"
     ]
    },
    {
     "name": "stderr",
     "output_type": "stream",
     "text": [
      "Self-intersection at or near point 715 4\n"
     ]
    },
    {
     "name": "stdout",
     "output_type": "stream",
     "text": [
      "-- 6060_1_0 10 188\n",
      "-- 6060_1_3 10 189\n",
      "-- 6060_1_2 10 190\n"
     ]
    },
    {
     "name": "stderr",
     "output_type": "stream",
     "text": [
      "Self-intersection at or near point 3401 791\n"
     ]
    },
    {
     "name": "stdout",
     "output_type": "stream",
     "text": [
      "-- 6060_1_4 10 191\n"
     ]
    },
    {
     "name": "stderr",
     "output_type": "stream",
     "text": [
      "Self-intersection at or near point 3398 106\n"
     ]
    },
    {
     "name": "stdout",
     "output_type": "stream",
     "text": [
      "-- 6060_3_4 10 192\n"
     ]
    },
    {
     "name": "stderr",
     "output_type": "stream",
     "text": [
      "Self-intersection at or near point 804 1\n"
     ]
    },
    {
     "name": "stdout",
     "output_type": "stream",
     "text": [
      "-- 6060_3_3 10 193\n",
      "-- 6060_3_2 10 194\n"
     ]
    },
    {
     "name": "stderr",
     "output_type": "stream",
     "text": [
      "Self-intersection at or near point 4 521\n"
     ]
    },
    {
     "name": "stdout",
     "output_type": "stream",
     "text": [
      "-- 6060_3_1 10 195\n"
     ]
    },
    {
     "name": "stderr",
     "output_type": "stream",
     "text": [
      "Self-intersection at or near point 4 604\n"
     ]
    },
    {
     "name": "stdout",
     "output_type": "stream",
     "text": [
      "-- 6060_3_0 10 196\n"
     ]
    },
    {
     "name": "stderr",
     "output_type": "stream",
     "text": [
      "Self-intersection at or near point 3397.0689655172414 330.06896551724139\n"
     ]
    },
    {
     "name": "stdout",
     "output_type": "stream",
     "text": [
      "-- 6070_2_4 10 197\n",
      "-- 6070_2_1 10 198\n",
      "-- 6070_2_0 10 199\n",
      "-- 6070_2_3 10 200\n",
      "-- 6070_2_2 10 201\n",
      "-- 6040_2_0 10 202\n",
      "-- 6040_2_1 10 203\n",
      "-- 6040_2_3 10 204\n",
      "-- 6040_2_4 10 205\n",
      "-- 6070_0_3 10 206\n",
      "-- 6070_0_2 10 207\n",
      "-- 6070_0_1 10 208\n",
      "-- 6070_0_0 10 209\n",
      "-- 6070_0_4 10 210\n",
      "-- 6100_4_3 10 211\n"
     ]
    },
    {
     "name": "stderr",
     "output_type": "stream",
     "text": [
      "Self-intersection at or near point 41.338461538461537 3.3384615384615386\n"
     ]
    },
    {
     "name": "stdout",
     "output_type": "stream",
     "text": [
      "-- 6040_0_4 10 212\n"
     ]
    },
    {
     "name": "stderr",
     "output_type": "stream",
     "text": [
      "Self-intersection at or near point 4 2093\n"
     ]
    },
    {
     "name": "stdout",
     "output_type": "stream",
     "text": [
      "-- 6040_0_2 10 213\n"
     ]
    },
    {
     "name": "stderr",
     "output_type": "stream",
     "text": [
      "Self-intersection at or near point 1747.6923076923076 3.3076923076923075\n"
     ]
    },
    {
     "name": "stdout",
     "output_type": "stream",
     "text": [
      "-- 6040_0_3 10 214\n"
     ]
    },
    {
     "name": "stderr",
     "output_type": "stream",
     "text": [
      "Self-intersection at or near point 3385.2857142857142 2154.7142857142858\n"
     ]
    },
    {
     "name": "stdout",
     "output_type": "stream",
     "text": [
      "-- 6040_0_0 10 215\n"
     ]
    },
    {
     "name": "stderr",
     "output_type": "stream",
     "text": [
      "Self-intersection at or near point 3385.1333333333332 2184.8666666666668\n"
     ]
    },
    {
     "name": "stdout",
     "output_type": "stream",
     "text": [
      "-- 6040_0_1 10 216\n"
     ]
    },
    {
     "name": "stderr",
     "output_type": "stream",
     "text": [
      "Self-intersection at or near point 3385.2666666666669 848.73333333333335\n"
     ]
    },
    {
     "name": "stdout",
     "output_type": "stream",
     "text": [
      "-- 6050_0_1 10 217\n",
      "-- 6050_0_0 10 218\n",
      "-- 6050_0_3 10 219\n",
      "-- 6050_0_2 10 220\n",
      "-- 6050_0_4 10 221\n",
      "-- 6070_4_4 10 222\n",
      "-- 6070_4_3 10 223\n",
      "-- 6070_4_2 10 224\n",
      "-- 6070_4_1 10 225\n",
      "-- 6070_4_0 10 226\n",
      "-- 6140_3_0 10 227\n"
     ]
    },
    {
     "name": "stderr",
     "output_type": "stream",
     "text": [
      "Self-intersection at or near point 1 804\n"
     ]
    },
    {
     "name": "stdout",
     "output_type": "stream",
     "text": [
      "-- 6140_3_2 10 228\n"
     ]
    },
    {
     "name": "stderr",
     "output_type": "stream",
     "text": [
      "Self-intersection at or near point 1 417\n"
     ]
    },
    {
     "name": "stdout",
     "output_type": "stream",
     "text": [
      "-- 6100_4_4 10 229\n"
     ]
    },
    {
     "name": "stderr",
     "output_type": "stream",
     "text": [
      "Self-intersection at or near point 3383.3689567430024 1590.3740458015268\n"
     ]
    },
    {
     "name": "stdout",
     "output_type": "stream",
     "text": [
      "-- 6140_3_4 10 230\n",
      "-- 6100_4_2 10 231\n"
     ]
    },
    {
     "name": "stderr",
     "output_type": "stream",
     "text": [
      "Self-intersection at or near point 4 29\n"
     ]
    },
    {
     "name": "stdout",
     "output_type": "stream",
     "text": [
      "-- 6100_4_1 10 232\n"
     ]
    },
    {
     "name": "stderr",
     "output_type": "stream",
     "text": [
      "Self-intersection at or near point 3385.6585365853657 3245.6585365853657\n"
     ]
    },
    {
     "name": "stdout",
     "output_type": "stream",
     "text": [
      "-- 6100_4_0 10 233\n"
     ]
    },
    {
     "name": "stderr",
     "output_type": "stream",
     "text": [
      "Self-intersection at or near point 2 2556\n"
     ]
    },
    {
     "name": "stdout",
     "output_type": "stream",
     "text": [
      "-- 6140_0_1 10 234\n",
      "-- 6140_1_4 10 235\n",
      "-- 6140_1_3 10 236\n",
      "-- 6140_1_0 10 237\n"
     ]
    },
    {
     "name": "stderr",
     "output_type": "stream",
     "text": [
      "Self-intersection at or near point 887 2\n"
     ]
    },
    {
     "name": "stdout",
     "output_type": "stream",
     "text": [
      "-- 6140_1_1 10 238\n"
     ]
    },
    {
     "name": "stderr",
     "output_type": "stream",
     "text": [
      "Self-intersection at or near point 2001 2\n"
     ]
    },
    {
     "name": "stdout",
     "output_type": "stream",
     "text": [
      "-- 6040_4_2 10 239\n",
      "-- 6040_4_3 10 240\n",
      "-- 6040_4_0 10 241\n",
      "-- 6040_4_1 10 242\n",
      "-- 6040_4_4 10 243\n",
      "-- 6010_4_0 10 244\n"
     ]
    },
    {
     "name": "stderr",
     "output_type": "stream",
     "text": [
      "Self-intersection at or near point 4 1838\n"
     ]
    },
    {
     "name": "stdout",
     "output_type": "stream",
     "text": [
      "-- 6110_0_0 10 245\n"
     ]
    },
    {
     "name": "stderr",
     "output_type": "stream",
     "text": [
      "Self-intersection at or near point 1055 4\n"
     ]
    },
    {
     "name": "stdout",
     "output_type": "stream",
     "text": [
      "-- 6050_4_4 10 246\n",
      "-- 6110_0_2 10 247\n"
     ]
    },
    {
     "name": "stderr",
     "output_type": "stream",
     "text": [
      "Self-intersection at or near point 1 3145\n"
     ]
    },
    {
     "name": "stdout",
     "output_type": "stream",
     "text": [
      "-- 6110_0_3 10 248\n",
      "-- 6110_0_4 10 249\n",
      "-- 6050_4_0 10 250\n",
      "-- 6050_4_3 10 251\n",
      "-- 6050_4_2 10 252\n",
      "-- 6030_3_0 10 253\n"
     ]
    },
    {
     "name": "stderr",
     "output_type": "stream",
     "text": [
      "Self-intersection at or near point 2 2571\n"
     ]
    },
    {
     "name": "stdout",
     "output_type": "stream",
     "text": [
      "-- 6030_3_1 10 254\n",
      "-- 6030_3_2 10 255\n",
      "-- 6030_3_3 10 256\n",
      "-- 6030_3_4 10 257\n",
      "-- 6110_2_4 10 258\n"
     ]
    },
    {
     "name": "stderr",
     "output_type": "stream",
     "text": [
      "Self-intersection at or near point 1 1291\n"
     ]
    },
    {
     "name": "stdout",
     "output_type": "stream",
     "text": [
      "-- 6110_2_2 10 259\n"
     ]
    },
    {
     "name": "stderr",
     "output_type": "stream",
     "text": [
      "Self-intersection at or near point 3394 1860\n"
     ]
    },
    {
     "name": "stdout",
     "output_type": "stream",
     "text": [
      "-- 6110_2_3 10 260\n",
      "-- 6110_2_0 10 261\n",
      "-- 6110_2_1 10 262\n",
      "-- 6120_4_1 10 263\n"
     ]
    },
    {
     "name": "stderr",
     "output_type": "stream",
     "text": [
      "Self-intersection at or near point 233 1\n"
     ]
    },
    {
     "name": "stdout",
     "output_type": "stream",
     "text": [
      "-- 6120_4_0 10 264\n"
     ]
    },
    {
     "name": "stderr",
     "output_type": "stream",
     "text": [
      "Self-intersection at or near point 3401 1471\n"
     ]
    },
    {
     "name": "stdout",
     "output_type": "stream",
     "text": [
      "-- 6120_4_3 10 265\n"
     ]
    },
    {
     "name": "stderr",
     "output_type": "stream",
     "text": [
      "Self-intersection at or near point 1525 4\n"
     ]
    },
    {
     "name": "stdout",
     "output_type": "stream",
     "text": [
      "-- 6120_4_2 10 266\n",
      "-- 6110_4_4 10 267\n",
      "-- 6110_4_1 10 268\n"
     ]
    },
    {
     "name": "stderr",
     "output_type": "stream",
     "text": [
      "Self-intersection at or near point 1305.5555555555557 3.4444444444444446\n"
     ]
    },
    {
     "name": "stdout",
     "output_type": "stream",
     "text": [
      "-- 6110_4_2 10 269\n",
      "-- 6110_4_3 10 270\n"
     ]
    },
    {
     "name": "stderr",
     "output_type": "stream",
     "text": [
      "Self-intersection at or near point 1 1412\n"
     ]
    },
    {
     "name": "stdout",
     "output_type": "stream",
     "text": [
      "-- 6060_4_4 10 271\n",
      "-- 6060_4_0 10 272\n",
      "-- 6060_4_1 10 273\n",
      "-- 6060_4_2 10 274\n"
     ]
    },
    {
     "name": "stderr",
     "output_type": "stream",
     "text": [
      "Self-intersection at or near point 3397.625 958.625\n"
     ]
    },
    {
     "name": "stdout",
     "output_type": "stream",
     "text": [
      "-- 6060_4_3 10 275\n"
     ]
    },
    {
     "name": "stderr",
     "output_type": "stream",
     "text": [
      "Self-intersection at or near point 4 1178\n"
     ]
    },
    {
     "name": "stdout",
     "output_type": "stream",
     "text": [
      "-- 6100_2_4 10 276\n"
     ]
    },
    {
     "name": "stderr",
     "output_type": "stream",
     "text": [
      "Self-intersection at or near point 2 3286\n"
     ]
    },
    {
     "name": "stdout",
     "output_type": "stream",
     "text": [
      "-- 6050_3_4 10 277\n",
      "-- 6050_3_2 10 278\n",
      "-- 6050_3_3 10 279\n",
      "-- 6050_3_0 10 280\n",
      "-- 6100_2_2 10 281\n"
     ]
    },
    {
     "name": "stderr",
     "output_type": "stream",
     "text": [
      "Self-intersection at or near point 3388.9375 2345.0625\n"
     ]
    },
    {
     "name": "stdout",
     "output_type": "stream",
     "text": [
      "-- 6100_0_3 10 282\n"
     ]
    },
    {
     "name": "stderr",
     "output_type": "stream",
     "text": [
      "Self-intersection at or near point 4 2400\n"
     ]
    },
    {
     "name": "stdout",
     "output_type": "stream",
     "text": [
      "-- 6100_0_2 10 283\n"
     ]
    },
    {
     "name": "stderr",
     "output_type": "stream",
     "text": [
      "Self-intersection at or near point 1 471\n"
     ]
    },
    {
     "name": "stdout",
     "output_type": "stream",
     "text": [
      "-- 6100_0_1 10 284\n"
     ]
    },
    {
     "name": "stderr",
     "output_type": "stream",
     "text": [
      "Self-intersection at or near point 1 3128\n"
     ]
    },
    {
     "name": "stdout",
     "output_type": "stream",
     "text": [
      "-- 6100_0_0 10 285\n"
     ]
    },
    {
     "name": "stderr",
     "output_type": "stream",
     "text": [
      "Self-intersection at or near point 4 1627\n"
     ]
    },
    {
     "name": "stdout",
     "output_type": "stream",
     "text": [
      "-- 6100_0_4 10 286\n"
     ]
    },
    {
     "name": "stderr",
     "output_type": "stream",
     "text": [
      "Self-intersection at or near point 1 1239\n"
     ]
    },
    {
     "name": "stdout",
     "output_type": "stream",
     "text": [
      "-- 6060_0_0 10 287\n"
     ]
    },
    {
     "name": "stderr",
     "output_type": "stream",
     "text": [
      "Self-intersection at or near point 3401 660\n"
     ]
    },
    {
     "name": "stdout",
     "output_type": "stream",
     "text": [
      "-- 6060_0_1 10 288\n",
      "-- 6060_0_2 10 289\n"
     ]
    },
    {
     "name": "stderr",
     "output_type": "stream",
     "text": [
      "Self-intersection at or near point 3401 977\n"
     ]
    },
    {
     "name": "stdout",
     "output_type": "stream",
     "text": [
      "-- 6060_0_3 10 290\n"
     ]
    },
    {
     "name": "stderr",
     "output_type": "stream",
     "text": [
      "Self-intersection at or near point 1 1310\n"
     ]
    },
    {
     "name": "stdout",
     "output_type": "stream",
     "text": [
      "-- 6060_0_4 10 291\n"
     ]
    },
    {
     "name": "stderr",
     "output_type": "stream",
     "text": [
      "Self-intersection at or near point 1.5890410958904109 742\n"
     ]
    },
    {
     "name": "stdout",
     "output_type": "stream",
     "text": [
      "-- 6160_1_0 10 292\n",
      "-- 6060_2_4 10 293\n"
     ]
    },
    {
     "name": "stderr",
     "output_type": "stream",
     "text": [
      "Self-intersection at or near point 3398 1401\n"
     ]
    },
    {
     "name": "stdout",
     "output_type": "stream",
     "text": [
      "-- 6060_2_2 10 294\n",
      "-- 6060_2_0 10 295\n",
      "-- 6160_1_1 10 296\n",
      "-- 6040_3_1 10 297\n",
      "-- 6040_3_0 10 298\n"
     ]
    },
    {
     "name": "stderr",
     "output_type": "stream",
     "text": [
      "Self-intersection at or near point 3389 736\n"
     ]
    },
    {
     "name": "stdout",
     "output_type": "stream",
     "text": [
      "-- 6040_3_3 10 299\n",
      "-- 6040_3_2 10 300\n",
      "-- 6040_3_4 10 301\n",
      "-- 6090_0_4 10 302\n"
     ]
    },
    {
     "name": "stderr",
     "output_type": "stream",
     "text": [
      "Self-intersection at or near point 1 605\n"
     ]
    },
    {
     "name": "stdout",
     "output_type": "stream",
     "text": [
      "-- 6160_1_3 10 303\n"
     ]
    },
    {
     "name": "stderr",
     "output_type": "stream",
     "text": [
      "Self-intersection at or near point 3387 1565\n"
     ]
    },
    {
     "name": "stdout",
     "output_type": "stream",
     "text": [
      "-- 6090_0_1 10 304\n"
     ]
    },
    {
     "name": "stderr",
     "output_type": "stream",
     "text": [
      "Self-intersection at or near point 4 1164\n"
     ]
    },
    {
     "name": "stdout",
     "output_type": "stream",
     "text": [
      "-- 6090_0_0 10 305\n"
     ]
    },
    {
     "name": "stderr",
     "output_type": "stream",
     "text": [
      "Self-intersection at or near point 3387.1176470588234 2998.1176470588234\n"
     ]
    },
    {
     "name": "stdout",
     "output_type": "stream",
     "text": [
      "-- 6090_0_3 10 306\n"
     ]
    },
    {
     "name": "stderr",
     "output_type": "stream",
     "text": [
      "Self-intersection at or near point 3387 680\n"
     ]
    },
    {
     "name": "stdout",
     "output_type": "stream",
     "text": [
      "-- 6090_0_2 10 307\n",
      "-- 6090_2_3 10 308\n"
     ]
    },
    {
     "name": "stderr",
     "output_type": "stream",
     "text": [
      "Self-intersection at or near point 3387 2429\n"
     ]
    },
    {
     "name": "stdout",
     "output_type": "stream",
     "text": [
      "-- 6090_2_2 10 309\n"
     ]
    },
    {
     "name": "stderr",
     "output_type": "stream",
     "text": [
      "Self-intersection at or near point 3387 1201\n"
     ]
    },
    {
     "name": "stdout",
     "output_type": "stream",
     "text": [
      "-- 6090_2_1 10 310\n"
     ]
    },
    {
     "name": "stderr",
     "output_type": "stream",
     "text": [
      "Self-intersection at or near point 1 591\n"
     ]
    },
    {
     "name": "stdout",
     "output_type": "stream",
     "text": [
      "-- 6040_1_4 10 311\n",
      "-- 6040_1_2 10 312\n",
      "-- 6040_1_1 10 313\n",
      "-- 6090_2_4 10 314\n"
     ]
    },
    {
     "name": "stderr",
     "output_type": "stream",
     "text": [
      "Self-intersection at or near point 507 4\n"
     ]
    },
    {
     "name": "stdout",
     "output_type": "stream",
     "text": [
      "-- 6030_0_4 10 315\n"
     ]
    },
    {
     "name": "stderr",
     "output_type": "stream",
     "text": [
      "Self-intersection at or near point 3398 660\n"
     ]
    },
    {
     "name": "stdout",
     "output_type": "stream",
     "text": [
      "-- 6030_0_3 10 316\n"
     ]
    },
    {
     "name": "stderr",
     "output_type": "stream",
     "text": [
      "Self-intersection at or near point 2244.9989241527701 1.0010758472296934\n"
     ]
    },
    {
     "name": "stdout",
     "output_type": "stream",
     "text": [
      "-- 6030_0_2 10 317\n",
      "-- 6030_0_1 10 318\n"
     ]
    },
    {
     "name": "stderr",
     "output_type": "stream",
     "text": [
      "Self-intersection at or near point 1.0279720279720279 2358.9720279720282\n"
     ]
    },
    {
     "name": "stdout",
     "output_type": "stream",
     "text": [
      "-- 6030_0_0 10 319\n"
     ]
    },
    {
     "name": "stderr",
     "output_type": "stream",
     "text": [
      "Self-intersection at or near point 1038 1\n"
     ]
    },
    {
     "name": "stdout",
     "output_type": "stream",
     "text": [
      "-- 6050_1_0 10 320\n",
      "-- 6050_1_1 10 321\n",
      "-- 6050_1_2 10 322\n",
      "-- 6050_1_3 10 323\n",
      "-- 6050_1_4 10 324\n",
      "-- 6120_1_0 10 325\n"
     ]
    },
    {
     "name": "stderr",
     "output_type": "stream",
     "text": [
      "Self-intersection at or near point 3400 2162.75\n"
     ]
    },
    {
     "name": "stdout",
     "output_type": "stream",
     "text": [
      "-- 6120_1_1 10 326\n",
      "-- 6120_1_2 10 327\n",
      "-- 6120_1_3 10 328\n"
     ]
    },
    {
     "name": "stderr",
     "output_type": "stream",
     "text": [
      "Self-intersection at or near point 3401 441\n"
     ]
    },
    {
     "name": "stdout",
     "output_type": "stream",
     "text": [
      "-- 6120_1_4 10 329\n"
     ]
    },
    {
     "name": "stderr",
     "output_type": "stream",
     "text": [
      "Self-intersection at or near point 836 1\n"
     ]
    },
    {
     "name": "stdout",
     "output_type": "stream",
     "text": [
      "-- 6120_0_4 10 330\n"
     ]
    },
    {
     "name": "stderr",
     "output_type": "stream",
     "text": [
      "Self-intersection at or near point 1 2416\n"
     ]
    },
    {
     "name": "stdout",
     "output_type": "stream",
     "text": [
      "-- 6160_1_4 10 331\n",
      "-- 6130_3_0 10 332\n"
     ]
    },
    {
     "name": "stderr",
     "output_type": "stream",
     "text": [
      "Self-intersection at or near point 1 644\n"
     ]
    },
    {
     "name": "stdout",
     "output_type": "stream",
     "text": [
      "-- 6140_0_4 10 333\n"
     ]
    },
    {
     "name": "stderr",
     "output_type": "stream",
     "text": [
      "Self-intersection at or near point 3388.2166666666667 1923.8166666666666\n"
     ]
    },
    {
     "name": "stdout",
     "output_type": "stream",
     "text": [
      "-- 6140_0_3 10 334\n"
     ]
    },
    {
     "name": "stderr",
     "output_type": "stream",
     "text": [
      "Self-intersection at or near point 1871 4\n"
     ]
    },
    {
     "name": "stdout",
     "output_type": "stream",
     "text": [
      "-- 6140_0_2 10 335\n"
     ]
    },
    {
     "name": "stderr",
     "output_type": "stream",
     "text": [
      "Self-intersection at or near point 2 2180\n"
     ]
    },
    {
     "name": "stdout",
     "output_type": "stream",
     "text": [
      "-- 6160_1_2 10 336\n",
      "-- 6140_0_0 10 337\n"
     ]
    },
    {
     "name": "stderr",
     "output_type": "stream",
     "text": [
      "Self-intersection at or near point 317 4\n"
     ]
    },
    {
     "name": "stdout",
     "output_type": "stream",
     "text": [
      "-- 6120_3_4 10 338\n",
      "-- 6120_3_2 10 339\n"
     ]
    },
    {
     "name": "stderr",
     "output_type": "stream",
     "text": [
      "Self-intersection at or near point 1 2889\n"
     ]
    },
    {
     "name": "stdout",
     "output_type": "stream",
     "text": [
      "-- 6120_3_3 10 340\n"
     ]
    },
    {
     "name": "stderr",
     "output_type": "stream",
     "text": [
      "Self-intersection at or near point 537 4\n"
     ]
    },
    {
     "name": "stdout",
     "output_type": "stream",
     "text": [
      "-- 6120_3_0 10 341\n"
     ]
    },
    {
     "name": "stderr",
     "output_type": "stream",
     "text": [
      "Self-intersection at or near point 3401 2804\n"
     ]
    },
    {
     "name": "stdout",
     "output_type": "stream",
     "text": [
      "-- 6120_3_1 10 342\n"
     ]
    },
    {
     "name": "stderr",
     "output_type": "stream",
     "text": [
      "Self-intersection at or near point 3015 4\n"
     ]
    },
    {
     "name": "stdout",
     "output_type": "stream",
     "text": [
      "-- 6100_1_2 10 343\n"
     ]
    },
    {
     "name": "stderr",
     "output_type": "stream",
     "text": [
      "Self-intersection at or near point 1 2182\n"
     ]
    },
    {
     "name": "stdout",
     "output_type": "stream",
     "text": [
      "-- 6100_1_0 10 344\n"
     ]
    },
    {
     "name": "stderr",
     "output_type": "stream",
     "text": [
      "Self-intersection at or near point 1 2250\n"
     ]
    },
    {
     "name": "stdout",
     "output_type": "stream",
     "text": [
      "-- 6100_1_1 10 345\n"
     ]
    },
    {
     "name": "stderr",
     "output_type": "stream",
     "text": [
      "Self-intersection at or near point 1 1404\n"
     ]
    },
    {
     "name": "stdout",
     "output_type": "stream",
     "text": [
      "-- 6100_1_4 10 346\n"
     ]
    },
    {
     "name": "stderr",
     "output_type": "stream",
     "text": [
      "Self-intersection at or near point 434 4\n"
     ]
    },
    {
     "name": "stdout",
     "output_type": "stream",
     "text": [
      "-- 6140_4_3 10 347\n",
      "-- 6140_4_2 10 348\n"
     ]
    },
    {
     "name": "stderr",
     "output_type": "stream",
     "text": [
      "Self-intersection at or near point 3394 792\n"
     ]
    },
    {
     "name": "stdout",
     "output_type": "stream",
     "text": [
      "-- 6140_4_1 10 349\n"
     ]
    },
    {
     "name": "stderr",
     "output_type": "stream",
     "text": [
      "Self-intersection at or near point 4 167\n"
     ]
    },
    {
     "name": "stdout",
     "output_type": "stream",
     "text": [
      "-- 6140_4_0 10 350\n"
     ]
    },
    {
     "name": "stderr",
     "output_type": "stream",
     "text": [
      "Self-intersection at or near point 4 1225\n"
     ]
    },
    {
     "name": "stdout",
     "output_type": "stream",
     "text": [
      "-- 6140_4_4 10 351\n",
      "-- 6160_0_4 10 352\n",
      "-- 6140_2_1 10 353\n"
     ]
    },
    {
     "name": "stderr",
     "output_type": "stream",
     "text": [
      "Self-intersection at or near point 3.625 1329.25\n"
     ]
    },
    {
     "name": "stdout",
     "output_type": "stream",
     "text": [
      "-- 6140_2_0 10 354\n"
     ]
    },
    {
     "name": "stderr",
     "output_type": "stream",
     "text": [
      "Self-intersection at or near point 4 1142\n"
     ]
    },
    {
     "name": "stdout",
     "output_type": "stream",
     "text": [
      "-- 6140_2_3 10 355\n"
     ]
    },
    {
     "name": "stderr",
     "output_type": "stream",
     "text": [
      "Self-intersection at or near point 3 1624\n"
     ]
    },
    {
     "name": "stdout",
     "output_type": "stream",
     "text": [
      "-- 6140_2_2 10 356\n"
     ]
    },
    {
     "name": "stderr",
     "output_type": "stream",
     "text": [
      "Self-intersection at or near point 376 4\n"
     ]
    },
    {
     "name": "stdout",
     "output_type": "stream",
     "text": [
      "-- 6140_2_4 10 357\n"
     ]
    },
    {
     "name": "stderr",
     "output_type": "stream",
     "text": [
      "Self-intersection at or near point 3391 1001\n"
     ]
    },
    {
     "name": "stdout",
     "output_type": "stream",
     "text": [
      "-- 6030_4_3 10 358\n"
     ]
    },
    {
     "name": "stderr",
     "output_type": "stream",
     "text": [
      "Self-intersection at or near point 1 552\n"
     ]
    },
    {
     "name": "stdout",
     "output_type": "stream",
     "text": [
      "-- 6030_4_2 10 359\n"
     ]
    },
    {
     "name": "stderr",
     "output_type": "stream",
     "text": [
      "Self-intersection at or near point 1 2635\n"
     ]
    },
    {
     "name": "stdout",
     "output_type": "stream",
     "text": [
      "-- 6030_4_1 10 360\n"
     ]
    },
    {
     "name": "stderr",
     "output_type": "stream",
     "text": [
      "Self-intersection at or near point 3400.6227501799858 2283.9611231101512\n"
     ]
    },
    {
     "name": "stdout",
     "output_type": "stream",
     "text": [
      "-- 6030_4_0 10 361\n"
     ]
    },
    {
     "name": "stderr",
     "output_type": "stream",
     "text": [
      "Self-intersection at or near point 1 3015\n"
     ]
    },
    {
     "name": "stdout",
     "output_type": "stream",
     "text": [
      "-- 6030_4_4 10 362\n",
      "-- 6130_3_4 10 363\n"
     ]
    },
    {
     "name": "stderr",
     "output_type": "stream",
     "text": [
      "Self-intersection at or near point 3390 1350\n"
     ]
    },
    {
     "name": "stdout",
     "output_type": "stream",
     "text": [
      "-- 6030_2_1 10 364\n",
      "-- 6030_2_0 10 365\n"
     ]
    },
    {
     "name": "stderr",
     "output_type": "stream",
     "text": [
      "Self-intersection at or near point 1901.1612903225807 3.838709677419355\n"
     ]
    },
    {
     "name": "stdout",
     "output_type": "stream",
     "text": [
      "-- 6030_2_3 10 366\n"
     ]
    },
    {
     "name": "stderr",
     "output_type": "stream",
     "text": [
      "Self-intersection at or near point 1 830\n"
     ]
    },
    {
     "name": "stdout",
     "output_type": "stream",
     "text": [
      "-- 6030_2_2 10 367\n"
     ]
    },
    {
     "name": "stderr",
     "output_type": "stream",
     "text": [
      "Ring Self-intersection at or near point 3401 812\n"
     ]
    },
    {
     "name": "stdout",
     "output_type": "stream",
     "text": [
      "-- 6030_2_4 10 368\n"
     ]
    },
    {
     "name": "stderr",
     "output_type": "stream",
     "text": [
      "Self-intersection at or near point 4 1145\n"
     ]
    },
    {
     "name": "stdout",
     "output_type": "stream",
     "text": [
      "-- 6090_3_2 10 369\n"
     ]
    },
    {
     "name": "stderr",
     "output_type": "stream",
     "text": [
      "Self-intersection at or near point 1 3047\n"
     ]
    },
    {
     "name": "stdout",
     "output_type": "stream",
     "text": [
      "-- 6090_3_3 10 370\n"
     ]
    },
    {
     "name": "stderr",
     "output_type": "stream",
     "text": [
      "Self-intersection at or near point 2031 1\n"
     ]
    },
    {
     "name": "stdout",
     "output_type": "stream",
     "text": [
      "-- 6090_3_0 10 371\n"
     ]
    },
    {
     "name": "stderr",
     "output_type": "stream",
     "text": [
      "Self-intersection at or near point 1646 2096\n"
     ]
    },
    {
     "name": "stdout",
     "output_type": "stream",
     "text": [
      "-- 6090_3_1 10 372\n"
     ]
    },
    {
     "name": "stderr",
     "output_type": "stream",
     "text": [
      "Self-intersection at or near point 2036 1\n"
     ]
    },
    {
     "name": "stdout",
     "output_type": "stream",
     "text": [
      "-- 6090_3_4 10 373\n"
     ]
    },
    {
     "name": "stderr",
     "output_type": "stream",
     "text": [
      "Self-intersection at or near point 3386.0702179176756 1962.3099273607747\n"
     ]
    },
    {
     "name": "stdout",
     "output_type": "stream",
     "text": [
      "-- 6080_3_4 10 374\n",
      "-- 6170_4_4 10 375\n"
     ]
    },
    {
     "name": "stderr",
     "output_type": "stream",
     "text": [
      "Self-intersection at or near point 3383.6666666666665 2772.6666666666665\n"
     ]
    },
    {
     "name": "stdout",
     "output_type": "stream",
     "text": [
      "-- 6080_3_1 10 376\n",
      "-- 6080_3_0 10 377\n",
      "-- 6080_3_3 10 378\n",
      "-- 6080_3_2 10 379\n",
      "-- 6160_4_1 10 380\n",
      "-- 6160_4_0 10 381\n",
      "-- 6160_4_3 10 382\n"
     ]
    },
    {
     "name": "stderr",
     "output_type": "stream",
     "text": [
      "Self-intersection at or near point 3391 3020\n"
     ]
    },
    {
     "name": "stdout",
     "output_type": "stream",
     "text": [
      "-- 6160_4_2 10 383\n"
     ]
    },
    {
     "name": "stderr",
     "output_type": "stream",
     "text": [
      "Self-intersection at or near point 3391 3314\n"
     ]
    },
    {
     "name": "stdout",
     "output_type": "stream",
     "text": [
      "-- 6160_4_4 10 384\n"
     ]
    },
    {
     "name": "stderr",
     "output_type": "stream",
     "text": [
      "Self-intersection at or near point 1804 1\n"
     ]
    },
    {
     "name": "stdout",
     "output_type": "stream",
     "text": [
      "-- 6080_1_3 10 385\n",
      "-- 6080_1_2 10 386\n",
      "-- 6080_1_1 10 387\n",
      "-- 6080_1_0 10 388\n",
      "-- 6080_1_4 10 389\n",
      "-- 6170_2_0 10 390\n",
      "-- 6170_2_1 10 391\n",
      "-- 6170_2_2 10 392\n"
     ]
    },
    {
     "name": "stderr",
     "output_type": "stream",
     "text": [
      "Ring Self-intersection at or near point 3391 1201\n"
     ]
    },
    {
     "name": "stdout",
     "output_type": "stream",
     "text": [
      "-- 6170_2_3 10 393\n"
     ]
    },
    {
     "name": "stderr",
     "output_type": "stream",
     "text": [
      "Self-intersection at or near point 4 2897\n"
     ]
    },
    {
     "name": "stdout",
     "output_type": "stream",
     "text": [
      "-- 6170_0_2 10 394\n"
     ]
    },
    {
     "name": "stderr",
     "output_type": "stream",
     "text": [
      "Self-intersection at or near point 3391 2675\n"
     ]
    },
    {
     "name": "stdout",
     "output_type": "stream",
     "text": [
      "-- 6170_0_3 10 395\n"
     ]
    },
    {
     "name": "stderr",
     "output_type": "stream",
     "text": [
      "Self-intersection at or near point 1 2148\n"
     ]
    },
    {
     "name": "stdout",
     "output_type": "stream",
     "text": [
      "-- 6170_0_0 10 396\n",
      "-- 6170_0_1 10 397\n"
     ]
    },
    {
     "name": "stderr",
     "output_type": "stream",
     "text": [
      "Self-intersection at or near point 3391 754\n"
     ]
    },
    {
     "name": "stdout",
     "output_type": "stream",
     "text": [
      "-- 6090_1_4 10 398\n"
     ]
    },
    {
     "name": "stderr",
     "output_type": "stream",
     "text": [
      "Self-intersection at or near point 3384 130\n"
     ]
    },
    {
     "name": "stdout",
     "output_type": "stream",
     "text": [
      "-- 6120_4_4 10 399\n"
     ]
    },
    {
     "name": "stderr",
     "output_type": "stream",
     "text": [
      "Self-intersection at or near point 1 945\n"
     ]
    },
    {
     "name": "stdout",
     "output_type": "stream",
     "text": [
      "-- 6090_1_0 10 400\n"
     ]
    },
    {
     "name": "stderr",
     "output_type": "stream",
     "text": [
      "Self-intersection at or near point 3391 2124\n"
     ]
    },
    {
     "name": "stdout",
     "output_type": "stream",
     "text": [
      "-- 6090_1_1 10 401\n"
     ]
    },
    {
     "name": "stderr",
     "output_type": "stream",
     "text": [
      "Self-intersection at or near point 3391 221\n"
     ]
    },
    {
     "name": "stdout",
     "output_type": "stream",
     "text": [
      "-- 6090_1_2 10 402\n"
     ]
    },
    {
     "name": "stderr",
     "output_type": "stream",
     "text": [
      "Self-intersection at or near point 3391 1884\n"
     ]
    },
    {
     "name": "stdout",
     "output_type": "stream",
     "text": [
      "-- 6090_1_3 10 403\n",
      "-- 6120_0_1 10 404\n"
     ]
    },
    {
     "name": "stderr",
     "output_type": "stream",
     "text": [
      "Self-intersection at or near point 1 1167\n"
     ]
    },
    {
     "name": "stdout",
     "output_type": "stream",
     "text": [
      "-- 6120_0_0 10 405\n",
      "-- 6030_1_4 10 406\n",
      "-- 6120_0_2 10 407\n"
     ]
    },
    {
     "name": "stderr",
     "output_type": "stream",
     "text": [
      "Self-intersection at or near point 3400.9905437352245 1992.9905437352245\n"
     ]
    },
    {
     "name": "stdout",
     "output_type": "stream",
     "text": [
      "-- 6030_1_2 10 408\n"
     ]
    },
    {
     "name": "stderr",
     "output_type": "stream",
     "text": [
      "Self-intersection at or near point 1 128\n"
     ]
    },
    {
     "name": "stdout",
     "output_type": "stream",
     "text": [
      "-- 6030_1_3 10 409\n",
      "-- 6030_1_0 10 410\n"
     ]
    },
    {
     "name": "stderr",
     "output_type": "stream",
     "text": [
      "Self-intersection at or near point 1 210\n"
     ]
    },
    {
     "name": "stdout",
     "output_type": "stream",
     "text": [
      "-- 6030_1_1 10 411\n"
     ]
    },
    {
     "name": "stderr",
     "output_type": "stream",
     "text": [
      "Self-intersection at or near point 2903.3333333333335 3.3333333333333335\n"
     ]
    },
    {
     "name": "stdout",
     "output_type": "stream",
     "text": [
      "-- 6130_3_1 10 412\n",
      "-- 6050_4_1 10 413\n",
      "-- 6130_3_3 10 414\n"
     ]
    },
    {
     "name": "stderr",
     "output_type": "stream",
     "text": [
      "Self-intersection at or near point 1790 1\n"
     ]
    },
    {
     "name": "stdout",
     "output_type": "stream",
     "text": [
      "-- 6130_3_2 10 415\n"
     ]
    },
    {
     "name": "stderr",
     "output_type": "stream",
     "text": [
      "Self-intersection at or near point 723 4\n"
     ]
    },
    {
     "name": "stdout",
     "output_type": "stream",
     "text": [
      "-- 6160_0_1 10 416\n",
      "-- 6160_0_0 10 417\n",
      "-- 6160_0_3 10 418\n",
      "-- 6160_0_2 10 419\n",
      "-- 6160_2_3 10 420\n",
      "-- 6160_2_2 10 421\n",
      "-- 6160_2_0 10 422\n",
      "-- 6160_2_4 10 423\n",
      "-- 6130_1_4 10 424\n"
     ]
    },
    {
     "name": "stderr",
     "output_type": "stream",
     "text": [
      "Self-intersection at or near point 2763 4\n"
     ]
    },
    {
     "name": "stdout",
     "output_type": "stream",
     "text": [
      "-- 6130_1_3 10 425\n"
     ]
    },
    {
     "name": "stderr",
     "output_type": "stream",
     "text": [
      "Self-intersection at or near point 2369 4\n"
     ]
    },
    {
     "name": "stdout",
     "output_type": "stream",
     "text": [
      "-- 6130_1_2 10 426\n"
     ]
    },
    {
     "name": "stderr",
     "output_type": "stream",
     "text": [
      "Self-intersection at or near point 1952.7254901960785 3.7254901960784315\n"
     ]
    },
    {
     "name": "stdout",
     "output_type": "stream",
     "text": [
      "-- 6130_1_1 10 427\n",
      "-- 6130_1_0 10 428\n"
     ]
    },
    {
     "name": "stderr",
     "output_type": "stream",
     "text": [
      "Self-intersection at or near point 1 515\n"
     ]
    }
   ],
   "source": [
    "submission_file = '../results/submission_' + str(datetime.now().strftime(\"%Y-%m-%d-%H-%M\")) + '.csv'\n",
    "rewrite_submission(CSV_FILE_NEW, submission_file, class_pp_func_list)"
   ]
  },
  {
   "cell_type": "code",
   "execution_count": 15,
   "metadata": {
    "collapsed": true
   },
   "outputs": [],
   "source": [
    "import pandas as pd"
   ]
  },
  {
   "cell_type": "code",
   "execution_count": 16,
   "metadata": {
    "collapsed": false
   },
   "outputs": [],
   "source": [
    "df1 = pd.read_csv(CSV_FILE_NEW)\n",
    "df2 = pd.read_csv(submission_file)"
   ]
  },
  {
   "cell_type": "code",
   "execution_count": 17,
   "metadata": {
    "collapsed": false
   },
   "outputs": [],
   "source": [
    "assert (df1['ImageId'] == df2['ImageId']).all(), \"WTF\"\n",
    "assert (df1['ClassType'] == df2['ClassType']).all(), \"WTF\""
   ]
  },
  {
   "cell_type": "code",
   "execution_count": 17,
   "metadata": {
    "collapsed": false
   },
   "outputs": [],
   "source": [
    "# assert (df1['MultipolygonWKT'] == df2['MultipolygonWKT']).all(), \"WTF\""
   ]
  },
  {
   "cell_type": "code",
   "execution_count": null,
   "metadata": {
    "collapsed": true
   },
   "outputs": [],
   "source": []
  },
  {
   "cell_type": "code",
   "execution_count": null,
   "metadata": {
    "collapsed": true
   },
   "outputs": [],
   "source": []
  },
  {
   "cell_type": "markdown",
   "metadata": {},
   "source": [
    "Find objects on image"
   ]
  },
  {
   "cell_type": "code",
   "execution_count": 53,
   "metadata": {
    "collapsed": false
   },
   "outputs": [
    {
     "name": "stdout",
     "output_type": "stream",
     "text": [
      "0 0 None\n",
      "1 6 Crops\n",
      "2 4 Track\n",
      "3 3 Road\n",
      "4 8 Standing water\n",
      "5 7 Waterway\n",
      "6 2 Misc. Manmade structures\n",
      "7 10 Vehicle Small\n",
      "8 9 Vehicle Large\n",
      "9 1 Buildings\n",
      "10 5 Trees\n"
     ]
    }
   ],
   "source": [
    "from data_utils import ORDERED_LABEL_IDS, get_resized_polygons\n",
    "\n",
    "for i, v in enumerate(ORDERED_LABEL_IDS):\n",
    "    print i, v, LABELS[v]\n",
    "    \n",
    "image_shape = get_image_data(image_id, '3b', return_shape_only=True)\n",
    "rpolygons = get_resized_polygons(image_id, *image_shape[:2])"
   ]
  },
  {
   "cell_type": "code",
   "execution_count": 55,
   "metadata": {
    "collapsed": false,
    "scrolled": false
   },
   "outputs": [
    {
     "name": "stdout",
     "output_type": "stream",
     "text": [
      "6 Crops 0\n",
      "4 Track 12\n",
      "3 Road 0\n",
      "8 Standing water 0\n",
      "7 Waterway 0\n",
      "2 Misc. Manmade structures 44\n",
      "10 Vehicle Small 0\n",
      "9 Vehicle Large 0\n",
      "1 Buildings 0\n",
      "5 Trees 1733\n"
     ]
    }
   ],
   "source": [
    "labels = None\n",
    "label_ids = ORDERED_LABEL_IDS if labels is None else [i for i in ORDERED_LABEL_IDS if i in labels]\n",
    "for i, class_type in enumerate(label_ids):\n",
    "    if class_type not in rpolygons:\n",
    "        continue\n",
    "    print class_type, LABELS[class_type], len(rpolygons[class_type])\n",
    "#     for polygon in rpolygons[class_type]:\n",
    "#         print polygon.centroid"
   ]
  },
  {
   "cell_type": "code",
   "execution_count": null,
   "metadata": {
    "collapsed": true
   },
   "outputs": [],
   "source": []
  },
  {
   "cell_type": "markdown",
   "metadata": {},
   "source": [
    "Visual data analysis"
   ]
  },
  {
   "cell_type": "code",
   "execution_count": null,
   "metadata": {
    "collapsed": true
   },
   "outputs": [],
   "source": []
  },
  {
   "cell_type": "code",
   "execution_count": null,
   "metadata": {
    "collapsed": true
   },
   "outputs": [],
   "source": []
  },
  {
   "cell_type": "code",
   "execution_count": null,
   "metadata": {
    "collapsed": true
   },
   "outputs": [],
   "source": []
  },
  {
   "cell_type": "code",
   "execution_count": null,
   "metadata": {
    "collapsed": true
   },
   "outputs": [],
   "source": []
  },
  {
   "cell_type": "code",
   "execution_count": null,
   "metadata": {
    "collapsed": true
   },
   "outputs": [],
   "source": []
  },
  {
   "cell_type": "markdown",
   "metadata": {},
   "source": [
    "Visualization"
   ]
  },
  {
   "cell_type": "markdown",
   "metadata": {},
   "source": [
    "Path continuation method\n",
    "\n",
    "```\n",
    "double getOrientation(vector<Point> &pts, Mat &img)\n",
    "{\n",
    "    //Construct a buffer used by the pca analysis\n",
    "    Mat data_pts = Mat(pts.size(), 2, CV_64FC1);\n",
    "    for (int i = 0; i < data_pts.rows; ++i)\n",
    "    {\n",
    "        data_pts.at<double>(i, 0) = pts[i].x;\n",
    "        data_pts.at<double>(i, 1) = pts[i].y;\n",
    "    }\n",
    " \n",
    "    //Perform PCA analysis\n",
    "    PCA pca_analysis(data_pts, Mat(), CV_PCA_DATA_AS_ROW);\n",
    " \n",
    "    //Store the position of the object\n",
    "    Point pos = Point(pca_analysis.mean.at<double>(0, 0),\n",
    "                      pca_analysis.mean.at<double>(0, 1));\n",
    " \n",
    "    //Store the eigenvalues and eigenvectors\n",
    "    vector<Point2d> eigen_vecs(2);\n",
    "    vector<double> eigen_val(2);\n",
    "    for (int i = 0; i < 2; ++i)\n",
    "    {\n",
    "        eigen_vecs[i] = Point2d(pca_analysis.eigenvectors.at<double>(i, 0),\n",
    "                                pca_analysis.eigenvectors.at<double>(i, 1));\n",
    " \n",
    "        eigen_val[i] = pca_analysis.eigenvalues.at<double>(0, i);\n",
    "    }\n",
    " \n",
    "    // Draw the principal components\n",
    "    circle(img, pos, 3, CV_RGB(255, 0, 255), 2);\n",
    "    line(img, pos, pos + 0.02 * Point(eigen_vecs[0].x * eigen_val[0], eigen_vecs[0].y * eigen_val[0]) , CV_RGB(255, 255, 0));\n",
    "    line(img, pos, pos + 0.02 * Point(eigen_vecs[1].x * eigen_val[1], eigen_vecs[1].y * eigen_val[1]) , CV_RGB(0, 255, 255));\n",
    " \n",
    "    return atan2(eigen_vecs[0].y, eigen_vecs[0].x);\n",
    "}\n",
    "```"
   ]
  },
  {
   "cell_type": "code",
   "execution_count": null,
   "metadata": {
    "collapsed": true
   },
   "outputs": [],
   "source": []
  },
  {
   "cell_type": "code",
   "execution_count": 45,
   "metadata": {
    "collapsed": true
   },
   "outputs": [],
   "source": [
    "image_id = '6010_1_2'\n",
    "data_csv = get_data_csv(image_id, CSV_FILE_NEW)"
   ]
  },
  {
   "cell_type": "code",
   "execution_count": 48,
   "metadata": {
    "collapsed": false
   },
   "outputs": [],
   "source": [
    "polygons = get_scaled_polygons(data_csv)\n",
    "y_pred_raw = compute_label_image(image_id, polygons)"
   ]
  },
  {
   "cell_type": "code",
   "execution_count": 69,
   "metadata": {
    "collapsed": false
   },
   "outputs": [],
   "source": [
    "for p in polygons[4]:    \n",
    "    if len(p.exterior.coords) > 4:\n",
    "        poly = p\n",
    "        break"
   ]
  },
  {
   "cell_type": "code",
   "execution_count": 75,
   "metadata": {
    "collapsed": false
   },
   "outputs": [
    {
     "data": {
      "image/svg+xml": [
       "<svg xmlns=\"http://www.w3.org/2000/svg\" xmlns:xlink=\"http://www.w3.org/1999/xlink\" width=\"100.0\" height=\"100.0\" viewBox=\"3258.16 1445.16 22.68 22.68\" preserveAspectRatio=\"xMinYMin meet\"><g transform=\"matrix(1,0,0,-1,0,2913.0)\"><path fill-rule=\"evenodd\" fill=\"#66cc99\" stroke=\"#555555\" stroke-width=\"0.4536\" opacity=\"0.6\" d=\"M 3259.0,1452.0 L 3268.0,1466.0 L 3280.0,1467.0 L 3271.0,1446.0 L 3259.0,1452.0 z\" /></g></svg>"
      ],
      "text/plain": [
       "<shapely.geometry.polygon.Polygon at 0x13a8d1850>"
      ]
     },
     "execution_count": 75,
     "metadata": {},
     "output_type": "execute_result"
    }
   ],
   "source": [
    "poly"
   ]
  },
  {
   "cell_type": "code",
   "execution_count": null,
   "metadata": {
    "collapsed": true
   },
   "outputs": [],
   "source": [
    "def pca(points, n_components=2):\n",
    "    covar, mean = cv2.calcCovarMatrix(points, None, cv2.COVAR_SCALE | cv2.COVAR_ROWS | cv2.COVAR_SCRAMBLED)\n",
    "    ret, e_vals, e_vecs = cv2.eigen(covar)\n",
    "    # Conversion + normalisation required due to 'scrambled' mode\n",
    "    e_vecs = cv2.gemm(e_vecs, points - mean, 1, None, 0)\n",
    "    # apply_along_axis() slices 1D rows, but normalize() returns 4x1 vectors\n",
    "    e_vecs = np.apply_along_axis(lambda n: cv2.normalize(n, None).flat, 1, e_vecs)\n",
    "    return e_vecs[:n_components,:], e_vals[:n_components,:], mean\n",
    "\n",
    "\n",
    "def linear_continuation(polygons):\n",
    "    \n",
    "    for p in polygons:\n",
    "        if len(p.exterior.coords) < 4:\n",
    "            continue\n",
    "            \n",
    "        mean = p.exterior.centroid\n",
    "        points = np.array(p.exterior.coords)\n",
    "        e_vecs, e_vals, _ = pca(points)\n",
    "    "
   ]
  },
  {
   "cell_type": "code",
   "execution_count": null,
   "metadata": {
    "collapsed": true
   },
   "outputs": [],
   "source": []
  },
  {
   "cell_type": "code",
   "execution_count": null,
   "metadata": {
    "collapsed": true
   },
   "outputs": [],
   "source": []
  },
  {
   "cell_type": "code",
   "execution_count": null,
   "metadata": {
    "collapsed": true
   },
   "outputs": [],
   "source": []
  },
  {
   "cell_type": "code",
   "execution_count": 71,
   "metadata": {
    "collapsed": false
   },
   "outputs": [
    {
     "data": {
      "text/plain": [
       "array([[ 3259.,  1452.],\n",
       "       [ 3268.,  1466.],\n",
       "       [ 3280.,  1467.],\n",
       "       [ 3271.,  1446.],\n",
       "       [ 3259.,  1452.]])"
      ]
     },
     "execution_count": 71,
     "metadata": {},
     "output_type": "execute_result"
    }
   ],
   "source": [
    "np.array(poly.exterior.coords)"
   ]
  },
  {
   "cell_type": "code",
   "execution_count": 94,
   "metadata": {
    "collapsed": false
   },
   "outputs": [],
   "source": [
    "def pca(points, n_components=2):\n",
    "    covar, mean = cv2.calcCovarMatrix(points, None, cv2.COVAR_SCALE | cv2.COVAR_ROWS | cv2.COVAR_SCRAMBLED)\n",
    "    ret, e_vals, e_vecs = cv2.eigen(covar)\n",
    "    # Conversion + normalisation required due to 'scrambled' mode\n",
    "    e_vecs = cv2.gemm(e_vecs, points - mean, 1, None, 0)\n",
    "    # apply_along_axis() slices 1D rows, but normalize() returns 4x1 vectors\n",
    "    e_vecs = np.apply_along_axis(lambda n: cv2.normalize(n, None).flat, 1, e_vecs)\n",
    "    return e_vecs[:n_components,:], e_vals[:n_components,:], mean"
   ]
  },
  {
   "cell_type": "code",
   "execution_count": 95,
   "metadata": {
    "collapsed": false
   },
   "outputs": [
    {
     "data": {
      "text/plain": [
       "(array([[ 0.66803756,  0.74412755],\n",
       "        [ 0.74412755, -0.66803756]]), array([[ 101.80475081],\n",
       "        [  31.07524919]]), array([[ 3267.4,  1456.6]]))"
      ]
     },
     "execution_count": 95,
     "metadata": {},
     "output_type": "execute_result"
    }
   ],
   "source": [
    "pca(np.array(poly.exterior.coords))"
   ]
  },
  {
   "cell_type": "code",
   "execution_count": 96,
   "metadata": {
    "collapsed": true
   },
   "outputs": [],
   "source": [
    "round_coords = lambda x: np.array(x).round().astype(np.int32)"
   ]
  },
  {
   "cell_type": "code",
   "execution_count": 97,
   "metadata": {
    "collapsed": false
   },
   "outputs": [
    {
     "data": {
      "text/plain": [
       "array([[ 59.,  52.],\n",
       "       [ 68.,  66.],\n",
       "       [ 80.,  67.],\n",
       "       [ 71.,  46.],\n",
       "       [ 59.,  52.]])"
      ]
     },
     "execution_count": 97,
     "metadata": {},
     "output_type": "execute_result"
    }
   ],
   "source": [
    "pts = np.array(poly.exterior.coords)\n",
    "pts -= np.array([3200,1400])\n",
    "pts"
   ]
  },
  {
   "cell_type": "code",
   "execution_count": 98,
   "metadata": {
    "collapsed": true
   },
   "outputs": [],
   "source": [
    "e_vecs, e_vals, mean = pca(pts)"
   ]
  },
  {
   "cell_type": "code",
   "execution_count": 103,
   "metadata": {
    "collapsed": false
   },
   "outputs": [
    {
     "data": {
      "text/plain": [
       "(array([[ 67.4,  56.6]]), array([[ 101.80475081],\n",
       "        [  31.07524919]]), array([[ 0.66803756,  0.74412755],\n",
       "        [ 0.74412755, -0.66803756]]))"
      ]
     },
     "execution_count": 103,
     "metadata": {},
     "output_type": "execute_result"
    }
   ],
   "source": [
    "mean, e_vals, e_vecs"
   ]
  },
  {
   "cell_type": "code",
   "execution_count": 104,
   "metadata": {
    "collapsed": false
   },
   "outputs": [
    {
     "data": {
      "text/plain": [
       "array([ True], dtype=bool)"
      ]
     },
     "execution_count": 104,
     "metadata": {},
     "output_type": "execute_result"
    }
   ],
   "source": [
    "e_vals[0] > 3 * e_vals[1]"
   ]
  },
  {
   "cell_type": "code",
   "execution_count": 107,
   "metadata": {
    "collapsed": false
   },
   "outputs": [
    {
     "data": {
      "text/plain": [
       "array([ 0.66803756,  0.74412755])"
      ]
     },
     "execution_count": 107,
     "metadata": {},
     "output_type": "execute_result"
    }
   ],
   "source": [
    "e_vecs[0]"
   ]
  },
  {
   "cell_type": "code",
   "execution_count": 173,
   "metadata": {
    "collapsed": false
   },
   "outputs": [],
   "source": [
    "img = np.zeros((100, 100), dtype=np.uint8)\n",
    "exterior = [round_coords(pts)]\n",
    "img = cv2.fillPoly(img, exterior, 255)"
   ]
  },
  {
   "cell_type": "code",
   "execution_count": 174,
   "metadata": {
    "collapsed": true
   },
   "outputs": [],
   "source": [
    "from visu_utils import plt_st, display_img_1b"
   ]
  },
  {
   "cell_type": "code",
   "execution_count": 183,
   "metadata": {
    "collapsed": false
   },
   "outputs": [],
   "source": [
    "pt1 = tuple(round_coords(mean)[0])\n",
    "pt2 = tuple(round_coords(pt1 + 50*e_vecs[0]))\n",
    "thickness = int(e_vals[1][0]) / 5"
   ]
  },
  {
   "cell_type": "code",
   "execution_count": 184,
   "metadata": {
    "collapsed": false
   },
   "outputs": [
    {
     "data": {
      "text/plain": [
       "((67, 57), (100, 94), 6)"
      ]
     },
     "execution_count": 184,
     "metadata": {},
     "output_type": "execute_result"
    }
   ],
   "source": [
    "tuple(pt1), tuple(pt2), thickness"
   ]
  },
  {
   "cell_type": "code",
   "execution_count": 185,
   "metadata": {
    "collapsed": false
   },
   "outputs": [],
   "source": [
    "img2 = cv2.line(img.copy(), pt1, pt2, 127, thickness=thickness)"
   ]
  },
  {
   "cell_type": "code",
   "execution_count": 186,
   "metadata": {
    "collapsed": false
   },
   "outputs": [
    {
     "data": {
      "image/png": "[encoded data removed]",
      "text/plain": [
       "<matplotlib.figure.Figure at 0x1432c9310>"
      ]
     },
     "metadata": {},
     "output_type": "display_data"
    }
   ],
   "source": [
    "plt_st(12, 6)\n",
    "plt.subplot(121)\n",
    "display_img_1b(img)\n",
    "plt.subplot(122)\n",
    "display_img_1b(img2)"
   ]
  },
  {
   "cell_type": "code",
   "execution_count": null,
   "metadata": {
    "collapsed": true
   },
   "outputs": [],
   "source": []
  },
  {
   "cell_type": "code",
   "execution_count": null,
   "metadata": {
    "collapsed": true
   },
   "outputs": [],
   "source": []
  },
  {
   "cell_type": "code",
   "execution_count": null,
   "metadata": {
    "collapsed": true
   },
   "outputs": [],
   "source": []
  },
  {
   "cell_type": "code",
   "execution_count": null,
   "metadata": {
    "collapsed": true
   },
   "outputs": [],
   "source": []
  },
  {
   "cell_type": "code",
   "execution_count": 25,
   "metadata": {
    "collapsed": false
   },
   "outputs": [
    {
     "data": {
      "text/plain": [
       "<matplotlib.text.Text at 0x2474cc18>"
      ]
     },
     "execution_count": 25,
     "metadata": {},
     "output_type": "execute_result"
    },
    {
     "data": {
      "image/png": "[encoded data removed]",
      "text/plain": [
       "<matplotlib.figure.Figure at 0x165bda20>"
      ]
     },
     "metadata": {},
     "output_type": "display_data"
    },
    {
     "data": {
      "image/png": "[encoded data removed]",
      "text/plain": [
       "<matplotlib.figure.Figure at 0x240708d0>"
      ]
     },
     "metadata": {},
     "output_type": "display_data"
    }
   ],
   "source": [
    "roi = None\n",
    "\n",
    "# roi = [3000, 0, 3300, 300]\n",
    "# roi = [0, 1500, 250, 1750]\n",
    "# roi = [500, 500, 1750, 1750]\n",
    "# roi = [750, 2750, 1350, 3300]\n",
    "\n",
    "index = 4\n",
    "if index in class_pp_func_list:\n",
    "    bin_img = class_pp_func_list[index](labels_image[:,:,index])\n",
    "else:\n",
    "    bin_img = labels_image[:,:,index]\n",
    "\n",
    "plt_st(16, 12)\n",
    "display_img_1b(image_3b[:,:,0], roi, no_colorbar=True)\n",
    "display_img_1b(bin_img, roi, alpha=0.3, clim=[0, 1], cmap='rainbow')\n",
    "\n",
    "plt_st(16, 12)\n",
    "plt.subplot(121)\n",
    "display_img_1b(image_3b[:,:,0], roi, no_colorbar=True)\n",
    "display_img_1b(labels_image[:,:,index], roi, alpha=0.7, clim=[0, 1], cmap='rainbow')\n",
    "plt.title(LABELS[index])\n",
    "plt.subplot(122)\n",
    "display_img_1b(image_3b[:,:,0], roi, no_colorbar=True)\n",
    "display_img_1b(bin_img, roi, alpha=0.7, clim=[0, 1], cmap='rainbow')\n",
    "plt.title(\"PP \" + LABELS[index])"
   ]
  },
  {
   "cell_type": "code",
   "execution_count": 26,
   "metadata": {
    "collapsed": true
   },
   "outputs": [],
   "source": [
    "def mask_postprocessing(labels_image, class_pp_func_list):\n",
    "    out = np.zeros_like(labels_image)\n",
    "    for i, l in enumerate(LABELS):\n",
    "        if i in class_pp_func_list:\n",
    "            out[:,:,i] = class_pp_func_list[i](labels_image[:,:,i])\n",
    "        else:\n",
    "            out[:,:,i] = labels_image[:,:,i]\n",
    "    return out"
   ]
  },
  {
   "cell_type": "code",
   "execution_count": 27,
   "metadata": {
    "collapsed": true,
    "deletable": true,
    "editable": true
   },
   "outputs": [],
   "source": [
    "from data_utils import mask_to_polygons\n",
    "\n",
    "def write_shp_from_mask(filename, image_id, labels_image):\n",
    "    all_scaled_polygons = {}\n",
    "    for class_index in range(1, len(LABELS[1:])):\n",
    "        polygons = mask_to_polygons(labels_image[:, :, class_index])\n",
    "        all_scaled_polygons[class_index] = polygons\n",
    "    write_shp_from_polygons(filename, image_id, all_scaled_polygons)    "
   ]
  },
  {
   "cell_type": "code",
   "execution_count": null,
   "metadata": {
    "collapsed": true
   },
   "outputs": [],
   "source": []
  },
  {
   "cell_type": "code",
   "execution_count": 465,
   "metadata": {
    "collapsed": false
   },
   "outputs": [],
   "source": [
    "pp_labels_image = mask_postprocessing(labels_image, class_pp_func_list)"
   ]
  },
  {
   "cell_type": "code",
   "execution_count": 466,
   "metadata": {
    "collapsed": true
   },
   "outputs": [
    {
     "name": "stderr",
     "output_type": "stream",
     "text": [
      "Self-intersection at or near point 2488.7408312958437 2092.7530562347188\n"
     ]
    },
    {
     "name": "stdout",
     "output_type": "stream",
     "text": [
      "Written succesfully file :  6120_2_1_pp.shp\n"
     ]
    }
   ],
   "source": [
    "write_shp_from_mask(\"%s_pp.shp\" % image_id, image_id, pp_labels_image)"
   ]
  },
  {
   "cell_type": "code",
   "execution_count": 18,
   "metadata": {
    "collapsed": true
   },
   "outputs": [
    {
     "name": "stdout",
     "output_type": "stream",
     "text": [
      "1\n",
      "2\n",
      "3\n",
      "4\n",
      "5\n",
      "6\n",
      "7\n",
      "8\n",
      "9\n",
      "10\n"
     ]
    }
   ],
   "source": [
    "for class_index in range(1, len(LABELS)):\n",
    "    print class_index"
   ]
  },
  {
   "cell_type": "code",
   "execution_count": null,
   "metadata": {
    "collapsed": true
   },
   "outputs": [],
   "source": []
  },
  {
   "cell_type": "code",
   "execution_count": null,
   "metadata": {
    "collapsed": true
   },
   "outputs": [],
   "source": []
  },
  {
   "cell_type": "code",
   "execution_count": null,
   "metadata": {
    "collapsed": true
   },
   "outputs": [],
   "source": []
  },
  {
   "cell_type": "code",
   "execution_count": null,
   "metadata": {
    "collapsed": true
   },
   "outputs": [],
   "source": []
  }
 ],
 "metadata": {
  "kernelspec": {
   "display_name": "Python 2",
   "language": "python",
   "name": "python2"
  },
  "language_info": {
   "codemirror_mode": {
    "name": "ipython",
    "version": 2
   },
   "file_extension": ".py",
   "mimetype": "text/x-python",
   "name": "python",
   "nbconvert_exporter": "python",
   "pygments_lexer": "ipython2",
   "version": "2.7.13"
  }
 },
 "nbformat": 4,
 "nbformat_minor": 2
}
